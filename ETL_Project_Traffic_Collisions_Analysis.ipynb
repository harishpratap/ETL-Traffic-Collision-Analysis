{
 "cells": [
  {
   "cell_type": "markdown",
   "metadata": {
    "id": "xniekxi-cXZB"
   },
   "source": [
    "# Traffic Collision Data Analysis"
   ]
  },
  {
   "cell_type": "markdown",
   "metadata": {
    "id": "CaFEMotqcXXo"
   },
   "source": [
    "# Objective\n",
    "\n",
    "In this case study, you will be working on California Traffic Collision Data Analysis using Apache Spark, a powerful distributed computing framework designed for big data processing. This assignment aims to provide hands-on experience in analyzing large-scale traffic collision datasets using PySpark and AWS services. You will apply data analytics techniques to clean, transform, and explore crash data, drawing meaningful insights to support traffic safety and urban planning. Beyond understanding how big data tools optimize performance on a single machine and across clusters, you will develop a structured approach to analyzing crash trends, identifying high-risk locations, and evaluating contributing factors to traffic incidents. Additionally, you will utilize AWS S3 to store the processed data efficiently after the ETL process, enabling scalable storage and easy retrieval for further analysis.\n"
   ]
  },
  {
   "cell_type": "markdown",
   "metadata": {
    "id": "s-wICNZacXUL"
   },
   "source": [
    "# Business Value:\n",
    "\n",
    "Traffic collisions pose significant risks to public safety, requiring continuous monitoring and analysis to enhance road safety measures. Government agencies, city planners, and policymakers must leverage data-driven insights to improve infrastructure, optimize traffic management, and implement preventive measures.\n",
    "\n",
    "In this assignment, you will analyze California traffic collision data to uncover patterns related to accident severity, location-based risks, and key contributing factors. With Apache Spark's ability to handle large datasets efficiently and AWS S3's scalable storage, transportation authorities can process vast amounts of crash data in real time, enabling faster and more informed decision-making.\n",
    "\n",
    "As an analyst examining traffic safety trends, your task is to analyze historical crash data to derive actionable insights that can drive policy improvements and safety interventions. Your analysis will help identify high-risk areas, categorize accidents by severity and contributing factors, and store the processed data in an AWS S3 bucket for scalable and long-term storage.\n",
    "\n",
    "By leveraging big data analytics and cloud-based storage, urban planners and traffic authorities can enhance road safety strategies, reduce accident rates, and improve public transportation planning.\n"
   ]
  },
  {
   "cell_type": "markdown",
   "metadata": {
    "id": "-l9h-YYdcXPP"
   },
   "source": [
    "# Dataset Overview\n",
    "\n",
    "The dataset used in this analysis consists of California traffic collision data obtained from the Statewide Integrated Traffic Records System (SWITRS). It includes detailed records of traffic incidents across California, covering various attributes such as location, severity, involved parties, and contributing factors. The dataset has been preprocessed and transformed using PySpark to facilitate large-scale analysis. By leveraging Apache Spark, we ensure efficient data handling, enabling deeper insights into traffic patterns, accident trends, and potential safety improvements."
   ]
  },
  {
   "cell_type": "markdown",
   "metadata": {
    "id": "BphT7j-ocXHh"
   },
   "source": [
    "The dataset is a .sqlite file contains detailed information about traffic collisions across California and is structured into four primary tables:\n",
    "- `collisions` table contains information about the collision, where it happened, what vehicles were involved.\n",
    "\n",
    "- `parties` table contains information about the groups people involved in the collision including age, sex, and sobriety.\n",
    "\n",
    "- `victims` table contains information about the injuries of specific people involved in the collision.\n",
    "\n",
    "- `locations` table contains information about the geographical location and details of road intersections."
   ]
  },
  {
   "cell_type": "markdown",
   "metadata": {
    "id": "RRZctA56_ryO"
   },
   "source": [
    "# Assignment Tasks\n",
    "\n",
    "<ol>\n",
    "    <li>\n",
    "        <strong>Data Preparation</strong></br>\n",
    "        The dataset consists of structured tables containing traffic collision data. Before conducting any analysis, it is essential to ensure that the data is properly formatted and structured for efficient processing.</br>\n",
    "        Check for data consistency and ensure all columns are correctly formatted.</br>\n",
    "        Apply sampling techniques if needed to extract a representative subset for analysis.</br>\n",
    "        Structure and prepare the data for further processing and analysis.</br>\n",
    "    </br>\n",
    "    <li>\n",
    "        <strong>Data Cleaning</strong></br>\n",
    "            2.1 <strong>Fixing Columns:</strong> Ensure all columns are properly named and formatted.</br>\n",
    "            2.2 <strong>Handling Missing Values:</strong> Decide on an approach to handle missing data (e.g., imputation or removal). Mention the approach in your report.</br>\n",
    "            2.3 <strong>Handling Outliers:</strong> Identify outliers in the dataset and explain why they are considered outliers. It is not necessary to remove them for this task, but mention your approach for handling them.</br>\n",
    "    </br>\n",
    "    <li>\n",
    "        <strong>Exploratory Data Analysis</strong></br>\n",
    "        Finding Patterns and analyze the dataset and find patterns based on the following points:\n",
    "                <ul>\n",
    "                3.1 Classify variables into categorical and numerical types.</br>\n",
    "                3.2 Analyze the distribution of collision severity.</br>\n",
    "                3.3 Examine weather conditions during collisions.</br>\n",
    "                3.4 Analyze the distribution of victim ages.</br>\n",
    "                3.5 Study the relationship between collision severity and the number of victims.</br>\n",
    "                3.6 Analyze the correlation between weather conditions and collision severity.</br>\n",
    "                3.7 Visualize the impact of lighting conditions on collision severity.</br>\n",
    "                3.8 Extract and analyze weekday-wise collision trends.</br>\n",
    "                3.9 Assess the number of collisions occurring on different days of the week.</br>\n",
    "                3.10 Study spatial distribution of collisions by county.</br>\n",
    "                3.11 Generate a scatter plot to analyze collision locations geographically.</br>\n",
    "                3.12 Extract and analyze collision trends over time, including yearly, monthly, and hourly trends.</br>\n",
    "</ul>\n",
    "</br>\n",
    "<li>\n",
    "<strong>ETL Querying</strong><br>\n",
    "Write PySpark SQL queries for the following:</br>\n",
    "<ol>\n",
    "    4.1. Load the processed dataset as CSV files in S3 bucket.</br>\n",
    "    4.2. Identify the top 5 counties with the highest number of collisions.</br>\n",
    "    4.3. Identify the month with the highest number of collisions.</br>\n",
    "    4.4. Determine the most common weather condition during collisions.</br>\n",
    "    4.5. Calculate the percentage of collisions that resulted in fatalities.</br>\n",
    "    4.6. Find the most dangerous time of day for collisions.</br>\n",
    "    4.7. Identify the top 5 road surface conditions with the highest collision frequency.</br>\n",
    "    4.8. Analyze lighting conditions that contribute to the highest number of collisions.</br>\n",
    "</ol>\n",
    "</br>\n",
    "<li>\n",
    "<strong>Conclusion</strong></br>\n",
    "Provide final insights and recommendations based on the analysis:\n",
    "    <ul>\n",
    "        5.1 Recommendations to improve road safety by identifying high-risk locations and peak accident times for infrastructure improvements.</br>\n",
    "        5.2 Suggestions to optimize traffic management by analyzing trends in collision severity, weather conditions, and lighting to improve road design and traffic signal timing.</br>\n",
    "        5.3 Propose data-driven policy changes to enhance pedestrian and cyclist safety based on collision trends involving vulnerable road users.</br>\n",
    "        5.4 Identify potential high-risk zones for proactive intervention by examining geographic collision density and historical accident data.</br>\n",
    "        5.5 Assess the impact of environmental factors such as weather, road surface conditions, and lighting on accident frequency and severity.</br>\n",
    "        5.6 Develop predictive models to anticipate collision hotspots and support proactive safety measures.</br>\n",
    "        </ul>\n",
    "        Conclude the analysis by summarizing key findings and business implications.</br>\n",
    "        Explain the results of univariate, segmented univariate, and bivariate analyses in real-world traffic safety and policy terms.</br>\n",
    "        Include visualizations and summarize the most important results in the report. Insights should explain why each variable is important and how they can influence traffic safety policies and urban planning.</br>\n",
    "        </ul>\n",
    "        </br>\n",
    "    <li>\n",
    "    <strong>Visualization Integration [Optional]</strong>\n",
    "    <p>Enhance the project by incorporating a visualization component that connects the processed data stored in an S3 bucket to a business intelligence tool such as Tableau or Power BI. This involves setting up the connection between the S3 bucket and the chosen visualization tool, importing the processed dataset for analysis and visualization, creating interactive dashboards to explore key trends and insights and ensuring data updates are reflected dynamically in the visualization tool.<br>\n",
    "</br>\n",
    "</ol>"
   ]
  },
  {
   "cell_type": "code",
   "execution_count": 1,
   "metadata": {
    "execution": {
     "iopub.execute_input": "2025-06-15T11:58:21.717399Z",
     "iopub.status.busy": "2025-06-15T11:58:21.717052Z",
     "iopub.status.idle": "2025-06-15T11:58:53.359342Z",
     "shell.execute_reply": "2025-06-15T11:58:53.358299Z",
     "shell.execute_reply.started": "2025-06-15T11:58:21.717367Z"
    },
    "id": "ghk65qxBlktK",
    "tags": []
   },
   "outputs": [
    {
     "data": {
      "application/vnd.jupyter.widget-view+json": {
       "model_id": "6f6026fe38e1480190d2706dcd9a8f25",
       "version_major": 2,
       "version_minor": 0
      },
      "text/plain": [
       "VBox()"
      ]
     },
     "metadata": {},
     "output_type": "display_data"
    },
    {
     "name": "stdout",
     "output_type": "stream",
     "text": [
      "Starting Spark application\n"
     ]
    },
    {
     "data": {
      "text/html": [
       "<table>\n",
       "<tbody><tr><th>ID</th><th>YARN Application ID</th><th>Kind</th><th>State</th><th>Spark UI</th><th>Driver log</th><th>User</th><th>Current session?</th></tr><tr><td>3</td><td>application_1749980141199_0004</td><td>pyspark</td><td>idle</td><td><a target=\"_blank\" href=\"http://ip-172-31-53-55.ec2.internal:20888/proxy/application_1749980141199_0004/\" class=\"emr-proxy-link j-T6ZFOE3JI7NI application_1749980141199_0004\" emr-resource=\"j-T6ZFOE3JI7NI\n",
       "\" application-id=\"application_1749980141199_0004\">Link</a></td><td><a target=\"_blank\" href=\"http://ip-172-31-59-178.ec2.internal:8042/node/containerlogs/container_1749980141199_0004_01_000001/livy\">Link</a></td><td>None</td><td>✔</td></tr></tbody></table>"
      ],
      "text/plain": [
       "<IPython.core.display.HTML object>"
      ]
     },
     "metadata": {},
     "output_type": "display_data"
    },
    {
     "data": {
      "application/vnd.jupyter.widget-view+json": {
       "model_id": "",
       "version_major": 2,
       "version_minor": 0
      },
      "text/plain": [
       "FloatProgress(value=0.0, bar_style='info', description='Progress:', layout=Layout(height='25px', width='50%'),…"
      ]
     },
     "metadata": {},
     "output_type": "display_data"
    },
    {
     "name": "stdout",
     "output_type": "stream",
     "text": [
      "SparkSession available as 'spark'.\n"
     ]
    },
    {
     "data": {
      "application/vnd.jupyter.widget-view+json": {
       "model_id": "",
       "version_major": 2,
       "version_minor": 0
      },
      "text/plain": [
       "FloatProgress(value=0.0, bar_style='info', description='Progress:', layout=Layout(height='25px', width='50%'),…"
      ]
     },
     "metadata": {},
     "output_type": "display_data"
    }
   ],
   "source": [
    "#from google.colab import drive\n",
    "#drive.mount('/content/drive')"
   ]
  },
  {
   "cell_type": "markdown",
   "metadata": {
    "id": "1gK6V4F0n4zT"
   },
   "source": [
    "Install Required Libraries"
   ]
  },
  {
   "cell_type": "code",
   "execution_count": 2,
   "metadata": {
    "execution": {
     "iopub.execute_input": "2025-06-15T11:58:53.360967Z",
     "iopub.status.busy": "2025-06-15T11:58:53.360740Z",
     "iopub.status.idle": "2025-06-15T11:58:53.420074Z",
     "shell.execute_reply": "2025-06-15T11:58:53.419106Z",
     "shell.execute_reply.started": "2025-06-15T11:58:53.360937Z"
    },
    "id": "HcipMrten2L_",
    "tags": []
   },
   "outputs": [
    {
     "data": {
      "application/vnd.jupyter.widget-view+json": {
       "model_id": "8e1eccfebfc84f2699dec658d8bd2793",
       "version_major": 2,
       "version_minor": 0
      },
      "text/plain": [
       "VBox()"
      ]
     },
     "metadata": {},
     "output_type": "display_data"
    },
    {
     "data": {
      "application/vnd.jupyter.widget-view+json": {
       "model_id": "",
       "version_major": 2,
       "version_minor": 0
      },
      "text/plain": [
       "FloatProgress(value=0.0, bar_style='info', description='Progress:', layout=Layout(height='25px', width='50%'),…"
      ]
     },
     "metadata": {},
     "output_type": "display_data"
    }
   ],
   "source": [
    "## Install the required libraries\n",
    "#pip install --quiet pyspark==3.5.4 pandas==2.2.2"
   ]
  },
  {
   "cell_type": "code",
   "execution_count": 1,
   "metadata": {
    "execution": {
     "iopub.execute_input": "2025-06-16T04:31:29.346161Z",
     "iopub.status.busy": "2025-06-16T04:31:29.345818Z",
     "iopub.status.idle": "2025-06-16T04:32:23.715141Z",
     "shell.execute_reply": "2025-06-16T04:32:23.714207Z",
     "shell.execute_reply.started": "2025-06-16T04:31:29.346129Z"
    },
    "id": "W8gwBP3PoZsl",
    "tags": []
   },
   "outputs": [
    {
     "data": {
      "application/vnd.jupyter.widget-view+json": {
       "model_id": "d3ba08be8b0b4e3b9f951ea80d438d0f",
       "version_major": 2,
       "version_minor": 0
      },
      "text/plain": [
       "VBox()"
      ]
     },
     "metadata": {},
     "output_type": "display_data"
    },
    {
     "name": "stdout",
     "output_type": "stream",
     "text": [
      "Starting Spark application\n"
     ]
    },
    {
     "data": {
      "text/html": [
       "<table>\n<tbody><tr><th>ID</th><th>YARN Application ID</th><th>Kind</th><th>State</th><th>Spark UI</th><th>Driver log</th><th>User</th><th>Current session?</th></tr><tr><td>0</td><td>application_1750047624723_0001</td><td>pyspark</td><td>idle</td><td><a target=\"_blank\" href=\"http://ip-172-31-61-243.ec2.internal:20888/proxy/application_1750047624723_0001/\" class=\"emr-proxy-link j-LZ9JF77OBFRC application_1750047624723_0001\" emr-resource=\"j-LZ9JF77OBFRC\n\" application-id=\"application_1750047624723_0001\">Link</a></td><td><a target=\"_blank\" href=\"http://ip-172-31-57-233.ec2.internal:8042/node/containerlogs/container_1750047624723_0001_01_000001/livy\">Link</a></td><td>None</td><td>✔</td></tr></tbody></table>"
      ],
      "text/plain": [
       "<IPython.core.display.HTML object>"
      ]
     },
     "metadata": {},
     "output_type": "display_data"
    },
    {
     "data": {
      "application/vnd.jupyter.widget-view+json": {
       "model_id": "",
       "version_major": 2,
       "version_minor": 0
      },
      "text/plain": [
       "FloatProgress(value=0.0, bar_style='info', description='Progress:', layout=Layout(height='25px', width='50%'),…"
      ]
     },
     "metadata": {},
     "output_type": "display_data"
    },
    {
     "name": "stdout",
     "output_type": "stream",
     "text": [
      "SparkSession available as 'spark'.\n"
     ]
    },
    {
     "data": {
      "application/vnd.jupyter.widget-view+json": {
       "model_id": "",
       "version_major": 2,
       "version_minor": 0
      },
      "text/plain": [
       "FloatProgress(value=0.0, bar_style='info', description='Progress:', layout=Layout(height='25px', width='50%'),…"
      ]
     },
     "metadata": {},
     "output_type": "display_data"
    }
   ],
   "source": [
    "# Import the necessary libraries\n",
    "import sqlite3\n",
    "import pandas as pd\n",
    "from pyspark.sql import SparkSession\n",
    "from pyspark.sql.functions import col, sum, to_date"
   ]
  },
  {
   "cell_type": "markdown",
   "metadata": {
    "id": "3zDiIEhHPWco"
   },
   "source": [
    "#**1. Data Preparation** <font color = red>[5 marks]</font> <br>\n",
    "\n",
    "The dataset consists of structured tables containing traffic collision data.\n",
    "\n",
    "Before conducting any analysis, it is essential to ensure that the data is properly formatted and structured for efficient processing.\n",
    "\n",
    "Check for data consistency and ensure all columns are correctly formatted."
   ]
  },
  {
   "cell_type": "code",
   "execution_count": 2,
   "metadata": {
    "execution": {
     "iopub.execute_input": "2025-06-16T04:32:23.716926Z",
     "iopub.status.busy": "2025-06-16T04:32:23.716708Z",
     "iopub.status.idle": "2025-06-16T04:32:37.126619Z",
     "shell.execute_reply": "2025-06-16T04:32:37.125698Z",
     "shell.execute_reply.started": "2025-06-16T04:32:23.716897Z"
    },
    "id": "NnrbDNsdoe1p",
    "tags": []
   },
   "outputs": [
    {
     "data": {
      "application/vnd.jupyter.widget-view+json": {
       "model_id": "832f508be1414e91b7a3e89e8a0c9e06",
       "version_major": 2,
       "version_minor": 0
      },
      "text/plain": [
       "VBox()"
      ]
     },
     "metadata": {},
     "output_type": "display_data"
    },
    {
     "data": {
      "application/vnd.jupyter.widget-view+json": {
       "model_id": "",
       "version_major": 2,
       "version_minor": 0
      },
      "text/plain": [
       "FloatProgress(value=0.0, bar_style='info', description='Progress:', layout=Layout(height='25px', width='50%'),…"
      ]
     },
     "metadata": {},
     "output_type": "display_data"
    },
    {
     "name": "stdout",
     "output_type": "stream",
     "text": [
      "Schema for sample_case_ids.csv:\n",
      "root\n",
      " |-- case_id: string (nullable = true)\n",
      " |-- db_year: string (nullable = true)\n",
      "\n",
      "\n",
      "Schema for sample_collisions.csv:\n",
      "root\n",
      " |-- case_id: string (nullable = true)\n",
      " |-- jurisdiction: string (nullable = true)\n",
      " |-- officer_id: string (nullable = true)\n",
      " |-- reporting_district: string (nullable = true)\n",
      " |-- chp_shift: string (nullable = true)\n",
      " |-- population: string (nullable = true)\n",
      " |-- county_city_location: string (nullable = true)\n",
      " |-- county_location: string (nullable = true)\n",
      " |-- special_condition: string (nullable = true)\n",
      " |-- beat_type: string (nullable = true)\n",
      " |-- chp_beat_type: string (nullable = true)\n",
      " |-- chp_beat_class: string (nullable = true)\n",
      " |-- beat_number: string (nullable = true)\n",
      " |-- primary_road: string (nullable = true)\n",
      " |-- secondary_road: string (nullable = true)\n",
      " |-- distance: string (nullable = true)\n",
      " |-- direction: string (nullable = true)\n",
      " |-- intersection: string (nullable = true)\n",
      " |-- weather_1: string (nullable = true)\n",
      " |-- state_highway_indicator: string (nullable = true)\n",
      " |-- caltrans_county: string (nullable = true)\n",
      " |-- caltrans_district: string (nullable = true)\n",
      " |-- state_route: string (nullable = true)\n",
      " |-- postmile: string (nullable = true)\n",
      " |-- location_type: string (nullable = true)\n",
      " |-- side_of_highway: string (nullable = true)\n",
      " |-- tow_away: string (nullable = true)\n",
      " |-- collision_severity: string (nullable = true)\n",
      " |-- killed_victims: string (nullable = true)\n",
      " |-- injured_victims: string (nullable = true)\n",
      " |-- party_count: string (nullable = true)\n",
      " |-- primary_collision_factor: string (nullable = true)\n",
      " |-- pcf_violation_category: string (nullable = true)\n",
      " |-- pcf_violation: string (nullable = true)\n",
      " |-- pcf_violation_subsection: string (nullable = true)\n",
      " |-- hit_and_run: string (nullable = true)\n",
      " |-- type_of_collision: string (nullable = true)\n",
      " |-- motor_vehicle_involved_with: string (nullable = true)\n",
      " |-- pedestrian_action: string (nullable = true)\n",
      " |-- road_surface: string (nullable = true)\n",
      " |-- road_condition_1: string (nullable = true)\n",
      " |-- lighting: string (nullable = true)\n",
      " |-- control_device: string (nullable = true)\n",
      " |-- chp_road_type: string (nullable = true)\n",
      " |-- pedestrian_collision: string (nullable = true)\n",
      " |-- bicycle_collision: string (nullable = true)\n",
      " |-- motorcycle_collision: string (nullable = true)\n",
      " |-- truck_collision: string (nullable = true)\n",
      " |-- not_private_property: string (nullable = true)\n",
      " |-- statewide_vehicle_type_at_fault: string (nullable = true)\n",
      " |-- chp_vehicle_type_at_fault: string (nullable = true)\n",
      " |-- severe_injury_count: string (nullable = true)\n",
      " |-- other_visible_injury_count: string (nullable = true)\n",
      " |-- complaint_of_pain_injury_count: string (nullable = true)\n",
      " |-- pedestrian_killed_count: string (nullable = true)\n",
      " |-- pedestrian_injured_count: string (nullable = true)\n",
      " |-- bicyclist_killed_count: string (nullable = true)\n",
      " |-- bicyclist_injured_count: string (nullable = true)\n",
      " |-- motorcyclist_killed_count: string (nullable = true)\n",
      " |-- motorcyclist_injured_count: string (nullable = true)\n",
      " |-- latitude: string (nullable = true)\n",
      " |-- longitude: string (nullable = true)\n",
      " |-- collision_date: string (nullable = true)\n",
      " |-- collision_time: string (nullable = true)\n",
      " |-- process_date: string (nullable = true)\n",
      "\n",
      "\n",
      "Schema for sample_parties.csv:\n",
      "root\n",
      " |-- id: string (nullable = true)\n",
      " |-- case_id: string (nullable = true)\n",
      " |-- party_number: string (nullable = true)\n",
      " |-- party_type: string (nullable = true)\n",
      " |-- at_fault: string (nullable = true)\n",
      " |-- party_sex: string (nullable = true)\n",
      " |-- party_age: string (nullable = true)\n",
      " |-- party_sobriety: string (nullable = true)\n",
      " |-- direction_of_travel: string (nullable = true)\n",
      " |-- party_safety_equipment_1: string (nullable = true)\n",
      " |-- party_safety_equipment_2: string (nullable = true)\n",
      " |-- financial_responsibility: string (nullable = true)\n",
      " |-- cellphone_in_use: string (nullable = true)\n",
      " |-- cellphone_use_type: string (nullable = true)\n",
      " |-- other_associate_factor_1: string (nullable = true)\n",
      " |-- party_number_killed: string (nullable = true)\n",
      " |-- party_number_injured: string (nullable = true)\n",
      " |-- movement_preceding_collision: string (nullable = true)\n",
      " |-- vehicle_year: string (nullable = true)\n",
      " |-- vehicle_make: string (nullable = true)\n",
      " |-- statewide_vehicle_type: string (nullable = true)\n",
      " |-- chp_vehicle_type_towing: string (nullable = true)\n",
      " |-- chp_vehicle_type_towed: string (nullable = true)\n",
      " |-- party_race: string (nullable = true)\n",
      "\n",
      "\n",
      "Schema for sample_victims.csv:\n",
      "root\n",
      " |-- id: string (nullable = true)\n",
      " |-- case_id: string (nullable = true)\n",
      " |-- party_number: string (nullable = true)\n",
      " |-- victim_role: string (nullable = true)\n",
      " |-- victim_sex: string (nullable = true)\n",
      " |-- victim_age: string (nullable = true)\n",
      " |-- victim_degree_of_injury: string (nullable = true)\n",
      " |-- victim_seating_position: string (nullable = true)\n",
      " |-- victim_safety_equipment_1: string (nullable = true)\n",
      " |-- victim_safety_equipment_2: string (nullable = true)\n",
      " |-- victim_ejected: string (nullable = true)"
     ]
    }
   ],
   "source": [
    "# Write code to load the data and check the schema\n",
    "\n",
    "# Step 1: Create a Spark session\n",
    "# spark = SparkSession.builder \\\n",
    "#     .appName(\"Load Traffic Data\") \\\n",
    "#     .getOrCreate()\n",
    "spark = SparkSession.builder \\\n",
    "    .appName(\"LocalSparkApp\") \\\n",
    "    .master(\"local[*]\") \\\n",
    "    .config(\"spark.driver.memory\", \"4g\") \\\n",
    "    .config(\"spark.executor.memory\", \"4g\") \\\n",
    "    .config(\"spark.driver.maxResultSize\", \"2g\") \\\n",
    "    .getOrCreate()\n",
    "spark.sparkContext.setLogLevel(\"ERROR\")\n",
    "\n",
    "# Step 2: Define S3 file paths (replace with your actual S3 bucket name and paths)\n",
    "case_ids_path = \"s3://traffic-collisions-bucket/sample_case_ids.csv\"\n",
    "collisions_path = \"s3://traffic-collisions-bucket/sample_collisions.csv\"\n",
    "parties_path = \"s3://traffic-collisions-bucket/sample_parties.csv\"\n",
    "victims_path = \"s3://traffic-collisions-bucket/sample_victims.csv\"\n",
    "\n",
    "\n",
    "# Step 2: Define file paths\n",
    "#case_ids_path = \"sample_case_ids.csv\"\n",
    "#collisions_path = \"sample_collisions.csv\"\n",
    "#parties_path = \"sample_parties.csv\"\n",
    "#victims_path = \"sample_victims.csv\"\n",
    "\n",
    "# Step 3: Read CSV files with header and inferred schema\n",
    "# Load the CSV files into DataFrames\n",
    "case_ids_df = spark.read.option(\"header\", True).csv(case_ids_path)\n",
    "collisions_df = spark.read.option(\"header\", True).csv(collisions_path)\n",
    "parties_df = spark.read.option(\"header\", True).csv(parties_path)\n",
    "victims_df = spark.read.option(\"header\", True).csv(victims_path)\n",
    "\n",
    "# Step 4: Print schema for each DataFrame\n",
    "print(\"Schema for sample_case_ids.csv:\")\n",
    "case_ids_df.printSchema()\n",
    "\n",
    "print(\"\\nSchema for sample_collisions.csv:\")\n",
    "collisions_df.printSchema()\n",
    "\n",
    "print(\"\\nSchema for sample_parties.csv:\")\n",
    "parties_df.printSchema()\n",
    "\n",
    "print(\"\\nSchema for sample_victims.csv:\")\n",
    "victims_df.printSchema()\n"
   ]
  },
  {
   "cell_type": "markdown",
   "metadata": {
    "id": "kAM9ZgH_qfRL"
   },
   "source": [
    "#**2. Data Cleaning** <font color = red>[20 marks]</font> <br>\n"
   ]
  },
  {
   "cell_type": "code",
   "execution_count": 3,
   "metadata": {
    "execution": {
     "iopub.execute_input": "2025-06-16T04:32:37.128850Z",
     "iopub.status.busy": "2025-06-16T04:32:37.128635Z",
     "iopub.status.idle": "2025-06-16T04:32:40.624502Z",
     "shell.execute_reply": "2025-06-16T04:32:40.623465Z",
     "shell.execute_reply.started": "2025-06-16T04:32:37.128820Z"
    },
    "id": "k_jMLLutpNf-",
    "tags": []
   },
   "outputs": [
    {
     "data": {
      "application/vnd.jupyter.widget-view+json": {
       "model_id": "b8cdaeded40a4802af3e744d489c45f0",
       "version_major": 2,
       "version_minor": 0
      },
      "text/plain": [
       "VBox()"
      ]
     },
     "metadata": {},
     "output_type": "display_data"
    },
    {
     "data": {
      "application/vnd.jupyter.widget-view+json": {
       "model_id": "",
       "version_major": 2,
       "version_minor": 0
      },
      "text/plain": [
       "FloatProgress(value=0.0, bar_style='info', description='Progress:', layout=Layout(height='25px', width='50%'),…"
      ]
     },
     "metadata": {},
     "output_type": "display_data"
    },
    {
     "name": "stdout",
     "output_type": "stream",
     "text": [
      "\n",
      "Schema for case_ids:\n",
      "root\n",
      " |-- case_id: string (nullable = true)\n",
      " |-- db_year: string (nullable = true)\n",
      "\n",
      "\n",
      "Sample data from case_ids:\n",
      "+----------+-------+\n",
      "|case_id   |db_year|\n",
      "+----------+-------+\n",
      "|90017156.0|2021   |\n",
      "|4078685.0 |2021   |\n",
      "|90588783.0|2021   |\n",
      "|3351919.0 |2018   |\n",
      "|632208.0  |2018   |\n",
      "+----------+-------+\n",
      "only showing top 5 rows\n",
      "\n",
      "\n",
      "Schema for collisions:\n",
      "root\n",
      " |-- case_id: string (nullable = true)\n",
      " |-- jurisdiction: string (nullable = true)\n",
      " |-- officer_id: string (nullable = true)\n",
      " |-- reporting_district: string (nullable = true)\n",
      " |-- chp_shift: string (nullable = true)\n",
      " |-- population: string (nullable = true)\n",
      " |-- county_city_location: string (nullable = true)\n",
      " |-- county_location: string (nullable = true)\n",
      " |-- special_condition: string (nullable = true)\n",
      " |-- beat_type: string (nullable = true)\n",
      " |-- chp_beat_type: string (nullable = true)\n",
      " |-- chp_beat_class: string (nullable = true)\n",
      " |-- beat_number: string (nullable = true)\n",
      " |-- primary_road: string (nullable = true)\n",
      " |-- secondary_road: string (nullable = true)\n",
      " |-- distance: string (nullable = true)\n",
      " |-- direction: string (nullable = true)\n",
      " |-- intersection: string (nullable = true)\n",
      " |-- weather_1: string (nullable = true)\n",
      " |-- state_highway_indicator: string (nullable = true)\n",
      " |-- caltrans_county: string (nullable = true)\n",
      " |-- caltrans_district: string (nullable = true)\n",
      " |-- state_route: string (nullable = true)\n",
      " |-- postmile: string (nullable = true)\n",
      " |-- location_type: string (nullable = true)\n",
      " |-- side_of_highway: string (nullable = true)\n",
      " |-- tow_away: string (nullable = true)\n",
      " |-- collision_severity: string (nullable = true)\n",
      " |-- killed_victims: string (nullable = true)\n",
      " |-- injured_victims: string (nullable = true)\n",
      " |-- party_count: string (nullable = true)\n",
      " |-- primary_collision_factor: string (nullable = true)\n",
      " |-- pcf_violation_category: string (nullable = true)\n",
      " |-- pcf_violation: string (nullable = true)\n",
      " |-- pcf_violation_subsection: string (nullable = true)\n",
      " |-- hit_and_run: string (nullable = true)\n",
      " |-- type_of_collision: string (nullable = true)\n",
      " |-- motor_vehicle_involved_with: string (nullable = true)\n",
      " |-- pedestrian_action: string (nullable = true)\n",
      " |-- road_surface: string (nullable = true)\n",
      " |-- road_condition_1: string (nullable = true)\n",
      " |-- lighting: string (nullable = true)\n",
      " |-- control_device: string (nullable = true)\n",
      " |-- chp_road_type: string (nullable = true)\n",
      " |-- pedestrian_collision: string (nullable = true)\n",
      " |-- bicycle_collision: string (nullable = true)\n",
      " |-- motorcycle_collision: string (nullable = true)\n",
      " |-- truck_collision: string (nullable = true)\n",
      " |-- not_private_property: string (nullable = true)\n",
      " |-- statewide_vehicle_type_at_fault: string (nullable = true)\n",
      " |-- chp_vehicle_type_at_fault: string (nullable = true)\n",
      " |-- severe_injury_count: string (nullable = true)\n",
      " |-- other_visible_injury_count: string (nullable = true)\n",
      " |-- complaint_of_pain_injury_count: string (nullable = true)\n",
      " |-- pedestrian_killed_count: string (nullable = true)\n",
      " |-- pedestrian_injured_count: string (nullable = true)\n",
      " |-- bicyclist_killed_count: string (nullable = true)\n",
      " |-- bicyclist_injured_count: string (nullable = true)\n",
      " |-- motorcyclist_killed_count: string (nullable = true)\n",
      " |-- motorcyclist_injured_count: string (nullable = true)\n",
      " |-- latitude: string (nullable = true)\n",
      " |-- longitude: string (nullable = true)\n",
      " |-- collision_date: string (nullable = true)\n",
      " |-- collision_time: string (nullable = true)\n",
      " |-- process_date: string (nullable = true)\n",
      "\n",
      "\n",
      "Sample data from collisions:\n",
      "+----------+------------+----------+------------------+--------------+----------------+--------------------+---------------+-----------------+-------------------+----------------+--------------+-----------+------------------+--------------+--------+---------+------------+---------+-----------------------+---------------+-----------------+-----------+--------+-------------+---------------+--------+--------------------+--------------+---------------+-----------+------------------------+-------------------------+-------------+------------------------+---------------+-----------------+---------------------------+----------------------+------------+----------------+-----------------------+--------------+-------------+--------------------+-----------------+--------------------+---------------+--------------------+-------------------------------+---------------------------------------+-------------------+--------------------------+------------------------------+-----------------------+------------------------+----------------------+-----------------------+-------------------------+--------------------------+--------+----------+--------------+--------------+------------+\n",
      "|case_id   |jurisdiction|officer_id|reporting_district|chp_shift     |population      |county_city_location|county_location|special_condition|beat_type          |chp_beat_type   |chp_beat_class|beat_number|primary_road      |secondary_road|distance|direction|intersection|weather_1|state_highway_indicator|caltrans_county|caltrans_district|state_route|postmile|location_type|side_of_highway|tow_away|collision_severity  |killed_victims|injured_victims|party_count|primary_collision_factor|pcf_violation_category   |pcf_violation|pcf_violation_subsection|hit_and_run    |type_of_collision|motor_vehicle_involved_with|pedestrian_action     |road_surface|road_condition_1|lighting               |control_device|chp_road_type|pedestrian_collision|bicycle_collision|motorcycle_collision|truck_collision|not_private_property|statewide_vehicle_type_at_fault|chp_vehicle_type_at_fault              |severe_injury_count|other_visible_injury_count|complaint_of_pain_injury_count|pedestrian_killed_count|pedestrian_injured_count|bicyclist_killed_count|bicyclist_injured_count|motorcyclist_killed_count|motorcyclist_injured_count|latitude|longitude |collision_date|collision_time|process_date|\n",
      "+----------+------------+----------+------------------+--------------+----------------+--------------------+---------------+-----------------+-------------------+----------------+--------------+-----------+------------------+--------------+--------+---------+------------+---------+-----------------------+---------------+-----------------+-----------+--------+-------------+---------------+--------+--------------------+--------------+---------------+-----------+------------------------+-------------------------+-------------+------------------------+---------------+-----------------+---------------------------+----------------------+------------+----------------+-----------------------+--------------+-------------+--------------------+-----------------+--------------------+---------------+--------------------+-------------------------------+---------------------------------------+-------------------+--------------------------+------------------------------+-----------------------+------------------------+----------------------+-----------------------+-------------------------+--------------------------+--------+----------+--------------+--------------+------------+\n",
      "|8000993.0 |1942.0      |39335     |1676              |not chp       |>250000         |1942                |los angeles    |0.0              |not chp            |not chp         |not chp       |9TL56      |NETTLETON ST      |GLENOAKS      |300.0   |west     |0.0         |clear    |0.0                    |NULL           |NULL             |NULL       |NULL    |NULL         |NULL           |0.0     |property damage only|0.0           |0.0            |2.0        |vehicle code violation  |improper turning         |22107.0      |NULL                    |misdemeanor    |rear end         |parked motor vehicle       |no pedestrian involved|dry         |normal          |daylight               |none          |0            |0                   |0                |0                   |0              |1.0                 |NULL                           |unknown hit and run vehicle involvement|0                  |0                         |0                             |0                      |0                       |0                     |0                      |0                        |0.0                       |NULL    |NULL      |2016-03-20    |16:30:00      |2016-03-30  |\n",
      "|4232117.0 |3008.0      |1284      |Z2                |not chp       |100000 to 250000|3008                |orange         |0.0              |not chp            |not chp         |not chp       |NULL       |HARBOR BL         |BROOKDALE     |160.0   |south    |0.0         |clear    |0.0                    |NULL           |NULL             |NULL       |NULL    |NULL         |NULL           |1.0     |other injury        |0.0           |1.0            |1.0        |vehicle code violation  |dui                      |23152.0      |A                       |misdemeanor    |hit object       |fixed object               |no pedestrian involved|dry         |normal          |daylight               |none          |0            |0                   |0                |0                   |0              |1.0                 |pickup or panel truck          |pickups & panels                       |0                  |1                         |0                             |0                      |0                       |0                     |0                      |0                        |0.0                       |NULL    |NULL      |2009-04-13    |18:24:00      |2009-11-30  |\n",
      "|91389627.0|9285.0      |019223    |NULL              |1400 thru 2159|unincorporated  |5800                |yuba           |0.0              |chp county roadline|county road line|chp primary   |041        |NORTH BEALE RD    |LINDHURST AVE |329.0   |north    |0.0         |cloudy   |0.0                    |NULL           |NULL             |NULL       |NULL    |NULL         |NULL           |1.0     |pain                |0.0           |1.0            |1.0        |vehicle code violation  |improper turning         |22107.0      |NULL                    |not hit and run|hit object       |fixed object               |no pedestrian involved|dry         |normal          |dusk or dawn           |none          |0            |0                   |0                |0                   |0              |1.0                 |passenger car                  |passenger car, station                 |0                  |0                         |1                             |0                      |0                       |0                     |0                      |0                        |0.0                       |39.12512|-121.57211|2021-01-09    |18:15:00      |2021-01-18  |\n",
      "|3589817.0 |3610.0      |50586     |3610              |not chp       |100000 to 250000|3610                |san bernardino |0.0              |not chp            |not chp         |not chp       |NULL       |N MOUNTAIN VIEW AV|W BASELINE ST |0.0     |NULL     |1.0         |clear    |0.0                    |NULL           |NULL             |NULL       |NULL    |NULL         |NULL           |0.0     |property damage only|0.0           |0.0            |2.0        |vehicle code violation  |traffic signals and signs|21453.0      |A                       |misdemeanor    |NULL             |other motor vehicle        |no pedestrian involved|dry         |normal          |dark with street lights|functioning   |0            |0                   |0                |0                   |0              |1.0                 |other bus                      |other commercial                       |0                  |0                         |0                             |0                      |0                       |0                     |0                      |0                        |0.0                       |NULL    |NULL      |2007-06-16    |21:50:00      |2008-03-11  |\n",
      "|9111695.0 |1900.0      |649318    |0261              |not chp       |25000 to 50000  |1917                |los angeles    |0.0              |not chp            |not chp         |not chp       |26T        |ATLANTIC AV       |CLARA ST      |15.0    |south    |0.0         |clear    |0.0                    |NULL           |NULL             |NULL       |NULL    |NULL         |NULL           |1.0     |property damage only|0.0           |0.0            |2.0        |vehicle code violation  |improper turning         |22107.0      |NULL                    |misdemeanor    |rear end         |other motor vehicle        |no pedestrian involved|dry         |normal          |daylight               |none          |0            |0                   |0                |0                   |0              |1.0                 |passenger car                  |passenger car, station                 |0                  |0                         |0                             |0                      |0                       |0                     |0                      |0                        |0.0                       |NULL    |NULL      |2020-04-14    |17:56:00      |2020-08-03  |\n",
      "+----------+------------+----------+------------------+--------------+----------------+--------------------+---------------+-----------------+-------------------+----------------+--------------+-----------+------------------+--------------+--------+---------+------------+---------+-----------------------+---------------+-----------------+-----------+--------+-------------+---------------+--------+--------------------+--------------+---------------+-----------+------------------------+-------------------------+-------------+------------------------+---------------+-----------------+---------------------------+----------------------+------------+----------------+-----------------------+--------------+-------------+--------------------+-----------------+--------------------+---------------+--------------------+-------------------------------+---------------------------------------+-------------------+--------------------------+------------------------------+-----------------------+------------------------+----------------------+-----------------------+-------------------------+--------------------------+--------+----------+--------------+--------------+------------+\n",
      "only showing top 5 rows\n",
      "\n",
      "\n",
      "Schema for parties:\n",
      "root\n",
      " |-- id: string (nullable = true)\n",
      " |-- case_id: string (nullable = true)\n",
      " |-- party_number: string (nullable = true)\n",
      " |-- party_type: string (nullable = true)\n",
      " |-- at_fault: string (nullable = true)\n",
      " |-- party_sex: string (nullable = true)\n",
      " |-- party_age: string (nullable = true)\n",
      " |-- party_sobriety: string (nullable = true)\n",
      " |-- direction_of_travel: string (nullable = true)\n",
      " |-- party_safety_equipment_1: string (nullable = true)\n",
      " |-- party_safety_equipment_2: string (nullable = true)\n",
      " |-- financial_responsibility: string (nullable = true)\n",
      " |-- cellphone_in_use: string (nullable = true)\n",
      " |-- cellphone_use_type: string (nullable = true)\n",
      " |-- other_associate_factor_1: string (nullable = true)\n",
      " |-- party_number_killed: string (nullable = true)\n",
      " |-- party_number_injured: string (nullable = true)\n",
      " |-- movement_preceding_collision: string (nullable = true)\n",
      " |-- vehicle_year: string (nullable = true)\n",
      " |-- vehicle_make: string (nullable = true)\n",
      " |-- statewide_vehicle_type: string (nullable = true)\n",
      " |-- chp_vehicle_type_towing: string (nullable = true)\n",
      " |-- chp_vehicle_type_towed: string (nullable = true)\n",
      " |-- party_race: string (nullable = true)\n",
      "\n",
      "\n",
      "Sample data from parties:\n",
      "+--------+---------------------+------------+----------+--------+---------+---------+---------------------+-------------------+-------------------------+-------------------------+------------------------------+----------------+--------------------+------------------------+-------------------+--------------------+----------------------------+------------+------------+----------------------+-----------------------+----------------------+----------+\n",
      "|id      |case_id              |party_number|party_type|at_fault|party_sex|party_age|party_sobriety       |direction_of_travel|party_safety_equipment_1 |party_safety_equipment_2 |financial_responsibility      |cellphone_in_use|cellphone_use_type  |other_associate_factor_1|party_number_killed|party_number_injured|movement_preceding_collision|vehicle_year|vehicle_make|statewide_vehicle_type|chp_vehicle_type_towing|chp_vehicle_type_towed|party_race|\n",
      "+--------+---------------------+------------+----------+--------+---------+---------+---------------------+-------------------+-------------------------+-------------------------+------------------------------+----------------+--------------------+------------------------+-------------------+--------------------+----------------------------+------------+------------+----------------------+-----------------------+----------------------+----------+\n",
      "|1292305 |4843348.0            |1           |driver    |1       |male     |28.0     |had not been drinking|south              |lap/shoulder harness used|NULL                     |no proof of insurance obtained|NULL            |NULL                |inattention             |0                  |0                   |making right turn           |1974.0      |chevrolet   |passenger car         |NULL                   |NULL                  |NULL      |\n",
      "|3252679 |5965300.0            |2           |driver    |0       |male     |53.0     |had not been drinking|south              |air bag not deployed     |lap/shoulder harness used|proof of insurance obtained   |0.0             |cellphone not in use|entering/leaving ramp   |0                  |0                   |proceeding straight         |2000.0      |toyota      |passenger car         |passenger car, station |00                    |hispanic  |\n",
      "|5367929 |7110929.0            |2           |driver    |0       |female   |22.0     |had not been drinking|west               |air bag not deployed     |lap/shoulder harness used|proof of insurance obtained   |0.0             |cellphone not in use|none apparent           |0                  |0                   |proceeding straight         |2008.0      |mazda       |passenger car         |passenger car, station |NULL                  |hispanic  |\n",
      "|1482458 |4945119.0            |2           |pedestrian|0       |female   |52.0     |had not been drinking|south              |NULL                     |NULL                     |not applicable                |0.0             |cellphone not in use|none apparent           |0                  |1                   |proceeding straight         |NULL        |NULL        |pedestrian            |pedestrian             |00                    |hispanic  |\n",
      "|16036906|9.250010821150513e+18|2           |driver    |0       |female   |34.0     |had not been drinking|south              |lap/shoulder harness used|NULL                     |no proof of insurance obtained|NULL            |no cellphone/unknown|none apparent           |0                  |0                   |proceeding straight         |1976.0      |ford        |passenger car         |passenger car, station |00                    |NULL      |\n",
      "+--------+---------------------+------------+----------+--------+---------+---------+---------------------+-------------------+-------------------------+-------------------------+------------------------------+----------------+--------------------+------------------------+-------------------+--------------------+----------------------------+------------+------------+----------------------+-----------------------+----------------------+----------+\n",
      "only showing top 5 rows\n",
      "\n",
      "\n",
      "Schema for victims:\n",
      "root\n",
      " |-- id: string (nullable = true)\n",
      " |-- case_id: string (nullable = true)\n",
      " |-- party_number: string (nullable = true)\n",
      " |-- victim_role: string (nullable = true)\n",
      " |-- victim_sex: string (nullable = true)\n",
      " |-- victim_age: string (nullable = true)\n",
      " |-- victim_degree_of_injury: string (nullable = true)\n",
      " |-- victim_seating_position: string (nullable = true)\n",
      " |-- victim_safety_equipment_1: string (nullable = true)\n",
      " |-- victim_safety_equipment_2: string (nullable = true)\n",
      " |-- victim_ejected: string (nullable = true)\n",
      "\n",
      "\n",
      "Sample data from victims:\n",
      "+-------+----------+------------+-----------+----------+----------+-----------------------+-----------------------+-------------------------+-------------------------------+--------------+\n",
      "|id     |case_id   |party_number|victim_role|victim_sex|victim_age|victim_degree_of_injury|victim_seating_position|victim_safety_equipment_1|victim_safety_equipment_2      |victim_ejected|\n",
      "+-------+----------+------------+-----------+----------+----------+-----------------------+-----------------------+-------------------------+-------------------------------+--------------+\n",
      "|2166324|6324923.0 |1           |driver     |male      |62.0      |complaint of pain      |driver                 |air bag not deployed     |lap/shoulder harness used      |not ejected   |\n",
      "|779470 |761473.0  |1           |passenger  |male      |25.0      |no injury              |passenger seat 3       |lap/shoulder harness used|NULL                           |not ejected   |\n",
      "|742636 |723123.0  |1           |driver     |NULL      |31.0      |complaint of pain      |driver                 |lap/shoulder harness used|NULL                           |not ejected   |\n",
      "|2412638|2276798.0 |1           |driver     |female    |51.0      |complaint of pain      |driver                 |air bag not deployed     |lap/shoulder harness used      |not ejected   |\n",
      "|4121224|90110954.0|1           |passenger  |female    |4.0       |no injury              |passenger seat 4       |not required             |child restraint in vehicle used|not ejected   |\n",
      "+-------+----------+------------+-----------+----------+----------+-----------------------+-----------------------+-------------------------+-------------------------------+--------------+\n",
      "only showing top 5 rows"
     ]
    }
   ],
   "source": [
    "#Display Schema & Sample Data\n",
    "\n",
    "# Function to display schema and sample data\n",
    "def display_schema_and_data(df, name):\n",
    "    print(f\"\\nSchema for {name}:\")\n",
    "    df.printSchema()\n",
    "    print(f\"\\nSample data from {name}:\")\n",
    "    df.show(5, truncate=False)  # Show top 5 rows without truncating columns\n",
    "\n",
    "# Display for each dataset\n",
    "display_schema_and_data(case_ids_df, \"case_ids\")\n",
    "display_schema_and_data(collisions_df, \"collisions\")\n",
    "display_schema_and_data(parties_df, \"parties\")\n",
    "display_schema_and_data(victims_df, \"victims\")"
   ]
  },
  {
   "cell_type": "markdown",
   "metadata": {
    "id": "VCZOT2OHCoJZ"
   },
   "source": [
    "##**2.1 Missing Values** <font color = red>[10 marks]</font> <br>\n"
   ]
  },
  {
   "cell_type": "code",
   "execution_count": 4,
   "metadata": {
    "execution": {
     "iopub.execute_input": "2025-06-16T04:32:40.626978Z",
     "iopub.status.busy": "2025-06-16T04:32:40.626683Z",
     "iopub.status.idle": "2025-06-16T04:33:06.077652Z",
     "shell.execute_reply": "2025-06-16T04:33:06.076606Z",
     "shell.execute_reply.started": "2025-06-16T04:32:40.626930Z"
    },
    "id": "b5KJ-qd8qLbk"
   },
   "outputs": [
    {
     "data": {
      "application/vnd.jupyter.widget-view+json": {
       "model_id": "e1bfdcd40dfb4865a7ce8b3a9ced57cc",
       "version_major": 2,
       "version_minor": 0
      },
      "text/plain": [
       "VBox()"
      ]
     },
     "metadata": {},
     "output_type": "display_data"
    },
    {
     "data": {
      "application/vnd.jupyter.widget-view+json": {
       "model_id": "",
       "version_major": 2,
       "version_minor": 0
      },
      "text/plain": [
       "FloatProgress(value=0.0, bar_style='info', description='Progress:', layout=Layout(height='25px', width='50%'),…"
      ]
     },
     "metadata": {},
     "output_type": "display_data"
    },
    {
     "name": "stdout",
     "output_type": "stream",
     "text": [
      "\n",
      "Missing values in case_ids:\n",
      "+-------+-------+\n",
      "|case_id|db_year|\n",
      "+-------+-------+\n",
      "|      0|      0|\n",
      "+-------+-------+\n",
      "\n",
      "\n",
      "Missing values in collisions:\n",
      "+-------+------------+----------+------------------+---------+----------+--------------------+---------------+-----------------+---------+-------------+--------------+-----------+------------+--------------+--------+---------+------------+---------+-----------------------+---------------+-----------------+-----------+--------+-------------+---------------+--------+------------------+--------------+---------------+-----------+------------------------+----------------------+-------------+------------------------+-----------+-----------------+---------------------------+-----------------+------------+----------------+--------+--------------+-------------+--------------------+-----------------+--------------------+---------------+--------------------+-------------------------------+-------------------------+-------------------+--------------------------+------------------------------+-----------------------+------------------------+----------------------+-----------------------+-------------------------+--------------------------+--------+---------+--------------+--------------+------------+\n",
      "|case_id|jurisdiction|officer_id|reporting_district|chp_shift|population|county_city_location|county_location|special_condition|beat_type|chp_beat_type|chp_beat_class|beat_number|primary_road|secondary_road|distance|direction|intersection|weather_1|state_highway_indicator|caltrans_county|caltrans_district|state_route|postmile|location_type|side_of_highway|tow_away|collision_severity|killed_victims|injured_victims|party_count|primary_collision_factor|pcf_violation_category|pcf_violation|pcf_violation_subsection|hit_and_run|type_of_collision|motor_vehicle_involved_with|pedestrian_action|road_surface|road_condition_1|lighting|control_device|chp_road_type|pedestrian_collision|bicycle_collision|motorcycle_collision|truck_collision|not_private_property|statewide_vehicle_type_at_fault|chp_vehicle_type_at_fault|severe_injury_count|other_visible_injury_count|complaint_of_pain_injury_count|pedestrian_killed_count|pedestrian_injured_count|bicyclist_killed_count|bicyclist_injured_count|motorcyclist_killed_count|motorcyclist_injured_count|latitude|longitude|collision_date|collision_time|process_date|\n",
      "+-------+------------+----------+------------------+---------+----------+--------------------+---------------+-----------------+---------+-------------+--------------+-----------+------------+--------------+--------+---------+------------+---------+-----------------------+---------------+-----------------+-----------+--------+-------------+---------------+--------+------------------+--------------+---------------+-----------+------------------------+----------------------+-------------+------------------------+-----------+-----------------+---------------------------+-----------------+------------+----------------+--------+--------------+-------------+--------------------+-----------------+--------------------+---------------+--------------------+-------------------------------+-------------------------+-------------------+--------------------------+------------------------------+-----------------------+------------------------+----------------------+-----------------------+-------------------------+--------------------------+--------+---------+--------------+--------------+------------+\n",
      "|      0|        1158|      2264|            552653|        0|       165|                   0|              0|            51730|        0|            0|           274|      80780|          10|             2|       0|   232663|        9484|     4626|                    318|         682075|           648728|     648728|  648728|       682075|         682077|    6153|                 0|           200|            230|          0|                    5660|                 15424|        64175|                  601427|          0|             7655|                       4887|              615|        8141|            7903|    5301|          5791|            0|                   0|                0|                   0|              0|                   0|                         186119|                   251662|                  0|                         0|                             0|                      0|                       0|                     0|                      0|                        0|                         0|  669049|   669049|             0|          8084|           0|\n",
      "+-------+------------+----------+------------------+---------+----------+--------------------+---------------+-----------------+---------+-------------+--------------+-----------+------------+--------------+--------+---------+------------+---------+-----------------------+---------------+-----------------+-----------+--------+-------------+---------------+--------+------------------+--------------+---------------+-----------+------------------------+----------------------+-------------+------------------------+-----------+-----------------+---------------------------+-----------------+------------+----------------+--------+--------------+-------------+--------------------+-----------------+--------------------+---------------+--------------------+-------------------------------+-------------------------+-------------------+--------------------------+------------------------------+-----------------------+------------------------+----------------------+-----------------------+-------------------------+--------------------------+--------+---------+--------------+--------------+------------+\n",
      "\n",
      "\n",
      "Missing values in parties:\n",
      "+---+-------+------------+----------+--------+---------+---------+--------------+-------------------+------------------------+------------------------+------------------------+----------------+------------------+------------------------+-------------------+--------------------+----------------------------+------------+------------+----------------------+-----------------------+----------------------+----------+\n",
      "| id|case_id|party_number|party_type|at_fault|party_sex|party_age|party_sobriety|direction_of_travel|party_safety_equipment_1|party_safety_equipment_2|financial_responsibility|cellphone_in_use|cellphone_use_type|other_associate_factor_1|party_number_killed|party_number_injured|movement_preceding_collision|vehicle_year|vehicle_make|statewide_vehicle_type|chp_vehicle_type_towing|chp_vehicle_type_towed|party_race|\n",
      "+---+-------+------------+----------+--------+---------+---------+--------------+-------------------+------------------------+------------------------+------------------------+----------------+------------------+------------------------+-------------------+--------------------+----------------------------+------------+------------+----------------------+-----------------------+----------------------+----------+\n",
      "|  0|      0|           0|      4395|       0|   249269|   290783|         55663|              52377|                  314883|                  699581|                  152613|          568197|            432264|                  112496|                  0|                   0|                       33275|      177599|      195057|                210693|                 401142|                909543|    436844|\n",
      "+---+-------+------------+----------+--------+---------+---------+--------------+-------------------+------------------------+------------------------+------------------------+----------------+------------------+------------------------+-------------------+--------------------+----------------------------+------------+------------+----------------------+-----------------------+----------------------+----------+\n",
      "\n",
      "\n",
      "Missing values in victims:\n",
      "+---+-------+------------+-----------+----------+----------+-----------------------+-----------------------+-------------------------+-------------------------+--------------+\n",
      "| id|case_id|party_number|victim_role|victim_sex|victim_age|victim_degree_of_injury|victim_seating_position|victim_safety_equipment_1|victim_safety_equipment_2|victim_ejected|\n",
      "+---+-------+------------+-----------+----------+----------+-----------------------+-----------------------+-------------------------+-------------------------+--------------+\n",
      "|  0|      0|           0|          1|     24041|     32145|                      0|                   1913|                    55215|                   310220|          4272|\n",
      "+---+-------+------------+-----------+----------+----------+-----------------------+-----------------------+-------------------------+-------------------------+--------------+"
     ]
    }
   ],
   "source": [
    "#Check for Missing Values\n",
    "from pyspark.sql.functions import col, sum, when\n",
    "\n",
    "# Function to count missing values for each column\n",
    "def count_missing_values(df, name):\n",
    "    print(f\"\\nMissing values in {name}:\")\n",
    "    df.select([sum(when(col(c).isNull() | (col(c) == ''), 1).otherwise(0)).alias(c) for c in df.columns]).show()\n",
    "\n",
    "# Check for missing values in each dataset\n",
    "count_missing_values(case_ids_df, \"case_ids\")\n",
    "count_missing_values(collisions_df, \"collisions\")\n",
    "count_missing_values(parties_df, \"parties\")\n",
    "count_missing_values(victims_df, \"victims\")\n"
   ]
  },
  {
   "cell_type": "code",
   "execution_count": 5,
   "metadata": {
    "execution": {
     "iopub.execute_input": "2025-06-16T04:33:06.079479Z",
     "iopub.status.busy": "2025-06-16T04:33:06.079171Z",
     "iopub.status.idle": "2025-06-16T04:33:27.543103Z",
     "shell.execute_reply": "2025-06-16T04:33:27.542009Z",
     "shell.execute_reply.started": "2025-06-16T04:33:06.079432Z"
    },
    "id": "d2Sr-3uDqXd2"
   },
   "outputs": [
    {
     "data": {
      "application/vnd.jupyter.widget-view+json": {
       "model_id": "8e3f07aa855d4087b559279ecb438f4c",
       "version_major": 2,
       "version_minor": 0
      },
      "text/plain": [
       "VBox()"
      ]
     },
     "metadata": {},
     "output_type": "display_data"
    },
    {
     "data": {
      "application/vnd.jupyter.widget-view+json": {
       "model_id": "",
       "version_major": 2,
       "version_minor": 0
      },
      "text/plain": [
       "FloatProgress(value=0.0, bar_style='info', description='Progress:', layout=Layout(height='25px', width='50%'),…"
      ]
     },
     "metadata": {},
     "output_type": "display_data"
    },
    {
     "name": "stdout",
     "output_type": "stream",
     "text": [
      "\n",
      "Total rows in case_ids: 942433\n",
      "Columns to drop in case_ids (>50.0% missing): []\n",
      "\n",
      "Total rows in collisions: 935791\n",
      "Columns to drop in collisions (>50.0% missing): ['reporting_district', 'caltrans_county', 'caltrans_district', 'state_route', 'postmile', 'location_type', 'side_of_highway', 'pcf_violation_subsection', 'latitude', 'longitude']\n",
      "\n",
      "Total rows in parties: 1866917\n",
      "Columns to drop in parties (>50.0% missing): []\n",
      "\n",
      "Total rows in victims: 963933\n",
      "Columns to drop in victims (>50.0% missing): []"
     ]
    }
   ],
   "source": [
    "from pyspark.sql.functions import col, sum, when\n",
    "\n",
    "def drop_sparse_columns(df, name, threshold=0.5):\n",
    "    total_rows = df.count()\n",
    "    print(f\"\\nTotal rows in {name}: {total_rows}\")\n",
    "\n",
    "    # Get count of missing values per column\n",
    "    missing_counts = df.select([\n",
    "        sum(when(col(c).isNull() | (col(c) == ''), 1)).alias(c) for c in df.columns\n",
    "    ]).collect()[0].asDict()\n",
    "\n",
    "    # Handle None (treat as 0)\n",
    "    sparse_cols = [\n",
    "        col_name for col_name, missing in missing_counts.items()\n",
    "        if (missing or 0) / total_rows > threshold\n",
    "    ]\n",
    "\n",
    "    print(f\"Columns to drop in {name} (>{threshold*100}% missing): {sparse_cols}\")\n",
    "\n",
    "    # Drop sparse columns\n",
    "    return df.drop(*sparse_cols)\n",
    "\n",
    "# Apply to each DataFrame with a 50% threshold\n",
    "case_ids_df = drop_sparse_columns(case_ids_df, \"case_ids\")\n",
    "collisions_df = drop_sparse_columns(collisions_df, \"collisions\")\n",
    "parties_df = drop_sparse_columns(parties_df, \"parties\")\n",
    "victims_df = drop_sparse_columns(victims_df, \"victims\")\n"
   ]
  },
  {
   "cell_type": "code",
   "execution_count": 6,
   "metadata": {
    "execution": {
     "iopub.execute_input": "2025-06-16T04:33:27.544941Z",
     "iopub.status.busy": "2025-06-16T04:33:27.544624Z",
     "iopub.status.idle": "2025-06-16T04:35:49.978708Z",
     "shell.execute_reply": "2025-06-16T04:35:49.977672Z",
     "shell.execute_reply.started": "2025-06-16T04:33:27.544894Z"
    },
    "id": "6OgjAdGbqoKM"
   },
   "outputs": [
    {
     "data": {
      "application/vnd.jupyter.widget-view+json": {
       "model_id": "610fcbde28f84b6b9f84e7e830517d0c",
       "version_major": 2,
       "version_minor": 0
      },
      "text/plain": [
       "VBox()"
      ]
     },
     "metadata": {},
     "output_type": "display_data"
    },
    {
     "data": {
      "application/vnd.jupyter.widget-view+json": {
       "model_id": "",
       "version_major": 2,
       "version_minor": 0
      },
      "text/plain": [
       "FloatProgress(value=0.0, bar_style='info', description='Progress:', layout=Layout(height='25px', width='50%'),…"
      ]
     },
     "metadata": {},
     "output_type": "display_data"
    },
    {
     "name": "stdout",
     "output_type": "stream",
     "text": [
      "Converted 'collision_date' to date.\n",
      "Converted 'process_date' to date.\n",
      "Converted 'id' to numeric in parties_df.\n",
      "Converted 'case_id' to numeric in parties_df.\n",
      "Converted 'party_number' to numeric in parties_df.\n",
      "Converted 'at_fault' to numeric in parties_df.\n",
      "Converted 'party_age' to numeric in parties_df.\n",
      "Converted 'party_number_killed' to numeric in parties_df.\n",
      "Converted 'party_number_injured' to numeric in parties_df.\n",
      "Converted 'vehicle_year' to numeric in parties_df.\n",
      "Converted 'id' to numeric in victims_df.\n",
      "Converted 'case_id' to numeric in victims_df.\n",
      "Converted 'party_number' to numeric in victims_df.\n",
      "Converted 'victim_age' to numeric in victims_df."
     ]
    }
   ],
   "source": [
    "#Convert Data Types\n",
    "\n",
    "from pyspark.sql.functions import col, to_date\n",
    "from pyspark.sql.types import IntegerType, DoubleType\n",
    "\n",
    "# Step 1: Convert known date columns in PySpark\n",
    "def convert_date_column(df, column_name, date_format=\"yyyy-MM-dd\"):\n",
    "    if column_name in df.columns:\n",
    "        df = df.withColumn(column_name, to_date(col(column_name), date_format))\n",
    "        print(f\"Converted '{column_name}' to date.\")\n",
    "    return df\n",
    "\n",
    "# Apply to relevant columns\n",
    "collisions_df = convert_date_column(collisions_df, 'collision_date')\n",
    "collisions_df = convert_date_column(collisions_df, 'process_date')\n",
    "victims_df = convert_date_column(victims_df, 'injury_date')\n",
    "\n",
    "# Step 2: Convert string (object-like) columns to numeric where values are mostly numeric\n",
    "def convert_string_to_numeric(df, name, threshold=0.7):\n",
    "    total_rows = df.count()\n",
    "    for column in df.columns:\n",
    "        if df.schema[column].dataType.simpleString() == 'string':\n",
    "            # Try to cast to DoubleType and see how many non-null values result\n",
    "            temp_df = df.withColumn(f\"temp_{column}\", col(column).cast(DoubleType()))\n",
    "            non_null_count = temp_df.filter(col(f\"temp_{column}\").isNotNull()).count()\n",
    "\n",
    "            if non_null_count / total_rows > threshold:\n",
    "                df = df.withColumn(column, col(column).cast(DoubleType()))\n",
    "                print(f\"Converted '{column}' to numeric in {name}.\")\n",
    "    return df\n",
    "\n",
    "# Apply to parties and victims DataFrames\n",
    "parties_df = convert_string_to_numeric(parties_df, \"parties_df\")\n",
    "victims_df = convert_string_to_numeric(victims_df, \"victims_df\")\n",
    "\n"
   ]
  },
  {
   "cell_type": "code",
   "execution_count": 7,
   "metadata": {
    "execution": {
     "iopub.execute_input": "2025-06-16T04:35:49.980181Z",
     "iopub.status.busy": "2025-06-16T04:35:49.979965Z",
     "iopub.status.idle": "2025-06-16T04:35:51.310412Z",
     "shell.execute_reply": "2025-06-16T04:35:51.309418Z",
     "shell.execute_reply.started": "2025-06-16T04:35:49.980151Z"
    },
    "id": "4fUWSUlhqvRF"
   },
   "outputs": [
    {
     "data": {
      "application/vnd.jupyter.widget-view+json": {
       "model_id": "3872bb90e2614c889bff1b2bfd8d473b",
       "version_major": 2,
       "version_minor": 0
      },
      "text/plain": [
       "VBox()"
      ]
     },
     "metadata": {},
     "output_type": "display_data"
    },
    {
     "data": {
      "application/vnd.jupyter.widget-view+json": {
       "model_id": "",
       "version_major": 2,
       "version_minor": 0
      },
      "text/plain": [
       "FloatProgress(value=0.0, bar_style='info', description='Progress:', layout=Layout(height='25px', width='50%'),…"
      ]
     },
     "metadata": {},
     "output_type": "display_data"
    },
    {
     "name": "stdout",
     "output_type": "stream",
     "text": [
      "\n",
      "Handling missing values for case_df:\n",
      "Filled numeric columns with 0.\n",
      "Filled text columns with 'Unknown'.\n",
      "\n",
      "Handling missing values for collisions_df:\n",
      "Filled numeric columns with 0.\n",
      "Filled text columns with 'Unknown'.\n",
      "\n",
      "Handling missing values for parties_df:\n",
      "Filled numeric columns with 0.\n",
      "Filled text columns with 'Unknown'.\n",
      "\n",
      "Handling missing values for victims_df:\n",
      "Filled numeric columns with 0.\n",
      "Filled text columns with 'Unknown'."
     ]
    }
   ],
   "source": [
    "#Handle Missing Values\n",
    "\n",
    "from pyspark.sql.functions import col, min, to_date\n",
    "from pyspark.sql.types import IntegerType, FloatType, StringType, DateType\n",
    "\n",
    "def handle_missing_values(df, name):\n",
    "    print(f\"\\nHandling missing values for {name}:\")\n",
    "\n",
    "    # Fill numeric columns (int and float) with 0\n",
    "    num_cols = [col_name for col_name, dtype in df.dtypes if dtype in ['int', 'double']]\n",
    "    for col_name in num_cols:\n",
    "        df = df.fillna({col_name: 0})\n",
    "    print(f\"Filled numeric columns with 0.\")\n",
    "\n",
    "    # Fill string columns with 'Unknown'\n",
    "    obj_cols = [col_name for col_name, dtype in df.dtypes if dtype == 'string']\n",
    "    for col_name in obj_cols:\n",
    "        df = df.fillna({col_name: 'Unknown'})\n",
    "    print(f\"Filled text columns with 'Unknown'.\")\n",
    "\n",
    "    # Fill datetime columns with the earliest available date\n",
    "    dt_cols = [col_name for col_name, dtype in df.dtypes if dtype == 'timestamp']\n",
    "    for col_name in dt_cols:\n",
    "        min_date = df.select(min(col(col_name))).collect()[0][0]  # Get the earliest date\n",
    "        if min_date:\n",
    "            df = df.fillna({col_name: min_date})\n",
    "            print(f\"Filled missing values in '{col_name}' with earliest date: {min_date}\")\n",
    "\n",
    "    return df\n",
    "\n",
    "# Apply to all datasets\n",
    "case_df = handle_missing_values(case_ids_df, \"case_df\")\n",
    "collisions_df = handle_missing_values(collisions_df, \"collisions_df\")\n",
    "parties_df = handle_missing_values(parties_df, \"parties_df\")\n",
    "victims_df = handle_missing_values(victims_df, \"victims_df\")\n"
   ]
  },
  {
   "cell_type": "markdown",
   "metadata": {
    "id": "wfEo9TE9CsH4"
   },
   "source": [
    "##**2.2 Fixing Columns** <font color = red>[5 marks]</font> <br>\n"
   ]
  },
  {
   "cell_type": "code",
   "execution_count": 8,
   "metadata": {
    "execution": {
     "iopub.execute_input": "2025-06-16T04:35:51.315027Z",
     "iopub.status.busy": "2025-06-16T04:35:51.314688Z",
     "iopub.status.idle": "2025-06-16T04:36:34.843486Z",
     "shell.execute_reply": "2025-06-16T04:36:34.842483Z",
     "shell.execute_reply.started": "2025-06-16T04:35:51.314980Z"
    },
    "id": "nkrFJOkhqzWV"
   },
   "outputs": [
    {
     "data": {
      "application/vnd.jupyter.widget-view+json": {
       "model_id": "775ac668c58d41a385c9f654e3f1f2fc",
       "version_major": 2,
       "version_minor": 0
      },
      "text/plain": [
       "VBox()"
      ]
     },
     "metadata": {},
     "output_type": "display_data"
    },
    {
     "data": {
      "application/vnd.jupyter.widget-view+json": {
       "model_id": "",
       "version_major": 2,
       "version_minor": 0
      },
      "text/plain": [
       "FloatProgress(value=0.0, bar_style='info', description='Progress:', layout=Layout(height='25px', width='50%'),…"
      ]
     },
     "metadata": {},
     "output_type": "display_data"
    },
    {
     "name": "stdout",
     "output_type": "stream",
     "text": [
      "Removed 35 duplicate rows from case_df.\n",
      "Removed 0 duplicate rows from collisions_df.\n",
      "Removed 0 duplicate rows from parties_df.\n",
      "Removed 0 duplicate rows from victims_df."
     ]
    }
   ],
   "source": [
    "#Remove Duplicates\n",
    "\n",
    "# Function to remove duplicates and print the count of duplicates removed\n",
    "def remove_duplicates_and_print_count(df, name, subset_columns=None):\n",
    "    # Step 1: Count the number of rows before removing duplicates\n",
    "    initial_count = df.count()\n",
    "\n",
    "    # Step 2: Remove duplicates based on all or specific columns\n",
    "    if subset_columns:\n",
    "        df_cleaned = df.dropDuplicates(subset_columns)\n",
    "    else:\n",
    "        df_cleaned = df.dropDuplicates()\n",
    "\n",
    "    # Step 3: Count the number of rows after removing duplicates\n",
    "    final_count = df_cleaned.count()\n",
    "\n",
    "    # Step 4: Calculate and print the number of duplicates removed\n",
    "    duplicates_removed = initial_count - final_count\n",
    "    print(f\"Removed {duplicates_removed} duplicate rows from {name}.\")\n",
    "\n",
    "    return df_cleaned\n",
    "\n",
    "# Apply to your DataFrames\n",
    "case_df = remove_duplicates_and_print_count(case_df, \"case_df\")\n",
    "collisions_df = remove_duplicates_and_print_count(collisions_df, \"collisions_df\")\n",
    "parties_df = remove_duplicates_and_print_count(parties_df, \"parties_df\")\n",
    "victims_df = remove_duplicates_and_print_count(victims_df, \"victims_df\")\n"
   ]
  },
  {
   "cell_type": "code",
   "execution_count": 9,
   "metadata": {
    "execution": {
     "iopub.execute_input": "2025-06-16T04:36:34.846724Z",
     "iopub.status.busy": "2025-06-16T04:36:34.846351Z",
     "iopub.status.idle": "2025-06-16T04:39:27.561893Z",
     "shell.execute_reply": "2025-06-16T04:39:27.560939Z",
     "shell.execute_reply.started": "2025-06-16T04:36:34.846677Z"
    },
    "id": "SAw2eXIhq32z"
   },
   "outputs": [
    {
     "data": {
      "application/vnd.jupyter.widget-view+json": {
       "model_id": "98b7af45568b4eb0a1e562400cda9797",
       "version_major": 2,
       "version_minor": 0
      },
      "text/plain": [
       "VBox()"
      ]
     },
     "metadata": {},
     "output_type": "display_data"
    },
    {
     "data": {
      "application/vnd.jupyter.widget-view+json": {
       "model_id": "",
       "version_major": 2,
       "version_minor": 0
      },
      "text/plain": [
       "FloatProgress(value=0.0, bar_style='info', description='Progress:', layout=Layout(height='25px', width='50%'),…"
      ]
     },
     "metadata": {},
     "output_type": "display_data"
    },
    {
     "name": "stdout",
     "output_type": "stream",
     "text": [
      "\n",
      "case_df - Numeric columns:\n",
      "\n",
      "collisions_df - Numeric columns:\n",
      "\n",
      "parties_df - Numeric columns:\n",
      " - id\n",
      " - case_id\n",
      " - party_number\n",
      " - at_fault\n",
      " - party_age\n",
      " - party_number_killed\n",
      " - party_number_injured\n",
      " - vehicle_year\n",
      "\n",
      "victims_df - Numeric columns:\n",
      " - id\n",
      " - case_id\n",
      " - party_number\n",
      " - victim_age\n",
      "\n",
      "Detecting outliers in case_df using IQR:\n",
      "\n",
      "Detecting outliers in collisions_df using IQR:\n",
      "\n",
      "Detecting outliers in parties_df using IQR:\n",
      "id: 42716 outliers\n",
      "case_id: 365282 outliers\n",
      "party_number: 35411 outliers\n",
      "party_age: 19180 outliers\n",
      "party_number_killed: 6889 outliers\n",
      "party_number_injured: 437989 outliers\n",
      "vehicle_year: 193038 outliers\n",
      "\n",
      "Detecting outliers in victims_df using IQR:\n",
      "id: 28343 outliers\n",
      "case_id: 146372 outliers\n",
      "party_number: 12976 outliers\n",
      "victim_age: 15275 outliers"
     ]
    }
   ],
   "source": [
    "from pyspark.sql import functions as F\n",
    "\n",
    "# Function to list numeric columns in a PySpark DataFrame\n",
    "def list_numeric_columns(df, name):\n",
    "    # Filter numeric columns by checking data type of each column\n",
    "    num_cols = [col_name for col_name, dtype in df.dtypes if dtype in ['int', 'double']]\n",
    "    print(f\"\\n{name} - Numeric columns:\")\n",
    "    for col in num_cols:\n",
    "        print(f\" - {col}\")\n",
    "    return num_cols\n",
    "\n",
    "# Function to detect outliers using IQR in PySpark\n",
    "def detect_outliers_iqr(df, name, columns):\n",
    "    print(f\"\\nDetecting outliers in {name} using IQR:\")\n",
    "\n",
    "    for col in columns:\n",
    "        # Calculate Q1 (25th percentile) and Q3 (75th percentile) using approxQuantile\n",
    "        quantiles = df.approxQuantile(col, [0.25, 0.75], 0.05)  # Relative error tolerance is 0.05\n",
    "        Q1 = quantiles[0]\n",
    "        Q3 = quantiles[1]\n",
    "        IQR = Q3 - Q1\n",
    "        lower_bound = Q1 - 1.5 * IQR\n",
    "        upper_bound = Q3 + 1.5 * IQR\n",
    "\n",
    "        # Detect outliers: values below the lower bound or above the upper bound\n",
    "        outliers_df = df.filter((F.col(col) < lower_bound) | (F.col(col) > upper_bound))\n",
    "        \n",
    "        # Count outliers only if there are any\n",
    "        num_outliers = outliers_df.count()\n",
    "        if num_outliers > 0:\n",
    "            print(f\"{col}: {num_outliers} outliers\")\n",
    "\n",
    "# List of numerical columns to check for outliers\n",
    "case_numeric_cols = list_numeric_columns(case_df, \"case_df\")\n",
    "collisions_numeric_cols = list_numeric_columns(collisions_df, \"collisions_df\")\n",
    "parties_numeric_cols = list_numeric_columns(parties_df, \"parties_df\")\n",
    "victims_numeric_cols = list_numeric_columns(victims_df, \"victims_df\")\n",
    "\n",
    "# Apply outlier detection to each DataFrame\n",
    "detect_outliers_iqr(case_df, \"case_df\", case_numeric_cols)\n",
    "detect_outliers_iqr(collisions_df, \"collisions_df\", collisions_numeric_cols)\n",
    "detect_outliers_iqr(parties_df, \"parties_df\", parties_numeric_cols)\n",
    "detect_outliers_iqr(victims_df, \"victims_df\", victims_numeric_cols)\n"
   ]
  },
  {
   "cell_type": "markdown",
   "metadata": {
    "id": "9NexAOW9CyUb"
   },
   "source": [
    "##**2.3 Outlier Analysis** <font color = red>[5 marks]</font> <br>\n"
   ]
  },
  {
   "cell_type": "code",
   "execution_count": 10,
   "metadata": {
    "execution": {
     "iopub.execute_input": "2025-06-16T04:39:27.563313Z",
     "iopub.status.busy": "2025-06-16T04:39:27.563056Z",
     "iopub.status.idle": "2025-06-16T04:42:32.280016Z",
     "shell.execute_reply": "2025-06-16T04:42:32.279030Z",
     "shell.execute_reply.started": "2025-06-16T04:39:27.563282Z"
    },
    "id": "aFqrGQDXrfcF"
   },
   "outputs": [
    {
     "data": {
      "application/vnd.jupyter.widget-view+json": {
       "model_id": "b5f794f32aad465f90f2560eea30b536",
       "version_major": 2,
       "version_minor": 0
      },
      "text/plain": [
       "VBox()"
      ]
     },
     "metadata": {},
     "output_type": "display_data"
    },
    {
     "data": {
      "application/vnd.jupyter.widget-view+json": {
       "model_id": "",
       "version_major": 2,
       "version_minor": 0
      },
      "text/plain": [
       "FloatProgress(value=0.0, bar_style='info', description='Progress:', layout=Layout(height='25px', width='50%'),…"
      ]
     },
     "metadata": {},
     "output_type": "display_data"
    },
    {
     "name": "stdout",
     "output_type": "stream",
     "text": [
      "\n",
      "Removing outliers from case_df...\n",
      " - No outliers removed.\n",
      "\n",
      "Removing outliers from collisions_df...\n",
      " - No outliers removed.\n",
      "\n",
      "Removing outliers from parties_df...\n",
      " - 19180 rows removed based on column 'party_age'\n",
      " - 6615 rows removed based on column 'party_number_killed'\n",
      " - 430288 rows removed based on column 'party_number_injured'\n",
      " - 138853 rows removed based on column 'vehicle_year'\n",
      "\n",
      "Removing outliers from victims_df...\n",
      " - 15275 rows removed based on column 'victim_age'"
     ]
    }
   ],
   "source": [
    "#Remove Outliers\n",
    "from pyspark.sql import functions as F\n",
    "\n",
    "def remove_outliers_iqr(df, name, exclude_columns=None):\n",
    "    print(f\"\\nRemoving outliers from {name}...\")\n",
    "    if exclude_columns is None:\n",
    "        exclude_columns = []\n",
    "\n",
    "    # Identify numeric columns\n",
    "    numeric_cols = [col for col, dtype in df.dtypes if dtype in ['int', 'double']]\n",
    "    numeric_cols = [col for col in numeric_cols if col not in exclude_columns]\n",
    "\n",
    "    clean_df = df\n",
    "    total_removed = 0\n",
    "\n",
    "    for col in numeric_cols:\n",
    "        # Calculate Q1 and Q3\n",
    "        q1, q3 = clean_df.approxQuantile(col, [0.25, 0.75], 0.05)\n",
    "        iqr = q3 - q1\n",
    "        lower = q1 - 1.5 * iqr\n",
    "        upper = q3 + 1.5 * iqr\n",
    "\n",
    "        before = clean_df.count()\n",
    "        clean_df = clean_df.filter((F.col(col) >= lower) & (F.col(col) <= upper))\n",
    "        after = clean_df.count()\n",
    "\n",
    "        removed = before - after\n",
    "        total_removed += removed\n",
    "\n",
    "        if removed > 0:\n",
    "            print(f\" - {removed} rows removed based on column '{col}'\")\n",
    "\n",
    "    if total_removed == 0:\n",
    "        print(\" - No outliers removed.\")\n",
    "\n",
    "    return clean_df\n",
    "\n",
    "# Define columns to exclude from outlier removal\n",
    "exclude_case = ['case_id']\n",
    "exclude_common = ['case_id', 'id']\n",
    "exclude_party = ['case_id', 'id', 'party_number']\n",
    "exclude_victim = ['case_id', 'id', 'party_number']\n",
    "\n",
    "# Apply the outlier removal to all datasets\n",
    "case_df = remove_outliers_iqr(case_df, \"case_df\", exclude_case)\n",
    "collisions_df = remove_outliers_iqr(collisions_df, \"collisions_df\", exclude_common)\n",
    "parties_df = remove_outliers_iqr(parties_df, \"parties_df\", exclude_party)\n",
    "victims_df = remove_outliers_iqr(victims_df, \"victims_df\", exclude_victim)"
   ]
  },
  {
   "cell_type": "markdown",
   "metadata": {
    "id": "hnfqJzRGROS3"
   },
   "source": [
    "#**3. Exploratory Data Analysis** <font color = red>[65 marks]</font> <br>\n"
   ]
  },
  {
   "cell_type": "markdown",
   "metadata": {
    "id": "7o5r7LZ4XHS4"
   },
   "source": [
    "##**3.1.1. Data Preparation** <font color = red>[5 marks]</font> <br>\n",
    "\n",
    "Q: Classify variables into categorical and numerical."
   ]
  },
  {
   "cell_type": "code",
   "execution_count": 11,
   "metadata": {
    "execution": {
     "iopub.execute_input": "2025-06-16T04:42:32.281456Z",
     "iopub.status.busy": "2025-06-16T04:42:32.281258Z",
     "iopub.status.idle": "2025-06-16T04:42:33.051783Z",
     "shell.execute_reply": "2025-06-16T04:42:33.050772Z",
     "shell.execute_reply.started": "2025-06-16T04:42:32.281428Z"
    }
   },
   "outputs": [
    {
     "data": {
      "application/vnd.jupyter.widget-view+json": {
       "model_id": "22453fbce8b248bbb4935fa560f8badf",
       "version_major": 2,
       "version_minor": 0
      },
      "text/plain": [
       "VBox()"
      ]
     },
     "metadata": {},
     "output_type": "display_data"
    },
    {
     "data": {
      "application/vnd.jupyter.widget-view+json": {
       "model_id": "",
       "version_major": 2,
       "version_minor": 0
      },
      "text/plain": [
       "FloatProgress(value=0.0, bar_style='info', description='Progress:', layout=Layout(height='25px', width='50%'),…"
      ]
     },
     "metadata": {},
     "output_type": "display_data"
    },
    {
     "name": "stdout",
     "output_type": "stream",
     "text": [
      "Skipped casting: 'latitude' not found in DataFrame.\n",
      "Skipped casting: 'longitude' not found in DataFrame.\n",
      "Categorical Columns: ['case_id', 'jurisdiction', 'officer_id', 'chp_shift', 'population', 'county_city_location', 'county_location', 'special_condition', 'beat_type', 'chp_beat_type', 'chp_beat_class', 'beat_number', 'primary_road', 'secondary_road', 'direction', 'intersection', 'weather_1', 'state_highway_indicator', 'tow_away', 'collision_severity', 'primary_collision_factor', 'pcf_violation_category', 'hit_and_run', 'type_of_collision', 'motor_vehicle_involved_with', 'pedestrian_action', 'road_surface', 'road_condition_1', 'lighting', 'control_device', 'chp_road_type', 'statewide_vehicle_type_at_fault', 'chp_vehicle_type_at_fault', 'collision_time']\n",
      "Numerical Columns: ['distance', 'killed_victims', 'injured_victims', 'party_count', 'pcf_violation', 'pedestrian_collision', 'bicycle_collision', 'motorcycle_collision', 'truck_collision', 'not_private_property', 'severe_injury_count', 'other_visible_injury_count', 'complaint_of_pain_injury_count', 'pedestrian_killed_count', 'pedestrian_injured_count', 'bicyclist_killed_count', 'bicyclist_injured_count', 'motorcyclist_killed_count', 'motorcyclist_injured_count']"
     ]
    }
   ],
   "source": [
    "from pyspark.sql.types import DoubleType\n",
    "from pyspark.sql import functions as F\n",
    "\n",
    "numeric_like_columns = [\n",
    "    'distance', 'killed_victims', 'injured_victims', 'party_count',\n",
    "    'pcf_violation', 'pedestrian_collision', 'bicycle_collision',\n",
    "    'motorcycle_collision', 'truck_collision', 'not_private_property',\n",
    "    'severe_injury_count', 'other_visible_injury_count', 'complaint_of_pain_injury_count',\n",
    "    'pedestrian_killed_count', 'pedestrian_injured_count', 'bicyclist_killed_count',\n",
    "    'bicyclist_injured_count', 'motorcyclist_killed_count', 'motorcyclist_injured_count',\n",
    "    'latitude', 'longitude'\n",
    "]\n",
    "\n",
    "# Get the list of actual columns in the DataFrame\n",
    "available_columns = collisions_df.columns\n",
    "\n",
    "# Cast only if the column exists\n",
    "for col in numeric_like_columns:\n",
    "    if col in available_columns:\n",
    "        collisions_df = collisions_df.withColumn(col, F.col(col).cast(DoubleType()))\n",
    "    else:\n",
    "        print(f\"Skipped casting: '{col}' not found in DataFrame.\")\n",
    "\n",
    "def classify_columns(df):\n",
    "    categorical_cols = [c for c, t in df.dtypes if t == 'string']\n",
    "    numerical_cols = [c for c, t in df.dtypes if t in ['int', 'double']]\n",
    "    return categorical_cols, numerical_cols\n",
    "\n",
    "categorical_cols, numerical_cols = classify_columns(collisions_df)\n",
    "\n",
    "print(\"Categorical Columns:\", categorical_cols)\n",
    "print(\"Numerical Columns:\", numerical_cols)"
   ]
  },
  {
   "cell_type": "code",
   "execution_count": 12,
   "metadata": {
    "execution": {
     "iopub.execute_input": "2025-06-16T04:42:33.053119Z",
     "iopub.status.busy": "2025-06-16T04:42:33.052917Z",
     "iopub.status.idle": "2025-06-16T04:50:40.998636Z",
     "shell.execute_reply": "2025-06-16T04:50:40.997662Z",
     "shell.execute_reply.started": "2025-06-16T04:42:33.053090Z"
    },
    "id": "Y0jC1E0LsEuu"
   },
   "outputs": [
    {
     "data": {
      "application/vnd.jupyter.widget-view+json": {
       "model_id": "d4f4d778a38a4462a6959b592ec076ed",
       "version_major": 2,
       "version_minor": 0
      },
      "text/plain": [
       "VBox()"
      ]
     },
     "metadata": {},
     "output_type": "display_data"
    },
    {
     "data": {
      "application/vnd.jupyter.widget-view+json": {
       "model_id": "",
       "version_major": 2,
       "version_minor": 0
      },
      "text/plain": [
       "FloatProgress(value=0.0, bar_style='info', description='Progress:', layout=Layout(height='25px', width='50%'),…"
      ]
     },
     "metadata": {},
     "output_type": "display_data"
    },
    {
     "name": "stdout",
     "output_type": "stream",
     "text": [
      "Categorical Columns:\n",
      "['case_id', 'jurisdiction', 'officer_id', 'chp_shift', 'population', 'county_city_location', 'county_location', 'special_condition', 'beat_type', 'chp_beat_type', 'chp_beat_class', 'beat_number', 'primary_road', 'secondary_road', 'direction', 'intersection', 'weather_1', 'state_highway_indicator', 'tow_away', 'collision_severity', 'primary_collision_factor', 'pcf_violation_category', 'hit_and_run', 'type_of_collision', 'motor_vehicle_involved_with', 'pedestrian_action', 'road_surface', 'road_condition_1', 'lighting', 'control_device', 'chp_road_type', 'statewide_vehicle_type_at_fault', 'chp_vehicle_type_at_fault', 'collision_time']\n",
      "\n",
      "Numerical Columns:\n",
      "['distance', 'killed_victims', 'injured_victims', 'party_count', 'pcf_violation', 'pedestrian_collision', 'bicycle_collision', 'motorcycle_collision', 'truck_collision', 'not_private_property', 'severe_injury_count', 'other_visible_injury_count', 'complaint_of_pain_injury_count', 'pedestrian_killed_count', 'pedestrian_injured_count', 'bicyclist_killed_count', 'bicyclist_injured_count', 'motorcyclist_killed_count', 'motorcyclist_injured_count']\n",
      "Encoding important column: collision_severity\n",
      "Encoded 34 categorical columns.\n",
      "+----------+------------+----------+--------------+----------------+--------------------+---------------+-----------------+-------------------+----------------+--------------+-----------+--------------------+-----------------+--------+---------+------------+---------+-----------------------+--------+--------------------+--------------+---------------+-----------+------------------------+----------------------+-------------+---------------+-----------------+---------------------------+--------------------+------------+----------------+--------------------+--------------+-------------+--------------------+-----------------+--------------------+---------------+--------------------+-------------------------------+-------------------------+-------------------+--------------------------+------------------------------+-----------------------+------------------------+----------------------+-----------------------+-------------------------+--------------------------+--------------+--------------+------------+---------------+--------------------+------------------+-----------------+------------------+----------------------------+-----------------------+-------------------------+-----------------+---------------------+----------------------+-------------------+--------------------+----------------------+-----------------+--------------------+-----------------+-------------------------------+----------------+--------------------------+--------------------------------+------------------------------+-------------------+-------------------------+-----------------------------------+-------------------------+--------------------+------------------------+----------------+----------------------+---------------------+---------------------------------------+---------------------------------+----------------------+\n",
      "|   case_id|jurisdiction|officer_id|     chp_shift|      population|county_city_location|county_location|special_condition|          beat_type|   chp_beat_type|chp_beat_class|beat_number|        primary_road|   secondary_road|distance|direction|intersection|weather_1|state_highway_indicator|tow_away|  collision_severity|killed_victims|injured_victims|party_count|primary_collision_factor|pcf_violation_category|pcf_violation|    hit_and_run|type_of_collision|motor_vehicle_involved_with|   pedestrian_action|road_surface|road_condition_1|            lighting|control_device|chp_road_type|pedestrian_collision|bicycle_collision|motorcycle_collision|truck_collision|not_private_property|statewide_vehicle_type_at_fault|chp_vehicle_type_at_fault|severe_injury_count|other_visible_injury_count|complaint_of_pain_injury_count|pedestrian_killed_count|pedestrian_injured_count|bicyclist_killed_count|bicyclist_injured_count|motorcyclist_killed_count|motorcyclist_injured_count|collision_date|collision_time|process_date|case_id_indexed|jurisdiction_indexed|officer_id_indexed|chp_shift_indexed|population_indexed|county_city_location_indexed|county_location_indexed|special_condition_indexed|beat_type_indexed|chp_beat_type_indexed|chp_beat_class_indexed|beat_number_indexed|primary_road_indexed|secondary_road_indexed|direction_indexed|intersection_indexed|weather_1_indexed|state_highway_indicator_indexed|tow_away_indexed|collision_severity_indexed|primary_collision_factor_indexed|pcf_violation_category_indexed|hit_and_run_indexed|type_of_collision_indexed|motor_vehicle_involved_with_indexed|pedestrian_action_indexed|road_surface_indexed|road_condition_1_indexed|lighting_indexed|control_device_indexed|chp_road_type_indexed|statewide_vehicle_type_at_fault_indexed|chp_vehicle_type_at_fault_indexed|collision_time_indexed|\n",
      "+----------+------------+----------+--------------+----------------+--------------------+---------------+-----------------+-------------------+----------------+--------------+-----------+--------------------+-----------------+--------+---------+------------+---------+-----------------------+--------+--------------------+--------------+---------------+-----------+------------------------+----------------------+-------------+---------------+-----------------+---------------------------+--------------------+------------+----------------+--------------------+--------------+-------------+--------------------+-----------------+--------------------+---------------+--------------------+-------------------------------+-------------------------+-------------------+--------------------------+------------------------------+-----------------------+------------------------+----------------------+-----------------------+-------------------------+--------------------------+--------------+--------------+------------+---------------+--------------------+------------------+-----------------+------------------+----------------------------+-----------------------+-------------------------+-----------------+---------------------+----------------------+-------------------+--------------------+----------------------+-----------------+--------------------+-----------------+-------------------------------+----------------+--------------------------+--------------------------------+------------------------------+-------------------+-------------------------+-----------------------------------+-------------------------+--------------------+------------------------+----------------+----------------------+---------------------+---------------------------------------+---------------------------------+----------------------+\n",
      "| 8548328.0|      3604.0|      1147|       not chp|100000 to 250000|                3604| san bernardino|              0.0|            not chp|         not chp|       not chp|    Unknown|          AUGUSTA DR|       MEDINAH RD|     0.0|  Unknown|         1.0|    clear|                    0.0|     1.0|property damage only|           0.0|            0.0|        2.0|    vehicle code viol...|  automobile right ...|      21802.0|not hit and run|        broadside|        other motor vehicle|no pedestrian inv...|         dry|          normal|            daylight|   functioning|            0|                 0.0|              0.0|                 0.0|            0.0|                 1.0|                  passenger car|     passenger car, st...|                0.0|                       0.0|                           0.0|                    0.0|                     0.0|                   0.0|                    0.0|                      0.0|                       0.0|    2018-01-11|      13:29:00|  2018-02-20|       702399.0|                55.0|             234.0|              0.0|               2.0|                        26.0|                    2.0|                      0.0|              0.0|                  0.0|                   0.0|                0.0|              7593.0|              101269.0|              0.0|                 1.0|              0.0|                            0.0|             0.0|                       0.0|                             0.0|                           2.0|                0.0|                      1.0|                                0.0|                      0.0|                 0.0|                     0.0|             0.0|                   1.0|                  0.0|                                    0.0|                              0.0|                 667.0|\n",
      "| 3326773.0|      9535.0|     15800|1400 thru 2159|  unincorporated|                1900|    los angeles|              0.0|chp county roadline|county road line|     chp other|        011|          EASTERN AV|        FLORAL DR|     0.0|  Unknown|         1.0|    clear|                    0.0|     0.0|property damage only|           0.0|            0.0|        2.0|    vehicle code viol...|  traffic signals a...|      21453.0|not hit and run|        broadside|        other motor vehicle|no pedestrian inv...|         dry|          normal|            daylight|   functioning|            0|                 0.0|              0.0|                 0.0|            0.0|                 1.0|                        Unknown|                  Unknown|                0.0|                       0.0|                           0.0|                    0.0|                     0.0|                   0.0|                    0.0|                      0.0|                       0.0|    2007-08-14|      14:01:00|  2008-01-16|       251297.0|                 8.0|            2350.0|              1.0|               1.0|                         1.0|                    0.0|                      0.0|              3.0|                  4.0|                   1.0|                7.0|               308.0|                1125.0|              0.0|                 1.0|              0.0|                            0.0|             1.0|                       0.0|                             0.0|                           5.0|                0.0|                      1.0|                                0.0|                      0.0|                 0.0|                     0.0|             0.0|                   1.0|                  0.0|                                    1.0|                              1.0|                 570.0|\n",
      "| 9034849.0|      3607.0|     20302|       not chp|100000 to 250000|                3607| san bernardino|              0.0|            not chp|         not chp|       not chp|        071|            PARCO AV|         CEDAR ST|    56.0|    south|         0.0|    clear|                    0.0|     1.0|                pain|           0.0|            3.0|        2.0|    vehicle code viol...|  automobile right ...|      21801.0|not hit and run|        broadside|        other motor vehicle|no pedestrian inv...|         dry|          normal|            daylight|          none|            0|                 0.0|              0.0|                 0.0|            0.0|                 1.0|                  passenger car|     passenger car, st...|                0.0|                       0.0|                           3.0|                    0.0|                     0.0|                   0.0|                    0.0|                      0.0|                       0.0|    2019-11-18|      12:28:00|  2020-02-01|       805282.0|                56.0|            7748.0|              0.0|               2.0|                        18.0|                    2.0|                      0.0|              0.0|                  0.0|                   0.0|               28.0|             13296.0|                 310.0|              1.0|                 0.0|              0.0|                            0.0|             0.0|                       1.0|                             0.0|                           2.0|                0.0|                      1.0|                                0.0|                      0.0|                 0.0|                     0.0|             0.0|                   0.0|                  0.0|                                    0.0|                              0.0|                 499.0|\n",
      "|90216755.0|      9535.0|    019839|1400 thru 2159|  unincorporated|                1900|    los angeles|              0.0|chp county roadarea|county road area|     chp other|        001|CESAR E CHAVEZ AV...|    RECORD AVENUE|    45.0|     east|         0.0|    clear|                    0.0|     0.0|property damage only|           0.0|            0.0|        2.0|    vehicle code viol...|                   dui|      23152.0|not hit and run|        sideswipe|       parked motor vehicle|no pedestrian inv...|         dry|          normal|            daylight|          none|            0|                 0.0|              0.0|                 0.0|            0.0|                 1.0|                  passenger car|     passenger car, st...|                0.0|                       0.0|                           0.0|                    0.0|                     0.0|                   0.0|                    0.0|                      0.0|                       0.0|    2016-05-30|      19:30:00|  2016-07-06|       792447.0|                 8.0|           15578.0|              1.0|               1.0|                         1.0|                    0.0|                      0.0|              2.0|                  3.0|                   1.0|                1.0|             44861.0|               37620.0|              3.0|                 0.0|              0.0|                            0.0|             1.0|                       0.0|                             0.0|                           3.0|                0.0|                      2.0|                                2.0|                      0.0|                 0.0|                     0.0|             0.0|                   0.0|                  0.0|                                    0.0|                              0.0|                  47.0|\n",
      "| 6249117.0|      3600.0|     D4301|       not chp| 50000 to 100000|                3619| san bernardino|              0.0|            not chp|         not chp|       not chp|        001|           LOCUST AV|          SEQUOIA|     0.0|  Unknown|         1.0|    clear|                    0.0|     1.0|property damage only|           0.0|            0.0|        2.0|    vehicle code viol...|  automobile right ...|      21802.0|not hit and run|        broadside|        other motor vehicle|no pedestrian inv...|         dry|          normal|            daylight|   functioning|            0|                 0.0|              0.0|                 0.0|            0.0|                 1.0|                  passenger car|     passenger car, st...|                0.0|                       0.0|                           0.0|                    0.0|                     0.0|                   0.0|                    0.0|                      0.0|                       0.0|    2013-09-28|      12:41:00|  2014-10-29|       541669.0|                12.0|            3965.0|              0.0|               3.0|                        93.0|                    2.0|                      0.0|              0.0|                  0.0|                   0.0|                1.0|              1101.0|                4654.0|              0.0|                 1.0|              0.0|                            0.0|             0.0|                       0.0|                             0.0|                           2.0|                0.0|                      1.0|                                0.0|                      0.0|                 0.0|                     0.0|             0.0|                   1.0|                  0.0|                                    0.0|                              0.0|                 628.0|\n",
      "| 6667509.0|      9375.0|    018938|0600 thru 1359|  unincorporated|                 100|        alameda|              0.0|  chp state highway|      interstate|     chp other|        580|              RT 580|         164TH AV|  1200.0|     west|         0.0|    clear|                    1.0|     1.0|property damage only|           0.0|            0.0|        1.0|    vehicle code viol...|      improper turning|      22107.0|    misdemeanor|       hit object|               fixed object|no pedestrian inv...|         dry|          normal|            daylight|          none|            1|                 0.0|              0.0|                 0.0|            0.0|                 1.0|                  passenger car|     passenger car, st...|                0.0|                       0.0|                           0.0|                    0.0|                     0.0|                   0.0|                    0.0|                      0.0|                       0.0|    2014-09-27|      07:15:00|  2016-05-14|       584041.0|                82.0|            1126.0|              2.0|               1.0|                        21.0|                    5.0|                      0.0|              1.0|                  1.0|                   1.0|              349.0|                14.0|                6158.0|              4.0|                 0.0|              0.0|                            1.0|             0.0|                       0.0|                             0.0|                           1.0|                1.0|                      3.0|                                1.0|                      0.0|                 0.0|                     0.0|             0.0|                   0.0|                  1.0|                                    0.0|                              0.0|                 114.0|\n",
      "| 5872570.0|      3008.0|      1452|       not chp|100000 to 250000|                3008|         orange|              0.0|            not chp|         not chp|       not chp|    Unknown|           HARBOR BL|           ASH ST|    30.0|    south|         0.0|    clear|                    0.0|     0.0|                pain|           0.0|            1.0|        2.0|    vehicle code viol...|              speeding|      22350.0|    misdemeanor|         rear end|        other motor vehicle|no pedestrian inv...|         dry|          normal|            daylight|          none|            0|                 0.0|              0.0|                 0.0|            0.0|                 1.0|                        Unknown|                  Unknown|                0.0|                       0.0|                           1.0|                    0.0|                     0.0|                   0.0|                    0.0|                      0.0|                       0.0|    2012-10-22|      07:01:00|  2014-04-18|       503378.0|                81.0|           13758.0|              0.0|               2.0|                        51.0|                    1.0|                      0.0|              0.0|                  0.0|                   0.0|                0.0|                58.0|                 745.0|              1.0|                 0.0|              0.0|                            0.0|             1.0|                       1.0|                             0.0|                           0.0|                1.0|                      0.0|                                0.0|                      0.0|                 0.0|                     0.0|             0.0|                   0.0|                  0.0|                                    1.0|                              1.0|                1089.0|\n",
      "| 4703364.0|      9345.0|     19532|1400 thru 2159|100000 to 250000|                 106|        alameda|              0.0|  chp state highway|     state route|     chp other|        092|               RT 92|      CLAWITER RD|    50.0|     east|         0.0|    clear|                    1.0|     0.0|property damage only|           0.0|            0.0|        3.0|    vehicle code viol...|    unsafe lane change|      21658.0|not hit and run|        sideswipe|        other motor vehicle|no pedestrian inv...|         dry|          normal|            daylight|          none|            1|                 0.0|              0.0|                 0.0|            0.0|                 1.0|                  passenger car|     passenger car, st...|                0.0|                       0.0|                           0.0|                    0.0|                     0.0|                   0.0|                    0.0|                      0.0|                       0.0|    2010-05-11|      15:55:00|  2011-08-17|       388979.0|                37.0|           10676.0|              1.0|               2.0|                        42.0|                    5.0|                      0.0|              1.0|                  2.0|                   1.0|               78.0|                82.0|                1719.0|              3.0|                 0.0|              0.0|                            1.0|             1.0|                       0.0|                             0.0|                           4.0|                0.0|                      2.0|                                0.0|                      0.0|                 0.0|                     0.0|             0.0|                   0.0|                  1.0|                                    0.0|                              0.0|                  84.0|\n",
      "| 1322246.0|      1941.0|      6130|       not chp|         >250000|                1941|    los angeles|              0.0|            not chp|         not chp|       not chp|        004|            LEMON AV|PACIFIC COAST HWY|   197.0|    north|         0.0|    clear|                    1.0|     1.0|property damage only|           0.0|            0.0|        2.0|    vehicle code viol...|    unsafe lane change|      21658.0|    misdemeanor|        sideswipe|       parked motor vehicle|no pedestrian inv...|         dry|          normal|dark with street ...|          none|            0|                 0.0|              0.0|                 0.0|            0.0|                 1.0|                        Unknown|                  Unknown|                0.0|                       0.0|                           0.0|                    0.0|                     0.0|                   0.0|                    0.0|                      0.0|                       0.0|    2004-03-15|      19:15:00|  2004-10-20|        44047.0|                16.0|           16782.0|              0.0|               0.0|                         5.0|                    0.0|                      0.0|              0.0|                  0.0|                   0.0|                4.0|               881.0|                 134.0|              2.0|                 0.0|              0.0|                            1.0|             0.0|                       0.0|                             0.0|                           4.0|                1.0|                      2.0|                                2.0|                      0.0|                 0.0|                     0.0|             1.0|                   0.0|                  0.0|                                    1.0|                              1.0|                  98.0|\n",
      "| 6795452.0|      4300.0|      2154|       not chp|  25000 to 50000|                4315|    santa clara|              0.0|            not chp|         not chp|       not chp|       61S1|SARATOGA SUNNYVAL...|      SARATOGA AV|   346.0|    north|         0.0|    clear|                    0.0|     0.0|       severe injury|           0.0|            1.0|        2.0|    vehicle code viol...|  other hazardous v...|      21209.0|         felony|       pedestrian|                 pedestrian|             in road|         dry|          normal|dark with street ...|          none|            0|                 1.0|              0.0|                 0.0|            0.0|                 1.0|                  passenger car|     sport utility veh...|                1.0|                       0.0|                           0.0|                    0.0|                     1.0|                   0.0|                    0.0|                      0.0|                       0.0|    2014-08-01|      00:39:00|  2015-01-30|       597150.0|               144.0|           15189.0|              0.0|               4.0|                       312.0|                    7.0|                      0.0|              0.0|                  0.0|                   0.0|             3557.0|              2667.0|                 317.0|              2.0|                 0.0|              0.0|                            0.0|             1.0|                       3.0|                             0.0|                          12.0|                2.0|                      7.0|                                3.0|                      3.0|                 0.0|                     0.0|             1.0|                   0.0|                  0.0|                                    0.0|                              3.0|                1168.0|\n",
      "| 2044953.0|      9340.0|    017900|1400 thru 2159|         >250000|                4313|    santa clara|              0.0|  chp state highway|      interstate|     chp other|        681|              RT 680|     CALAVERAS BL|    60.0|    south|         0.0|    clear|                    1.0|     0.0|property damage only|           0.0|            0.0|        2.0|    vehicle code viol...|              speeding|      22350.0|not hit and run|         rear end|        other motor vehicle|no pedestrian inv...|         dry|          normal|            daylight|          none|            1|                 0.0|              0.0|                 0.0|            0.0|                 1.0|                  passenger car|     passenger car, st...|                0.0|                       0.0|                           0.0|                    0.0|                     0.0|                   0.0|                    0.0|                      0.0|                       0.0|    2005-05-10|      19:35:00|  2005-10-25|       116211.0|                10.0|            2387.0|              1.0|               0.0|                         6.0|                    7.0|                      0.0|              1.0|                  1.0|                   1.0|               89.0|                17.0|                3491.0|              1.0|                 0.0|              0.0|                            1.0|             1.0|                       0.0|                             0.0|                           0.0|                0.0|                      0.0|                                0.0|                      0.0|                 0.0|                     0.0|             0.0|                   0.0|                  1.0|                                    0.0|                              0.0|                 182.0|\n",
      "| 2154395.0|      3604.0|      P754|       not chp|100000 to 250000|                3604| san bernardino|              0.0|            not chp|         not chp|       not chp|    Unknown|         PALMETTO AV|       RANDALL AV|  1320.0|    south|         0.0|    clear|                    0.0|     1.0|property damage only|           0.0|            0.0|        1.0|             fell asleep|           fell asleep|         NULL|not hit and run|       hit object|               other object|no pedestrian inv...|         dry|          normal|dark with street ...|          none|            0|                 0.0|              0.0|                 0.0|            0.0|                 1.0|                        Unknown|                  Unknown|                0.0|                       0.0|                           0.0|                    0.0|                     0.0|                   0.0|                    0.0|                      0.0|                       0.0|    2005-06-09|      04:16:00|  2005-11-07|       126909.0|                55.0|           29613.0|              0.0|               2.0|                        26.0|                    2.0|                      0.0|              0.0|                  0.0|                   0.0|                0.0|              1288.0|                1189.0|              1.0|                 0.0|              0.0|                            0.0|             0.0|                       0.0|                             5.0|                          19.0|                0.0|                      3.0|                                6.0|                      0.0|                 0.0|                     0.0|             1.0|                   0.0|                  0.0|                                    1.0|                              1.0|                1364.0|\n",
      "|  889319.0|      9370.0|    016808|2200 thru 0559| 50000 to 100000|                 710|   contra costa|              0.0|  chp state highway|      interstate|     chp other|        082|               RT 80|       MCBRYDE AV|   220.0|     east|         0.0|   cloudy|                    1.0|     1.0|       severe injury|           0.0|            1.0|        2.0|       other than driver|  other than driver...|         NULL|         felony|       pedestrian|                 pedestrian|             in road|         wet|          normal|dark with no stre...|          none|            6|                 1.0|              0.0|                 0.0|            0.0|                 1.0|                        Unknown|                  Unknown|                1.0|                       0.0|                           0.0|                    0.0|                     1.0|                   0.0|                    0.0|                      0.0|                       0.0|    2003-05-03|      04:50:00|  2004-02-25|       738399.0|                26.0|           20618.0|              3.0|               3.0|                        88.0|                    8.0|                      0.0|              1.0|                  1.0|                   1.0|               43.0|                 5.0|                3531.0|              3.0|                 0.0|              1.0|                            1.0|             0.0|                       3.0|                             2.0|                          10.0|                2.0|                      7.0|                                3.0|                      3.0|                 1.0|                     0.0|             2.0|                   0.0|                  2.0|                                    1.0|                              1.0|                 257.0|\n",
      "|  150183.0|      9725.0|     16297|0600 thru 1359|  unincorporated|                4300|    santa clara|              0.0|  chp state highway|      us highway|     chp other|        012|              RT 101|    EAST DUNNE AV|  1320.0|    north|         0.0|   cloudy|                    1.0|     0.0|property damage only|           0.0|            0.0|        2.0|    vehicle code viol...|              speeding|      22350.0|not hit and run|         rear end|        other motor vehicle|no pedestrian inv...|         dry|          normal|            daylight|          none|            1|                 0.0|              0.0|                 0.0|            0.0|                 1.0|           pickup or panel t...|         pickups & panels|                0.0|                       0.0|                           0.0|                    0.0|                     0.0|                   0.0|                    0.0|                      0.0|                       0.0|    2002-04-18|      08:00:00|  2002-12-20|        61594.0|                70.0|           24728.0|              2.0|               1.0|                        69.0|                    7.0|                      0.0|              1.0|                  5.0|                   1.0|               13.0|                 0.0|                3684.0|              2.0|                 0.0|              1.0|                            1.0|             1.0|                       0.0|                             0.0|                           0.0|                0.0|                      0.0|                                0.0|                      0.0|                 0.0|                     0.0|             0.0|                   0.0|                  1.0|                                    2.0|                              2.0|                   8.0|\n",
      "| 2343733.0|      9540.0|     15973|2200 thru 0559|         >250000|                1942|    los angeles|              0.0|  chp state highway|      interstate|   chp primary|        503|                RT 5|       ROXFORD ST|  2640.0|    north|         0.0|    clear|                    1.0|     0.0|property damage only|           0.0|            0.0|        1.0|    vehicle code viol...|              speeding|      22350.0|not hit and run|       hit object|               other object|no pedestrian inv...|         dry|          normal|dark with street ...|   functioning|            1|                 0.0|              0.0|                 0.0|            0.0|                 1.0|                  passenger car|     passenger car, st...|                0.0|                       0.0|                           0.0|                    0.0|                     0.0|                   0.0|                    0.0|                      0.0|                       0.0|    2005-11-19|      23:45:00|  2006-04-05|       145632.0|                40.0|            8341.0|              3.0|               0.0|                         0.0|                    0.0|                      0.0|              1.0|                  1.0|                   2.0|               49.0|                 1.0|                 331.0|              2.0|                 0.0|              0.0|                            1.0|             1.0|                       0.0|                             0.0|                           0.0|                0.0|                      3.0|                                6.0|                      0.0|                 0.0|                     0.0|             1.0|                   1.0|                  1.0|                                    0.0|                              0.0|                 209.0|\n",
      "| 7112004.0|      1942.0|     41001|       not chp|         >250000|                1942|    los angeles|              0.0|            not chp|         not chp|       not chp|     LOSANG|           GAFFEY ST|           2ND ST|    32.0|    south|         0.0|    clear|                    0.0|     0.0|                pain|           0.0|            1.0|        2.0|    vehicle code viol...|    unsafe lane change|      21658.0|    misdemeanor|        sideswipe|        other motor vehicle|no pedestrian inv...|         dry|          normal|dark with street ...|          none|            0|                 0.0|              0.0|                 0.0|            0.0|                 1.0|                        Unknown|     unknown hit and r...|                0.0|                       0.0|                           1.0|                    0.0|                     0.0|                   0.0|                    0.0|                      0.0|                       0.0|    2015-09-29|      21:25:00|  2016-01-12|       630871.0|                 0.0|           52697.0|              0.0|               0.0|                         0.0|                    0.0|                      0.0|              0.0|                  0.0|                   0.0|             3610.0|               646.0|                  13.0|              1.0|                 0.0|              0.0|                            0.0|             1.0|                       1.0|                             0.0|                           4.0|                1.0|                      2.0|                                0.0|                      0.0|                 0.0|                     0.0|             1.0|                   0.0|                  0.0|                                    1.0|                              4.0|                 207.0|\n",
      "| 9195756.0|      3801.0|      1833|       not chp|         >250000|                3801|  san francisco|              0.0|            not chp|         not chp|       not chp|    Unknown|          OAKDALE AV| OAKDALE AV  1104|     0.0|  Unknown|         1.0|    clear|                    0.0|     0.0|property damage only|           0.0|            0.0|        2.0|    vehicle code viol...|  unsafe starting o...|      22106.0|    misdemeanor|         rear end|       parked motor vehicle|no pedestrian inv...|         dry|          normal|            daylight|          none|            0|                 0.0|              0.0|                 0.0|            0.0|                 1.0|                  passenger car|     passenger car, st...|                0.0|                       0.0|                           0.0|                    0.0|                     0.0|                   0.0|                    0.0|                      0.0|                       0.0|    2020-11-20|      07:40:00|  2021-01-13|       921274.0|                20.0|           12636.0|              0.0|               0.0|                         8.0|                   15.0|                      0.0|              0.0|                  0.0|                   0.0|                0.0|              2813.0|              107688.0|              0.0|                 1.0|              0.0|                            0.0|             1.0|                       0.0|                             0.0|                           6.0|                1.0|                      0.0|                                2.0|                      0.0|                 0.0|                     0.0|             0.0|                   0.0|                  0.0|                                    0.0|                              0.0|                  49.0|\n",
      "| 2945772.0|      9330.0|    018174|0600 thru 1359| 50000 to 100000|                4311|    santa clara|              0.0|  chp state highway|      us highway|     chp other|        078|              RT 101|    RENGSTORFF AV|   528.0|    south|         0.0|    clear|                    1.0|     0.0|property damage only|           0.0|            0.0|        2.0|    vehicle code viol...|              speeding|      22350.0|not hit and run|         rear end|        other motor vehicle|no pedestrian inv...|         dry|          normal|            daylight|          none|            1|                 0.0|              0.0|                 0.0|            0.0|                 1.0|                  passenger car|     passenger car, st...|                0.0|                       0.0|                           0.0|                    0.0|                     0.0|                   0.0|                    0.0|                      0.0|                       0.0|    2006-12-05|      08:17:00|  2007-04-13|       204606.0|                34.0|            4731.0|              2.0|               3.0|                       125.0|                    7.0|                      0.0|              1.0|                  5.0|                   1.0|              122.0|                 0.0|                 895.0|              1.0|                 0.0|              0.0|                            1.0|             1.0|                       0.0|                             0.0|                           0.0|                0.0|                      0.0|                                0.0|                      0.0|                 0.0|                     0.0|             0.0|                   0.0|                  1.0|                                    0.0|                              0.0|                 615.0|\n",
      "| 2846348.0|      9435.0|    012844|0600 thru 1359|  unincorporated|                1000|         fresno|              0.0|chp county roadarea|county road area|     chp other|        040|           BETHEL AV|          KAMM AV|  1110.0|    north|         0.0|    clear|                    0.0|     1.0|        other injury|           0.0|            2.0|        2.0|    vehicle code viol...|  automobile right ...|      21801.0|not hit and run|        broadside|        other motor vehicle|no pedestrian inv...|         dry|          normal|dark with street ...|          none|            0|                 0.0|              0.0|                 0.0|            0.0|                 1.0|                  passenger car|     passenger car, st...|                0.0|                       1.0|                           1.0|                    0.0|                     0.0|                   0.0|                    0.0|                      0.0|                       0.0|    2006-10-10|      06:00:00|  2007-01-24|       194768.0|                19.0|           12912.0|              2.0|               1.0|                        16.0|                   12.0|                      0.0|              2.0|                  3.0|                   1.0|               12.0|              1937.0|                2015.0|              2.0|                 0.0|              0.0|                            0.0|             0.0|                       2.0|                             0.0|                           2.0|                0.0|                      1.0|                                0.0|                      0.0|                 0.0|                     0.0|             1.0|                   0.0|                  0.0|                                    0.0|                              0.0|                 138.0|\n",
      "| 1928290.0|      9550.0|     17814|1400 thru 2159|  10000 to 25000|                1964|    los angeles|              0.0|  chp state highway|      interstate|     chp other|        650|              RT 605|     TELEGRAPH RD|   200.0|    north|         0.0|    clear|                    1.0|     1.0|                pain|           0.0|            1.0|        4.0|    vehicle code viol...|              speeding|      22350.0|not hit and run|         rear end|        other motor vehicle|no pedestrian inv...|         dry|          normal|dark with no stre...|          none|            1|                 0.0|              0.0|                 0.0|            0.0|                 1.0|                  passenger car|     passenger car, st...|                0.0|                       0.0|                           1.0|                    0.0|                     0.0|                   0.0|                    0.0|                      0.0|                       0.0|    2005-03-07|      18:10:00|  2005-09-22|       103567.0|                 2.0|            3583.0|              1.0|               5.0|                        95.0|                    0.0|                      0.0|              1.0|                  1.0|                   1.0|               62.0|                13.0|                  84.0|              2.0|                 0.0|              0.0|                            1.0|             0.0|                       1.0|                             0.0|                           0.0|                0.0|                      0.0|                                0.0|                      0.0|                 0.0|                     0.0|             2.0|                   0.0|                  1.0|                                    0.0|                              0.0|                  57.0|\n",
      "+----------+------------+----------+--------------+----------------+--------------------+---------------+-----------------+-------------------+----------------+--------------+-----------+--------------------+-----------------+--------+---------+------------+---------+-----------------------+--------+--------------------+--------------+---------------+-----------+------------------------+----------------------+-------------+---------------+-----------------+---------------------------+--------------------+------------+----------------+--------------------+--------------+-------------+--------------------+-----------------+--------------------+---------------+--------------------+-------------------------------+-------------------------+-------------------+--------------------------+------------------------------+-----------------------+------------------------+----------------------+-----------------------+-------------------------+--------------------------+--------------+--------------+------------+---------------+--------------------+------------------+-----------------+------------------+----------------------------+-----------------------+-------------------------+-----------------+---------------------+----------------------+-------------------+--------------------+----------------------+-----------------+--------------------+-----------------+-------------------------------+----------------+--------------------------+--------------------------------+------------------------------+-------------------+-------------------------+-----------------------------------+-------------------------+--------------------+------------------------+----------------+----------------------+---------------------+---------------------------------------+---------------------------------+----------------------+\n",
      "only showing top 20 rows"
     ]
    }
   ],
   "source": [
    "# Encode Categorical Variables\n",
    "from pyspark.sql import functions as F\n",
    "from pyspark.ml.feature import StringIndexer\n",
    "from pyspark.ml import Pipeline\n",
    "\n",
    "# Step 1: Classify Columns\n",
    "def classify_columns(df):\n",
    "    categorical_cols = [col_name for col_name, dtype in df.dtypes if dtype == 'string']\n",
    "    numerical_cols = [col_name for col_name, dtype in df.dtypes if dtype in ['int', 'double']]\n",
    "    return categorical_cols, numerical_cols\n",
    "\n",
    "categorical_cols, numerical_cols = classify_columns(collisions_df)\n",
    "\n",
    "print(\"Categorical Columns:\")\n",
    "print(categorical_cols)\n",
    "\n",
    "print(\"\\nNumerical Columns:\")\n",
    "print(numerical_cols)\n",
    "\n",
    "# Step 2: Encode Categorical Columns using StringIndexer\n",
    "def encode_categorical_columns(df, categorical_cols, important_cols=None):\n",
    "    indexers = []\n",
    "    for col in categorical_cols:\n",
    "        if important_cols and col in important_cols:\n",
    "            print(f\"Encoding important column: {col}\")\n",
    "        indexer = StringIndexer(inputCol=col, outputCol=col + \"_indexed\")\n",
    "        indexers.append(indexer)\n",
    "    \n",
    "    # Create a pipeline to apply all StringIndexers\n",
    "    pipeline = Pipeline(stages=indexers)\n",
    "    \n",
    "    # Fit and transform the data\n",
    "    df_transformed = pipeline.fit(df).transform(df)\n",
    "    \n",
    "    print(f\"Encoded {len(categorical_cols)} categorical columns.\")\n",
    "    return df_transformed\n",
    "\n",
    "# Ensure 'collision_severity' is included as an important column\n",
    "if 'collision_severity' not in categorical_cols:\n",
    "    categorical_cols.append('collision_severity')\n",
    "\n",
    "# Apply encoding to collisions_df\n",
    "collisions_df_transformed = encode_categorical_columns(collisions_df, categorical_cols, important_cols=['collision_severity'])\n",
    "\n",
    "# Show the transformed dataframe\n",
    "collisions_df_transformed.show()\n",
    "\n"
   ]
  },
  {
   "cell_type": "code",
   "execution_count": 13,
   "metadata": {
    "execution": {
     "iopub.execute_input": "2025-06-16T04:50:41.000329Z",
     "iopub.status.busy": "2025-06-16T04:50:41.000066Z",
     "iopub.status.idle": "2025-06-16T04:50:41.264529Z",
     "shell.execute_reply": "2025-06-16T04:50:41.263564Z",
     "shell.execute_reply.started": "2025-06-16T04:50:41.000282Z"
    },
    "id": "QcfwtlGLsz9v"
   },
   "outputs": [
    {
     "data": {
      "application/vnd.jupyter.widget-view+json": {
       "model_id": "f27915161ad2433f8154ea4ccb927486",
       "version_major": 2,
       "version_minor": 0
      },
      "text/plain": [
       "VBox()"
      ]
     },
     "metadata": {},
     "output_type": "display_data"
    },
    {
     "data": {
      "application/vnd.jupyter.widget-view+json": {
       "model_id": "",
       "version_major": 2,
       "version_minor": 0
      },
      "text/plain": [
       "FloatProgress(value=0.0, bar_style='info', description='Progress:', layout=Layout(height='25px', width='50%'),…"
      ]
     },
     "metadata": {},
     "output_type": "display_data"
    },
    {
     "name": "stdout",
     "output_type": "stream",
     "text": [
      "\n",
      "Final Schema: collisions_df\n",
      "root\n",
      " |-- case_id: string (nullable = false)\n",
      " |-- collision_date: date (nullable = true)\n",
      " |-- process_date: date (nullable = true)\n",
      " |-- collision_severity: string (nullable = false)\n",
      " |-- injured_victims: double (nullable = true)\n",
      " |-- killed_victims: double (nullable = true)\n",
      " |-- jurisdiction: string (nullable = false)\n",
      " |-- officer_id: string (nullable = false)\n",
      " |-- chp_shift: string (nullable = false)\n",
      " |-- population: string (nullable = false)\n",
      " |-- county_city_location: string (nullable = false)\n",
      " |-- county_location: string (nullable = false)\n",
      " |-- special_condition: string (nullable = false)\n",
      " |-- beat_type: string (nullable = false)\n",
      " |-- chp_beat_type: string (nullable = false)\n",
      " |-- chp_beat_class: string (nullable = false)\n",
      " |-- beat_number: string (nullable = false)\n",
      " |-- primary_road: string (nullable = false)\n",
      " |-- secondary_road: string (nullable = false)\n",
      " |-- distance: double (nullable = true)\n",
      " |-- direction: string (nullable = false)\n",
      " |-- intersection: string (nullable = false)\n",
      " |-- weather_1: string (nullable = false)\n",
      " |-- state_highway_indicator: string (nullable = false)\n",
      " |-- tow_away: string (nullable = false)\n",
      " |-- party_count: double (nullable = true)\n",
      " |-- primary_collision_factor: string (nullable = false)\n",
      " |-- pcf_violation_category: string (nullable = false)\n",
      " |-- pcf_violation: double (nullable = true)\n",
      " |-- hit_and_run: string (nullable = false)\n",
      " |-- type_of_collision: string (nullable = false)\n",
      " |-- motor_vehicle_involved_with: string (nullable = false)\n",
      " |-- pedestrian_action: string (nullable = false)\n",
      " |-- road_surface: string (nullable = false)\n",
      " |-- road_condition_1: string (nullable = false)\n",
      " |-- lighting: string (nullable = false)\n",
      " |-- control_device: string (nullable = false)\n",
      " |-- chp_road_type: string (nullable = false)\n",
      " |-- pedestrian_collision: double (nullable = true)\n",
      " |-- bicycle_collision: double (nullable = true)\n",
      " |-- motorcycle_collision: double (nullable = true)\n",
      " |-- truck_collision: double (nullable = true)\n",
      " |-- not_private_property: double (nullable = true)\n",
      " |-- statewide_vehicle_type_at_fault: string (nullable = false)\n",
      " |-- chp_vehicle_type_at_fault: string (nullable = false)\n",
      " |-- severe_injury_count: double (nullable = true)\n",
      " |-- other_visible_injury_count: double (nullable = true)\n",
      " |-- complaint_of_pain_injury_count: double (nullable = true)\n",
      " |-- pedestrian_killed_count: double (nullable = true)\n",
      " |-- pedestrian_injured_count: double (nullable = true)\n",
      " |-- bicyclist_killed_count: double (nullable = true)\n",
      " |-- bicyclist_injured_count: double (nullable = true)\n",
      " |-- motorcyclist_killed_count: double (nullable = true)\n",
      " |-- motorcyclist_injured_count: double (nullable = true)\n",
      " |-- collision_time: string (nullable = false)\n",
      "\n",
      "\n",
      "Final Schema: victims_df\n",
      "root\n",
      " |-- id: double (nullable = false)\n",
      " |-- case_id: double (nullable = false)\n",
      " |-- party_number: double (nullable = false)\n",
      " |-- role: string (nullable = false)\n",
      " |-- gender: string (nullable = false)\n",
      " |-- age: double (nullable = false)\n",
      " |-- injury_severity: string (nullable = false)\n",
      " |-- victim_seating_position: string (nullable = false)\n",
      " |-- victim_safety_equipment_1: string (nullable = false)\n",
      " |-- victim_safety_equipment_2: string (nullable = false)\n",
      " |-- victim_ejected: string (nullable = false)"
     ]
    }
   ],
   "source": [
    "# Reordering & Renaming Columns\n",
    "\n",
    "# ----------------------------\n",
    "# 1. Reorder columns in collisions_df\n",
    "# ----------------------------\n",
    "collisions_columns = collisions_df.columns\n",
    "\n",
    "# Preferred front columns\n",
    "front = ['case_id', 'collision_date', 'process_date', 'collision_severity', 'injured_victims', 'killed_victims']\n",
    "front = [col for col in front if col in collisions_columns]  # Keep only existing columns\n",
    "\n",
    "# Get remaining columns\n",
    "rest = [col for col in collisions_columns if col not in front]\n",
    "\n",
    "# Reorder\n",
    "collisions_df = collisions_df.select(front + rest)\n",
    "\n",
    "# ----------------------------\n",
    "# 2. Rename selected columns in victims_df\n",
    "# ----------------------------\n",
    "rename_mapping = {\n",
    "    'victim_sex': 'gender',\n",
    "    'victim_age': 'age',\n",
    "    'victim_degree_of_injury': 'injury_severity',\n",
    "    'victim_role': 'role'\n",
    "}\n",
    "\n",
    "for old_col, new_col in rename_mapping.items():\n",
    "    if old_col in victims_df.columns:\n",
    "        victims_df = victims_df.withColumnRenamed(old_col, new_col)\n",
    "\n",
    "# ----------------------------\n",
    "# 3. Print schemas\n",
    "# ----------------------------\n",
    "print(\"\\nFinal Schema: collisions_df\")\n",
    "collisions_df.printSchema()\n",
    "\n",
    "print(\"\\nFinal Schema: victims_df\")\n",
    "victims_df.printSchema()\n"
   ]
  },
  {
   "cell_type": "code",
   "execution_count": 14,
   "metadata": {
    "execution": {
     "iopub.execute_input": "2025-06-16T04:50:41.265890Z",
     "iopub.status.busy": "2025-06-16T04:50:41.265673Z",
     "iopub.status.idle": "2025-06-16T04:51:12.690455Z",
     "shell.execute_reply": "2025-06-16T04:51:12.689449Z",
     "shell.execute_reply.started": "2025-06-16T04:50:41.265859Z"
    },
    "id": "fCrvS0O1tb_x"
   },
   "outputs": [
    {
     "data": {
      "application/vnd.jupyter.widget-view+json": {
       "model_id": "7a7085b2f8854aafb407a08172715725",
       "version_major": 2,
       "version_minor": 0
      },
      "text/plain": [
       "VBox()"
      ]
     },
     "metadata": {},
     "output_type": "display_data"
    },
    {
     "data": {
      "application/vnd.jupyter.widget-view+json": {
       "model_id": "",
       "version_major": 2,
       "version_minor": 0
      },
      "text/plain": [
       "FloatProgress(value=0.0, bar_style='info', description='Progress:', layout=Layout(height='25px', width='50%'),…"
      ]
     },
     "metadata": {},
     "output_type": "display_data"
    },
    {
     "name": "stdout",
     "output_type": "stream",
     "text": [
      "case_df - Rows: 942398, Columns: 2\n",
      "collisions_df - Rows: 935791, Columns: 55\n",
      "parties_df - Rows: 1271981, Columns: 24\n",
      "victims_df - Rows: 948658, Columns: 11"
     ]
    }
   ],
   "source": [
    "# Final cleaned data\n",
    "def print_df_shape(df, name):\n",
    "    num_rows = df.count()\n",
    "    num_cols = len(df.columns)\n",
    "    print(f\"{name} - Rows: {num_rows}, Columns: {num_cols}\")\n",
    "\n",
    "# Print shapes for each cleaned DataFrame\n",
    "print_df_shape(case_df, \"case_df\")\n",
    "print_df_shape(collisions_df, \"collisions_df\")\n",
    "print_df_shape(parties_df, \"parties_df\")\n",
    "print_df_shape(victims_df, \"victims_df\")\n"
   ]
  },
  {
   "cell_type": "markdown",
   "metadata": {
    "id": "IwJW-jOmDafO"
   },
   "source": [
    "Loading the Final Cleaned Dataset into S3 Bucket"
   ]
  },
  {
   "cell_type": "markdown",
   "metadata": {
    "id": "XzNkZxGTuQbu"
   },
   "source": [
    "##**3.1.2. Analyze the distribution of collision severity.** <font color = red>[5 marks]</font> <br>\n",
    "\n",
    "Q: Analyze the distribution of collision severity."
   ]
  },
  {
   "cell_type": "code",
   "execution_count": 39,
   "metadata": {
    "execution": {
     "iopub.execute_input": "2025-06-16T05:11:30.317336Z",
     "iopub.status.busy": "2025-06-16T05:11:30.317076Z",
     "iopub.status.idle": "2025-06-16T05:11:45.643112Z",
     "shell.execute_reply": "2025-06-16T05:11:45.641950Z",
     "shell.execute_reply.started": "2025-06-16T05:11:30.317304Z"
    },
    "id": "9YMvi4IGtiyA",
    "tags": []
   },
   "outputs": [
    {
     "data": {
      "application/vnd.jupyter.widget-view+json": {
       "model_id": "05b7e0860e2c47ce8b2259060b27e3e5",
       "version_major": 2,
       "version_minor": 0
      },
      "text/plain": [
       "VBox()"
      ]
     },
     "metadata": {},
     "output_type": "display_data"
    },
    {
     "data": {
      "application/vnd.jupyter.widget-view+json": {
       "model_id": "",
       "version_major": 2,
       "version_minor": 0
      },
      "text/plain": [
       "FloatProgress(value=0.0, bar_style='info', description='Progress:', layout=Layout(height='25px', width='50%'),…"
      ]
     },
     "metadata": {},
     "output_type": "display_data"
    },
    {
     "name": "stdout",
     "output_type": "stream",
     "text": [
      "Plot saved to /tmp/collision_severity_plot.png"
     ]
    }
   ],
   "source": [
    "# Univariate Analysis\n",
    "\n",
    "# Collision Severity Distribution\n",
    "\n",
    "import matplotlib.pyplot as plt\n",
    "import seaborn as sns\n",
    "\n",
    "# Convert to Pandas\n",
    "severity_counts_df = collisions_df.groupBy(\"collision_severity\").count().orderBy(\"count\", ascending=False)\n",
    "severity_counts_pd = severity_counts_df.toPandas()\n",
    "\n",
    "# Plot\n",
    "plt.figure(figsize=(10, 6))\n",
    "sns.barplot(\n",
    "    data=severity_counts_pd,\n",
    "    x='collision_severity',\n",
    "    y='count',\n",
    "    hue='collision_severity',\n",
    "    legend=False,  # Hide redundant legend\n",
    "    palette='viridis'\n",
    ")\n",
    "plt.title(\"Collision Severity Distribution\")\n",
    "plt.xlabel(\"Collision Severity\")\n",
    "plt.ylabel(\"Count\")\n",
    "plt.xticks(rotation=45)\n",
    "plt.tight_layout()\n",
    "plt.show()\n",
    "\n",
    "# Save the plot\n",
    "output_path = \"/tmp/collision_severity_plot.png\"\n",
    "plt.savefig(output_path)\n",
    "print(f\"Plot saved to {output_path}\")\n",
    "\n",
    "import boto3\n",
    "\n",
    "s3 = boto3.client('s3')\n",
    "s3.upload_file('/tmp/collision_severity_plot.png', 'traffic-collisions-bucket', 'plots/collision_severity_plot.png')\n",
    "\n"
   ]
  },
  {
   "cell_type": "markdown",
   "metadata": {
    "id": "KI1zWl6icTiL"
   },
   "source": [
    "##**3.1.3. Weather conditions during collisions.** <font color = red>[5 marks]</font> <br>\n",
    "\n",
    "Q: Examine weather conditions during collisions."
   ]
  },
  {
   "cell_type": "code",
   "execution_count": 40,
   "metadata": {
    "execution": {
     "iopub.execute_input": "2025-06-16T05:13:50.149325Z",
     "iopub.status.busy": "2025-06-16T05:13:50.149033Z",
     "iopub.status.idle": "2025-06-16T05:14:11.691576Z",
     "shell.execute_reply": "2025-06-16T05:14:11.690717Z",
     "shell.execute_reply.started": "2025-06-16T05:13:50.149294Z"
    },
    "id": "Y-hnishxuh7F",
    "tags": []
   },
   "outputs": [
    {
     "data": {
      "application/vnd.jupyter.widget-view+json": {
       "model_id": "d56ca012d19047558d95264550520b5c",
       "version_major": 2,
       "version_minor": 0
      },
      "text/plain": [
       "VBox()"
      ]
     },
     "metadata": {},
     "output_type": "display_data"
    },
    {
     "data": {
      "application/vnd.jupyter.widget-view+json": {
       "model_id": "",
       "version_major": 2,
       "version_minor": 0
      },
      "text/plain": [
       "FloatProgress(value=0.0, bar_style='info', description='Progress:', layout=Layout(height='25px', width='50%'),…"
      ]
     },
     "metadata": {},
     "output_type": "display_data"
    },
    {
     "name": "stdout",
     "output_type": "stream",
     "text": [
      "Weather Condition Counts (Spark):\n",
      "+---------+------+\n",
      "|weather_1|count |\n",
      "+---------+------+\n",
      "|clear    |219575|\n",
      "|cloudy   |36778 |\n",
      "|raining  |7998  |\n",
      "|fog      |1070  |\n",
      "|snowing  |491   |\n",
      "|NULL     |487   |\n",
      "|other    |250   |\n",
      "|wind     |93    |\n",
      "+---------+------+\n",
      "\n",
      "Plot saved to /tmp/Weather_Conditions_During_Collisions.png"
     ]
    }
   ],
   "source": [
    "# Weather Conditions During Collisions\n",
    "import matplotlib.pyplot as plt\n",
    "#%matplotlib inline\n",
    "weather_counts_df = collisions_df.groupBy(\"weather_1\") \\\n",
    "                                 .count() \\\n",
    "                                 .orderBy(\"count\", ascending=False)\n",
    "\n",
    "print(\"Weather Condition Counts (Spark):\")\n",
    "weather_counts_df.show(truncate=False)\n",
    "\n",
    "# Convert to Pandas\n",
    "weather_counts_pd = weather_counts_df.toPandas()\n",
    "\n",
    "# Plot\n",
    "plt.figure(figsize=(12, 6))\n",
    "sns.barplot(data=weather_counts_pd,\n",
    "            x='weather_1',\n",
    "            y='count',\n",
    "            hue='weather_1',\n",
    "            palette='Set2',\n",
    "            legend=False)\n",
    "\n",
    "plt.title(\"Weather Conditions During Collisions\")\n",
    "plt.xlabel(\"Weather Condition\")\n",
    "plt.ylabel(\"Count\")\n",
    "plt.xticks(rotation=45)\n",
    "plt.tight_layout()\n",
    "plt.show()\n",
    "\n",
    "# Save the plot\n",
    "output_path = \"/tmp/Weather_Conditions_During_Collisions.png\"\n",
    "plt.savefig(output_path)\n",
    "print(f\"Plot saved to {output_path}\")\n",
    "\n",
    "import boto3\n",
    "\n",
    "s3 = boto3.client('s3')\n",
    "s3.upload_file('/tmp/Weather_Conditions_During_Collisions.png', 'traffic-collisions-bucket', 'plots/Weather_Conditions_During_Collisions.png')\n"
   ]
  },
  {
   "cell_type": "markdown",
   "metadata": {
    "id": "Is8jk7AMcW1h"
   },
   "source": [
    "##**3.1.4. Victime Age Distribution.** <font color = red>[5 marks]</font> <br>\n",
    "\n",
    "Q: Analyze the distribution of victim ages."
   ]
  },
  {
   "cell_type": "code",
   "execution_count": 43,
   "metadata": {
    "execution": {
     "iopub.execute_input": "2025-06-16T05:17:29.581681Z",
     "iopub.status.busy": "2025-06-16T05:17:29.581419Z",
     "iopub.status.idle": "2025-06-16T05:17:52.924057Z",
     "shell.execute_reply": "2025-06-16T05:17:52.923039Z",
     "shell.execute_reply.started": "2025-06-16T05:17:29.581649Z"
    },
    "id": "55qUOZ2nuqv2",
    "tags": []
   },
   "outputs": [
    {
     "data": {
      "application/vnd.jupyter.widget-view+json": {
       "model_id": "5d9df3e719c64912add987f84d3f16ae",
       "version_major": 2,
       "version_minor": 0
      },
      "text/plain": [
       "VBox()"
      ]
     },
     "metadata": {},
     "output_type": "display_data"
    },
    {
     "data": {
      "application/vnd.jupyter.widget-view+json": {
       "model_id": "",
       "version_major": 2,
       "version_minor": 0
      },
      "text/plain": [
       "FloatProgress(value=0.0, bar_style='info', description='Progress:', layout=Layout(height='25px', width='50%'),…"
      ]
     },
     "metadata": {},
     "output_type": "display_data"
    },
    {
     "name": "stdout",
     "output_type": "stream",
     "text": [
      "Plot saved to /tmp/Distribution_of_Victim_Ages.png"
     ]
    }
   ],
   "source": [
    "# Corrected column name\n",
    "victim_ages_df = victims_df.select(\"victim_age\").dropna()\n",
    "victim_ages_pd = victim_ages_df.toPandas()\n",
    "\n",
    "# Plot\n",
    "plt.figure(figsize=(10, 6))\n",
    "sns.histplot(victim_ages_pd[\"victim_age\"], bins=30, kde=True, color='skyblue')\n",
    "\n",
    "plt.title(\"Distribution of Victim Ages\")\n",
    "plt.xlabel(\"Age\")\n",
    "plt.ylabel(\"Frequency\")\n",
    "plt.grid(True)\n",
    "plt.tight_layout()\n",
    "\n",
    "# Show plot\n",
    "plt.show()\n",
    "\n",
    "# Save plot\n",
    "output_path = \"/tmp/Distribution_of_Victim_Ages.png\"\n",
    "plt.savefig(output_path)\n",
    "print(f\"Plot saved to {output_path}\")\n",
    "\n",
    "# Upload to S3\n",
    "import boto3\n",
    "s3 = boto3.client('s3')\n",
    "s3.upload_file(output_path, 'traffic-collisions-bucket', 'plots/Distribution_of_Victim_Ages.png')\n"
   ]
  },
  {
   "cell_type": "markdown",
   "metadata": {
    "id": "C86jRBaLcam7"
   },
   "source": [
    "##**3.1.5. Collision Severity vs Number of Victims.** <font color = red>[5 marks]</font> <br>\n",
    "\n",
    "Q: Study the relationship between collision severity and the number of victims."
   ]
  },
  {
   "cell_type": "code",
   "execution_count": 44,
   "metadata": {
    "execution": {
     "iopub.execute_input": "2025-06-16T05:19:11.034505Z",
     "iopub.status.busy": "2025-06-16T05:19:11.034248Z",
     "iopub.status.idle": "2025-06-16T05:19:26.365790Z",
     "shell.execute_reply": "2025-06-16T05:19:26.364757Z",
     "shell.execute_reply.started": "2025-06-16T05:19:11.034474Z"
    },
    "id": "VrXColT_u6OG",
    "tags": []
   },
   "outputs": [
    {
     "data": {
      "application/vnd.jupyter.widget-view+json": {
       "model_id": "0195223670684ef7872da87ac611d994",
       "version_major": 2,
       "version_minor": 0
      },
      "text/plain": [
       "VBox()"
      ]
     },
     "metadata": {},
     "output_type": "display_data"
    },
    {
     "data": {
      "application/vnd.jupyter.widget-view+json": {
       "model_id": "",
       "version_major": 2,
       "version_minor": 0
      },
      "text/plain": [
       "FloatProgress(value=0.0, bar_style='info', description='Progress:', layout=Layout(height='25px', width='50%'),…"
      ]
     },
     "metadata": {},
     "output_type": "display_data"
    },
    {
     "name": "stdout",
     "output_type": "stream",
     "text": [
      "Plot saved to /tmp/Collision_Severity_vs_Total_Number_of_Victims.png\n",
      "<stdin>:17: FutureWarning: \n",
      "\n",
      "Passing `palette` without assigning `hue` is deprecated and will be removed in v0.14.0. Assign the `x` variable to `hue` and set `legend=False` for the same effect."
     ]
    }
   ],
   "source": [
    "# Bivariate Analysis\n",
    "\n",
    "# Collision Severity vs. Number of Victims\n",
    "victims_by_severity_df = collisions_df.groupBy(\"collision_severity\").agg(\n",
    "    F.sum(\"injured_victims\").alias(\"total_injured_victims\"),\n",
    "    F.sum(\"killed_victims\").alias(\"total_killed_victims\")\n",
    ")\n",
    "victims_by_severity_df = victims_by_severity_df.withColumn(\n",
    "    \"total_victims\", victims_by_severity_df[\"total_injured_victims\"] + victims_by_severity_df[\"total_killed_victims\"]\n",
    ")\n",
    "\n",
    "# Convert to Pandas\n",
    "victims_by_severity_pd = victims_by_severity_df.toPandas()\n",
    "\n",
    "# Plot\n",
    "plt.figure(figsize=(10, 6))\n",
    "sns.barplot(data=victims_by_severity_pd, x='collision_severity', y='total_victims', palette='viridis')\n",
    "\n",
    "# Step 5: Title and labels\n",
    "plt.title(\"Collision Severity vs. Total Number of Victims\")\n",
    "plt.xlabel(\"Collision Severity\")\n",
    "plt.ylabel(\"Total Number of Victims\")\n",
    "plt.xticks(rotation=45)\n",
    "plt.grid(True)\n",
    "plt.tight_layout()\n",
    "\n",
    "# Step 6: Show the plot\n",
    "plt.show()\n",
    "\n",
    "\n",
    "# Save plot\n",
    "output_path = \"/tmp/Collision_Severity_vs_Total_Number_of_Victims.png\"\n",
    "plt.savefig(output_path)\n",
    "print(f\"Plot saved to {output_path}\")\n",
    "\n",
    "# Upload to S3\n",
    "import boto3\n",
    "s3 = boto3.client('s3')\n",
    "s3.upload_file(output_path, 'traffic-collisions-bucket', 'plots/Collision_Severity_vs_Total_Number_of_Victims.png')\n"
   ]
  },
  {
   "cell_type": "markdown",
   "metadata": {
    "id": "UNP0WTOqcdY6"
   },
   "source": [
    "##**3.1.6. Weather Conditions vs Collision Severity.** <font color = red>[5 marks]</font> <br>\n",
    "\n",
    "Q: Analyze the correlation between weather conditions and collision severity."
   ]
  },
  {
   "cell_type": "code",
   "execution_count": 45,
   "metadata": {
    "execution": {
     "iopub.execute_input": "2025-06-16T05:20:42.531500Z",
     "iopub.status.busy": "2025-06-16T05:20:42.531235Z",
     "iopub.status.idle": "2025-06-16T05:20:57.855845Z",
     "shell.execute_reply": "2025-06-16T05:20:57.854307Z",
     "shell.execute_reply.started": "2025-06-16T05:20:42.531467Z"
    },
    "id": "0lLGClfOvBPQ",
    "tags": []
   },
   "outputs": [
    {
     "data": {
      "application/vnd.jupyter.widget-view+json": {
       "model_id": "4f88dffabfd14c68bf523ee0813b9f37",
       "version_major": 2,
       "version_minor": 0
      },
      "text/plain": [
       "VBox()"
      ]
     },
     "metadata": {},
     "output_type": "display_data"
    },
    {
     "data": {
      "application/vnd.jupyter.widget-view+json": {
       "model_id": "",
       "version_major": 2,
       "version_minor": 0
      },
      "text/plain": [
       "FloatProgress(value=0.0, bar_style='info', description='Progress:', layout=Layout(height='25px', width='50%'),…"
      ]
     },
     "metadata": {},
     "output_type": "display_data"
    },
    {
     "name": "stdout",
     "output_type": "stream",
     "text": [
      "Plot saved to /tmp/Weather_Condition_vs_Collision_Severity.png"
     ]
    }
   ],
   "source": [
    "# Weather vs. Collision Severity\n",
    "weather_vs_severity_df = collisions_df.groupBy(\"weather_1\", \"collision_severity\").count()\n",
    "\n",
    "# Convert to Pandas\n",
    "weather_vs_severity_pd = weather_vs_severity_df.toPandas()\n",
    "\n",
    "# Plot\n",
    "plt.figure(figsize=(12, 6))\n",
    "sns.barplot(data=weather_vs_severity_pd, x='weather_1', y='count', hue='collision_severity', palette='viridis')\n",
    "\n",
    "# Step 4: Title and labels\n",
    "plt.title(\"Weather Condition vs. Collision Severity\")\n",
    "plt.xlabel(\"Weather Condition\")\n",
    "plt.ylabel(\"Number of Collisions\")\n",
    "plt.xticks(rotation=45)\n",
    "plt.legend(title=\"Collision Severity\", bbox_to_anchor=(1.05, 1), loc='upper left')\n",
    "plt.tight_layout()\n",
    "\n",
    "# Step 5: Show the plot\n",
    "plt.show()\n",
    "\n",
    "# Save plot\n",
    "output_path = \"/tmp/Weather_Condition_vs_Collision_Severity.png\"\n",
    "plt.savefig(output_path)\n",
    "print(f\"Plot saved to {output_path}\")\n",
    "\n",
    "# Upload to S3\n",
    "import boto3\n",
    "s3 = boto3.client('s3')\n",
    "s3.upload_file(output_path, 'traffic-collisions-bucket', 'plots/Weather_Condition_vs_Collision_Severity.png')"
   ]
  },
  {
   "cell_type": "markdown",
   "metadata": {
    "id": "iGAPJU_zcipJ"
   },
   "source": [
    "##**3.1.7. Lighting conditions vs Collision Severity.** <font color = red>[5 marks]</font> <br>\n",
    "\n",
    "Q:Visualize the impact of lighting conditions on collision severity."
   ]
  },
  {
   "cell_type": "code",
   "execution_count": 46,
   "metadata": {
    "execution": {
     "iopub.execute_input": "2025-06-16T05:21:25.137586Z",
     "iopub.status.busy": "2025-06-16T05:21:25.137339Z",
     "iopub.status.idle": "2025-06-16T05:21:30.420035Z",
     "shell.execute_reply": "2025-06-16T05:21:30.418965Z",
     "shell.execute_reply.started": "2025-06-16T05:21:25.137556Z"
    },
    "id": "yVmFYwqlvONW",
    "tags": []
   },
   "outputs": [
    {
     "data": {
      "application/vnd.jupyter.widget-view+json": {
       "model_id": "fb29c2f426fa406f90feebbcca53c6af",
       "version_major": 2,
       "version_minor": 0
      },
      "text/plain": [
       "VBox()"
      ]
     },
     "metadata": {},
     "output_type": "display_data"
    },
    {
     "data": {
      "application/vnd.jupyter.widget-view+json": {
       "model_id": "",
       "version_major": 2,
       "version_minor": 0
      },
      "text/plain": [
       "FloatProgress(value=0.0, bar_style='info', description='Progress:', layout=Layout(height='25px', width='50%'),…"
      ]
     },
     "metadata": {},
     "output_type": "display_data"
    },
    {
     "name": "stdout",
     "output_type": "stream",
     "text": [
      "Plot saved to /tmp/Lighting_Conditions_vs_Collision_Severity.png\n",
      "<stdin>:8: RuntimeWarning: More than 20 figures have been opened. Figures created through the pyplot interface (`matplotlib.pyplot.figure`) are retained until explicitly closed and may consume too much memory. (To control this warning, see the rcParam `figure.max_open_warning`). Consider using `matplotlib.pyplot.close()`."
     ]
    }
   ],
   "source": [
    "# Lighting Conditions vs. Collision Severity\n",
    "lighting_severity_df = collisions_df.groupBy(\"lighting\", \"collision_severity\").count()\n",
    "\n",
    "# Convert to Pandas\n",
    "lighting_severity_pd = lighting_severity_df.toPandas()\n",
    "\n",
    "# Plot\n",
    "plt.figure(figsize=(12, 6))\n",
    "sns.barplot(\n",
    "    data=lighting_severity_pd,\n",
    "    x=\"lighting\",\n",
    "    y=\"count\",\n",
    "    hue=\"collision_severity\",\n",
    "    palette=\"viridis\"\n",
    ")\n",
    "\n",
    "# Aesthetics\n",
    "plt.title(\"Lighting Conditions vs. Collision Severity\")\n",
    "plt.xlabel(\"Lighting Condition\")\n",
    "plt.ylabel(\"Number of Collisions\")\n",
    "plt.xticks(rotation=45)\n",
    "plt.legend(title=\"Collision Severity\", bbox_to_anchor=(1.05, 1), loc='upper left')\n",
    "plt.tight_layout()\n",
    "\n",
    "plt.show()\n",
    "\n",
    "# Save plot\n",
    "output_path = \"/tmp/Lighting_Conditions_vs_Collision_Severity.png\"\n",
    "plt.savefig(output_path)\n",
    "print(f\"Plot saved to {output_path}\")\n",
    "\n",
    "# Upload to S3\n",
    "import boto3\n",
    "s3 = boto3.client('s3')\n",
    "s3.upload_file(output_path, 'traffic-collisions-bucket', 'plots/Lighting_Conditions_vs_Collision_Severity.png')"
   ]
  },
  {
   "cell_type": "markdown",
   "metadata": {
    "id": "5168vybFclCb"
   },
   "source": [
    "##**3.1.8. Weekday-Wise Collision Trends.** <font color = red>[7 marks]</font> <br>\n",
    "\n",
    "Q: Extract and analyze weekday-wise collision trends."
   ]
  },
  {
   "cell_type": "code",
   "execution_count": 47,
   "metadata": {
    "execution": {
     "iopub.execute_input": "2025-06-16T05:22:11.858145Z",
     "iopub.status.busy": "2025-06-16T05:22:11.857846Z",
     "iopub.status.idle": "2025-06-16T05:22:17.142502Z",
     "shell.execute_reply": "2025-06-16T05:22:17.141423Z",
     "shell.execute_reply.started": "2025-06-16T05:22:11.858114Z"
    },
    "id": "bthZFxXfvlU-",
    "tags": []
   },
   "outputs": [
    {
     "data": {
      "application/vnd.jupyter.widget-view+json": {
       "model_id": "2f79344947064b1db231944c41968302",
       "version_major": 2,
       "version_minor": 0
      },
      "text/plain": [
       "VBox()"
      ]
     },
     "metadata": {},
     "output_type": "display_data"
    },
    {
     "data": {
      "application/vnd.jupyter.widget-view+json": {
       "model_id": "",
       "version_major": 2,
       "version_minor": 0
      },
      "text/plain": [
       "FloatProgress(value=0.0, bar_style='info', description='Progress:', layout=Layout(height='25px', width='50%'),…"
      ]
     },
     "metadata": {},
     "output_type": "display_data"
    },
    {
     "name": "stdout",
     "output_type": "stream",
     "text": [
      "Plot saved to /tmp/Number_of_Collisions_per_Weekday.png\n",
      "<stdin>:23: FutureWarning: \n",
      "\n",
      "Passing `palette` without assigning `hue` is deprecated and will be removed in v0.14.0. Assign the `x` variable to `hue` and set `legend=False` for the same effect."
     ]
    }
   ],
   "source": [
    "# Extract the weekday\n",
    "from pyspark.sql.functions import col, to_date, date_format\n",
    "\n",
    "# Step 1: Ensure date is in date format\n",
    "collisions_df = collisions_df.withColumn(\"collision_date\", to_date(\"collision_date\"))\n",
    "\n",
    "# Step 2: Extract weekday name\n",
    "collisions_df = collisions_df.withColumn(\"weekday\", date_format(\"collision_date\", \"EEEE\"))\n",
    "\n",
    "# Step 3: Group by weekday and count\n",
    "weekday_df = collisions_df.groupBy(\"weekday\").count()\n",
    "\n",
    "# Step 4: Convert to Pandas\n",
    "weekday_pd = weekday_df.toPandas()\n",
    "\n",
    "# Step 5: Order weekdays correctly\n",
    "weekday_order = ['Monday', 'Tuesday', 'Wednesday', 'Thursday', 'Friday', 'Saturday', 'Sunday']\n",
    "weekday_pd[\"weekday\"] = pd.Categorical(weekday_pd[\"weekday\"], categories=weekday_order, ordered=True)\n",
    "weekday_pd = weekday_pd.sort_values(\"weekday\")\n",
    "\n",
    "# Plot\n",
    "plt.figure(figsize=(10, 6))\n",
    "sns.barplot(data=weekday_pd, x=\"weekday\", y=\"count\", palette=\"crest\")\n",
    "\n",
    "plt.title(\"Number of Collisions per Weekday\")\n",
    "plt.xlabel(\"Day of the Week\")\n",
    "plt.ylabel(\"Number of Collisions\")\n",
    "plt.xticks(rotation=45)\n",
    "plt.grid(True)\n",
    "plt.tight_layout()\n",
    "plt.show()\n",
    "\n",
    "# Save plot\n",
    "output_path = \"/tmp/Number_of_Collisions_per_Weekday.png\"\n",
    "plt.savefig(output_path)\n",
    "print(f\"Plot saved to {output_path}\")\n",
    "\n",
    "# Upload to S3\n",
    "import boto3\n",
    "s3 = boto3.client('s3')\n",
    "s3.upload_file(output_path, 'traffic-collisions-bucket', 'plots/Number_of_Collisions_per_Weekday.png')\n"
   ]
  },
  {
   "cell_type": "markdown",
   "metadata": {
    "id": "pJ68_4HLcsFr"
   },
   "source": [
    "##**3.1.9. Spatial Distribution of Collisions.** <font color = red>[7 marks]</font> <br>\n",
    "\n",
    "Q: Study spatial distribution of collisions by county."
   ]
  },
  {
   "cell_type": "code",
   "execution_count": 48,
   "metadata": {
    "execution": {
     "iopub.execute_input": "2025-06-16T05:23:09.233959Z",
     "iopub.status.busy": "2025-06-16T05:23:09.233648Z",
     "iopub.status.idle": "2025-06-16T05:23:16.524687Z",
     "shell.execute_reply": "2025-06-16T05:23:16.523744Z",
     "shell.execute_reply.started": "2025-06-16T05:23:09.233914Z"
    },
    "id": "092J8SjtxUs4",
    "tags": []
   },
   "outputs": [
    {
     "data": {
      "application/vnd.jupyter.widget-view+json": {
       "model_id": "947c5a155ab64d9a98c1c3beec8f98aa",
       "version_major": 2,
       "version_minor": 0
      },
      "text/plain": [
       "VBox()"
      ]
     },
     "metadata": {},
     "output_type": "display_data"
    },
    {
     "data": {
      "application/vnd.jupyter.widget-view+json": {
       "model_id": "",
       "version_major": 2,
       "version_minor": 0
      },
      "text/plain": [
       "FloatProgress(value=0.0, bar_style='info', description='Progress:', layout=Layout(height='25px', width='50%'),…"
      ]
     },
     "metadata": {},
     "output_type": "display_data"
    },
    {
     "name": "stdout",
     "output_type": "stream",
     "text": [
      "Plot saved to /tmp/Spatial_Distribution_of_Collisions.png\n",
      "\n",
      "Total valid coordinates plotted: 266742"
     ]
    }
   ],
   "source": [
    "# Spatial Analysis\n",
    "from pyspark.sql.functions import col\n",
    "\n",
    "# Collision Density by County\n",
    "# Step 1: Ensure the columns exist\n",
    "collisions_df_copy = spark.read.option(\"header\", True).csv(collisions_path)\n",
    "\n",
    "collisions_df_copy = (\n",
    "    collisions_df_copy\n",
    "    .withColumn(\"latitude\", col(\"latitude\").cast(DoubleType()))\n",
    "    .withColumn(\"longitude\", col(\"longitude\").cast(DoubleType()))\n",
    ")\n",
    "\n",
    "# Step 2: Filter out invalid/missing coordinates in PySpark\n",
    "map_df = collisions_df_copy.filter(\n",
    "    (col(\"latitude\").isNotNull()) & (col(\"longitude\").isNotNull()) &\n",
    "    (col(\"latitude\") != 0) & (col(\"longitude\") != 0)\n",
    ")\n",
    "map_pd = map_df.select(\"latitude\", \"longitude\").toPandas()\n",
    "\n",
    "# Plot the map\n",
    "plt.figure(figsize=(10, 6))\n",
    "plt.scatter(map_pd[\"longitude\"], map_pd[\"latitude\"], alpha=0.2, s=10, c='blue')\n",
    "\n",
    "plt.title(\"Spatial Distribution of Collisions\")\n",
    "plt.xlabel(\"Longitude\")\n",
    "plt.ylabel(\"Latitude\")\n",
    "plt.grid(True)\n",
    "plt.tight_layout()\n",
    "plt.show()\n",
    "\n",
    "# Save plot\n",
    "output_path = \"/tmp/Spatial_Distribution_of_Collisions.png\"\n",
    "plt.savefig(output_path)\n",
    "print(f\"Plot saved to {output_path}\")\n",
    "\n",
    "# Upload to S3\n",
    "import boto3\n",
    "s3 = boto3.client('s3')\n",
    "s3.upload_file(output_path, 'traffic-collisions-bucket', 'plots/Spatial_Distribution_of_Collisions.png')\n",
    "\n",
    "# Optional: Print number of plotted points\n",
    "print(f\"\\nTotal valid coordinates plotted: {len(map_pd)}\")\n",
    "\n"
   ]
  },
  {
   "cell_type": "markdown",
   "metadata": {
    "id": "6qA-drC_c0va"
   },
   "source": [
    "##**3.1.10. Collision Analysis by Geography.** <font color = red>[6 marks]</font> <br>\n",
    "\n",
    "Q: Generate a scatter plot to analyze collision locations geographically."
   ]
  },
  {
   "cell_type": "code",
   "execution_count": 49,
   "metadata": {
    "execution": {
     "iopub.execute_input": "2025-06-16T05:23:50.191823Z",
     "iopub.status.busy": "2025-06-16T05:23:50.191543Z",
     "iopub.status.idle": "2025-06-16T05:23:55.499485Z",
     "shell.execute_reply": "2025-06-16T05:23:55.498112Z",
     "shell.execute_reply.started": "2025-06-16T05:23:50.191771Z"
    },
    "id": "6umQP5zSynJ7",
    "tags": []
   },
   "outputs": [
    {
     "data": {
      "application/vnd.jupyter.widget-view+json": {
       "model_id": "3ed4da9bbcf34afe93e2b70f5123e4b7",
       "version_major": 2,
       "version_minor": 0
      },
      "text/plain": [
       "VBox()"
      ]
     },
     "metadata": {},
     "output_type": "display_data"
    },
    {
     "data": {
      "application/vnd.jupyter.widget-view+json": {
       "model_id": "",
       "version_major": 2,
       "version_minor": 0
      },
      "text/plain": [
       "FloatProgress(value=0.0, bar_style='info', description='Progress:', layout=Layout(height='25px', width='50%'),…"
      ]
     },
     "metadata": {},
     "output_type": "display_data"
    },
    {
     "name": "stdout",
     "output_type": "stream",
     "text": [
      "Plot saved to /tmp/Scatter_Plot_of_Collision_Locations.png\n",
      "\n",
      "Total valid coordinates plotted: 266742"
     ]
    }
   ],
   "source": [
    "# Scatter Plot of Collision Locations\n",
    "collisions_df_copy = (\n",
    "    collisions_df_copy\n",
    "    .withColumn(\"latitude\", col(\"latitude\").cast(DoubleType()))\n",
    "    .withColumn(\"longitude\", col(\"longitude\").cast(DoubleType()))\n",
    ")\n",
    "\n",
    "\n",
    "# Convert PySpark DataFrame to Pandas, handling potential missing values\n",
    "map_df = collisions_df_copy.filter(\n",
    "    (col(\"latitude\").isNotNull()) & (col(\"longitude\").isNotNull()) &\n",
    "    (col(\"latitude\") != 0) & (col(\"longitude\") != 0)\n",
    ")\n",
    "map_pd = map_df.select(\"latitude\", \"longitude\").toPandas()\n",
    "\n",
    "# Convert to numeric (if needed) and handle invalid data\n",
    "\n",
    "# Plot the scatter plot\n",
    "plt.figure(figsize=(10, 6))\n",
    "plt.scatter(map_pd[\"longitude\"], map_pd[\"latitude\"], alpha=0.2, s=10, c='blue')\n",
    "\n",
    "plt.title(\"Scatter Plot of Collision Locations\")\n",
    "plt.xlabel(\"Longitude\")\n",
    "plt.ylabel(\"Latitude\")\n",
    "plt.grid(True)\n",
    "plt.tight_layout()\n",
    "plt.show()\n",
    "\n",
    "# Save plot\n",
    "output_path = \"/tmp/Scatter_Plot_of_Collision_Locations.png\"\n",
    "plt.savefig(output_path)\n",
    "print(f\"Plot saved to {output_path}\")\n",
    "\n",
    "# Upload to S3\n",
    "import boto3\n",
    "s3 = boto3.client('s3')\n",
    "s3.upload_file(output_path, 'traffic-collisions-bucket', 'plots/Scatter_Plot_of_Collision_Locations.png')\n",
    "\n",
    "# Step 5: Optional count of valid records\n",
    "print(f\"\\nTotal valid coordinates plotted: {len(map_pd)}\")"
   ]
  },
  {
   "cell_type": "markdown",
   "metadata": {
    "id": "-KdMCtpy1ccv"
   },
   "source": [
    "##**3.1.11. Collision Trends Over Time.** <font color = red>[10 marks]</font> <br>\n",
    "\n",
    "Extract and analyzing collision trends over time."
   ]
  },
  {
   "cell_type": "code",
   "execution_count": 50,
   "metadata": {
    "execution": {
     "iopub.execute_input": "2025-06-16T05:24:23.201934Z",
     "iopub.status.busy": "2025-06-16T05:24:23.201664Z",
     "iopub.status.idle": "2025-06-16T05:24:30.492409Z",
     "shell.execute_reply": "2025-06-16T05:24:30.491157Z",
     "shell.execute_reply.started": "2025-06-16T05:24:23.201903Z"
    },
    "id": "MF5v2dIv0kdD",
    "tags": []
   },
   "outputs": [
    {
     "data": {
      "application/vnd.jupyter.widget-view+json": {
       "model_id": "520114343bc646ea9c2282747e8a3bdc",
       "version_major": 2,
       "version_minor": 0
      },
      "text/plain": [
       "VBox()"
      ]
     },
     "metadata": {},
     "output_type": "display_data"
    },
    {
     "data": {
      "application/vnd.jupyter.widget-view+json": {
       "model_id": "",
       "version_major": 2,
       "version_minor": 0
      },
      "text/plain": [
       "FloatProgress(value=0.0, bar_style='info', description='Progress:', layout=Layout(height='25px', width='50%'),…"
      ]
     },
     "metadata": {},
     "output_type": "display_data"
    },
    {
     "name": "stdout",
     "output_type": "stream",
     "text": [
      "Plot saved to /tmp/Collisions_by_Month.png\n",
      "<stdin>:14: FutureWarning: \n",
      "\n",
      "Passing `palette` without assigning `hue` is deprecated and will be removed in v0.14.0. Assign the `x` variable to `hue` and set `legend=False` for the same effect."
     ]
    }
   ],
   "source": [
    "from pyspark.sql.functions import year, month, hour, to_timestamp, col\n",
    "\n",
    "# Extract year and month from collision_date\n",
    "collisions_df = collisions_df.withColumn(\"collision_date\", to_date(col(\"collision_date\")))\n",
    "\n",
    "collisions_df = collisions_df.withColumn(\"year\", year(\"collision_date\"))\n",
    "collisions_df = collisions_df.withColumn(\"month\", month(\"collision_date\"))\n",
    "\n",
    "# Plot\n",
    "date_stats_pd = collisions_df.select(\"year\", \"month\").dropna().toPandas()\n",
    "\n",
    "# Plotting collisions by month\n",
    "plt.figure(figsize=(10, 6))\n",
    "sns.countplot(data=date_stats_pd, x=\"month\", palette=\"Blues\")\n",
    "\n",
    "plt.title(\"Collisions by Month\")\n",
    "plt.xlabel(\"Month\")\n",
    "plt.ylabel(\"Count\")\n",
    "plt.grid(True)\n",
    "plt.tight_layout()\n",
    "plt.show()\n",
    "\n",
    "# Save plot\n",
    "output_path = \"/tmp/Collisions_by_Month.png\"\n",
    "plt.savefig(output_path)\n",
    "print(f\"Plot saved to {output_path}\")\n",
    "\n",
    "# Upload to S3\n",
    "import boto3\n",
    "s3 = boto3.client('s3')\n",
    "s3.upload_file(output_path, 'traffic-collisions-bucket', 'plots/Collisions_by_Month.png')"
   ]
  },
  {
   "cell_type": "markdown",
   "metadata": {
    "id": "NN9Opz_gc62p"
   },
   "source": [
    "Q: Analyze yearly, monthly and hourly trends in collisions."
   ]
  },
  {
   "cell_type": "code",
   "execution_count": 51,
   "metadata": {
    "execution": {
     "iopub.execute_input": "2025-06-16T05:24:59.718933Z",
     "iopub.status.busy": "2025-06-16T05:24:59.718653Z",
     "iopub.status.idle": "2025-06-16T05:25:05.012425Z",
     "shell.execute_reply": "2025-06-16T05:25:05.011330Z",
     "shell.execute_reply.started": "2025-06-16T05:24:59.718902Z"
    },
    "id": "HCNrHT011hs7",
    "tags": []
   },
   "outputs": [
    {
     "data": {
      "application/vnd.jupyter.widget-view+json": {
       "model_id": "91dbaf97c30f41d58fe67c0cf006f787",
       "version_major": 2,
       "version_minor": 0
      },
      "text/plain": [
       "VBox()"
      ]
     },
     "metadata": {},
     "output_type": "display_data"
    },
    {
     "data": {
      "application/vnd.jupyter.widget-view+json": {
       "model_id": "",
       "version_major": 2,
       "version_minor": 0
      },
      "text/plain": [
       "FloatProgress(value=0.0, bar_style='info', description='Progress:', layout=Layout(height='25px', width='50%'),…"
      ]
     },
     "metadata": {},
     "output_type": "display_data"
    },
    {
     "name": "stdout",
     "output_type": "stream",
     "text": [
      "Plot saved to /tmp/Yearly_Trend_of_Collisions.png"
     ]
    }
   ],
   "source": [
    "# Yearly Trend of Collisions\n",
    "collisions_df = collisions_df.withColumn(\"collision_datetime\", to_timestamp(\"collision_date\"))\n",
    "collisions_df = (\n",
    "    collisions_df\n",
    "    .withColumn(\"year\", year(\"collision_datetime\"))\n",
    "    .withColumn(\"month\", month(\"collision_datetime\"))\n",
    "    .withColumn(\"hour\", hour(to_timestamp(\"collision_time\", \"HHmm\")))\n",
    ")\n",
    "yearly_df = collisions_df.groupBy(\"year\").count().orderBy(\"year\")\n",
    "yearly_pd = yearly_df.toPandas()\n",
    "\n",
    "# Plot\n",
    "plt.figure(figsize=(10, 5))\n",
    "sns.lineplot(data=yearly_pd, x=\"year\", y=\"count\", marker=\"o\", color=\"steelblue\")\n",
    "plt.title(\"Yearly Trend of Collisions\")\n",
    "plt.xlabel(\"Year\")\n",
    "plt.ylabel(\"Number of Collisions\")\n",
    "plt.grid(True)\n",
    "plt.tight_layout()\n",
    "plt.show()\n",
    "\n",
    "# Save plot\n",
    "output_path = \"/tmp/Yearly_Trend_of_Collisions.png\"\n",
    "plt.savefig(output_path)\n",
    "print(f\"Plot saved to {output_path}\")\n",
    "\n",
    "# Upload to S3\n",
    "import boto3\n",
    "s3 = boto3.client('s3')\n",
    "s3.upload_file(output_path, 'traffic-collisions-bucket', 'plots/Yearly_Trend_of_Collisions.png')"
   ]
  },
  {
   "cell_type": "code",
   "execution_count": 52,
   "metadata": {
    "execution": {
     "iopub.execute_input": "2025-06-16T05:25:29.576973Z",
     "iopub.status.busy": "2025-06-16T05:25:29.576705Z",
     "iopub.status.idle": "2025-06-16T05:25:35.201305Z",
     "shell.execute_reply": "2025-06-16T05:25:35.200426Z",
     "shell.execute_reply.started": "2025-06-16T05:25:29.576941Z"
    },
    "id": "Et6E1HEI2oAH",
    "tags": []
   },
   "outputs": [
    {
     "data": {
      "application/vnd.jupyter.widget-view+json": {
       "model_id": "93eabdc00fdc47c98720bade6cd3b278",
       "version_major": 2,
       "version_minor": 0
      },
      "text/plain": [
       "VBox()"
      ]
     },
     "metadata": {},
     "output_type": "display_data"
    },
    {
     "data": {
      "application/vnd.jupyter.widget-view+json": {
       "model_id": "",
       "version_major": 2,
       "version_minor": 0
      },
      "text/plain": [
       "FloatProgress(value=0.0, bar_style='info', description='Progress:', layout=Layout(height='25px', width='50%'),…"
      ]
     },
     "metadata": {},
     "output_type": "display_data"
    },
    {
     "name": "stdout",
     "output_type": "stream",
     "text": [
      "Plot saved to /tmp/Monthly_Trend_of_Collisions.png\n",
      "<stdin>:7: FutureWarning: \n",
      "\n",
      "Passing `palette` without assigning `hue` is deprecated and will be removed in v0.14.0. Assign the `x` variable to `hue` and set `legend=False` for the same effect."
     ]
    }
   ],
   "source": [
    "# Monthly Trend of Collisions\n",
    "monthly_df = collisions_df.groupBy(\"month\").count().orderBy(\"month\")\n",
    "monthly_pd = monthly_df.toPandas()\n",
    "\n",
    "# Plot\n",
    "plt.figure(figsize=(10, 5))\n",
    "sns.barplot(data=monthly_pd, x=\"month\", y=\"count\", palette=\"viridis\")\n",
    "plt.title(\"Monthly Trend of Collisions\")\n",
    "plt.xlabel(\"Month\")\n",
    "plt.ylabel(\"Number of Collisions\")\n",
    "plt.grid(True)\n",
    "plt.tight_layout()\n",
    "plt.show()\n",
    "\n",
    "\n",
    "# Save plot\n",
    "output_path = \"/tmp/Monthly_Trend_of_Collisions.png\"\n",
    "plt.savefig(output_path)\n",
    "print(f\"Plot saved to {output_path}\")\n",
    "\n",
    "# Upload to S3\n",
    "import boto3\n",
    "s3 = boto3.client('s3')\n",
    "s3.upload_file(output_path, 'traffic-collisions-bucket', 'plots/Monthly_Trend_of_Collisions.png')"
   ]
  },
  {
   "cell_type": "code",
   "execution_count": 27,
   "metadata": {
    "execution": {
     "iopub.execute_input": "2025-06-16T04:54:19.665781Z",
     "iopub.status.busy": "2025-06-16T04:54:19.665473Z",
     "iopub.status.idle": "2025-06-16T04:54:35.348395Z",
     "shell.execute_reply": "2025-06-16T04:54:35.346477Z",
     "shell.execute_reply.started": "2025-06-16T04:54:19.665734Z"
    },
    "id": "MIP5WyYe2y3L"
   },
   "outputs": [
    {
     "data": {
      "application/vnd.jupyter.widget-view+json": {
       "model_id": "20195067e8894a7bbad17f8f6b2ae462",
       "version_major": 2,
       "version_minor": 0
      },
      "text/plain": [
       "VBox()"
      ]
     },
     "metadata": {},
     "output_type": "display_data"
    },
    {
     "data": {
      "application/vnd.jupyter.widget-view+json": {
       "model_id": "",
       "version_major": 2,
       "version_minor": 0
      },
      "text/plain": [
       "FloatProgress(value=0.0, bar_style='info', description='Progress:', layout=Layout(height='25px', width='50%'),…"
      ]
     },
     "metadata": {},
     "output_type": "display_data"
    }
   ],
   "source": [
    "# Hourly Trend of Collisions\n",
    "from pyspark.sql.functions import col, hour, to_timestamp\n",
    "\n",
    "hourly_df = collisions_df.withColumn(\"collision_time\", to_timestamp(\"collision_time\", \"HH:mm:ss\"))\n",
    "hourly_df = hourly_df.withColumn(\"hour\", hour(\"collision_time\"))\n",
    "hourly_df = hourly_df.groupBy(\"hour\").count().orderBy(\"hour\")\n",
    "hourly_pd = hourly_df.toPandas()\n",
    "\n",
    "# Plot\n",
    "plt.figure(figsize=(10, 5))\n",
    "sns.lineplot(data=hourly_pd, x=\"hour\", y=\"count\", marker=\"o\", color=\"orange\")\n",
    "plt.title(\"Hourly Trend of Collisions\")\n",
    "plt.xlabel(\"Hour of Day\")\n",
    "plt.ylabel(\"Number of Collisions\")\n",
    "plt.xticks(range(0, 24))\n",
    "plt.grid(True)\n",
    "plt.tight_layout()\n",
    "plt.show()\n",
    "\n",
    "# Save plot\n",
    "output_path = \"/tmp/Monthly_Trend_of_Collisions.png\"\n",
    "plt.savefig(output_path)\n",
    "print(f\"Plot saved to {output_path}\")\n",
    "\n",
    "# Upload to S3\n",
    "import boto3\n",
    "s3 = boto3.client('s3')\n",
    "s3.upload_file(output_path, 'traffic-collisions-bucket', 'plots/Monthly_Trend_of_Collisions.png')"
   ]
  },
  {
   "cell_type": "markdown",
   "metadata": {
    "id": "CNPO9y2qBNsr"
   },
   "source": [
    "#**4. ETL Querying** <font color = red>[35 marks]</font> <br>"
   ]
  },
  {
   "cell_type": "markdown",
   "metadata": {
    "id": "N5sEX_8Uc-6a"
   },
   "source": [
    "##**4.1 Loading the Dataset** <font color = red>[1 marks]</font> <br>\n",
    "\n",
    "Q: Load the processed dataset as CSV files in S3 bucket."
   ]
  },
  {
   "cell_type": "code",
   "execution_count": 28,
   "metadata": {
    "execution": {
     "iopub.execute_input": "2025-06-16T04:54:35.350618Z",
     "iopub.status.busy": "2025-06-16T04:54:35.350040Z",
     "iopub.status.idle": "2025-06-16T04:55:39.186056Z",
     "shell.execute_reply": "2025-06-16T04:55:39.185080Z",
     "shell.execute_reply.started": "2025-06-16T04:54:35.350564Z"
    },
    "id": "cyBNEDe2R86y",
    "tags": []
   },
   "outputs": [
    {
     "data": {
      "application/vnd.jupyter.widget-view+json": {
       "model_id": "57cb289e95624c8e865b79f336a01cb1",
       "version_major": 2,
       "version_minor": 0
      },
      "text/plain": [
       "VBox()"
      ]
     },
     "metadata": {},
     "output_type": "display_data"
    },
    {
     "data": {
      "application/vnd.jupyter.widget-view+json": {
       "model_id": "",
       "version_major": 2,
       "version_minor": 0
      },
      "text/plain": [
       "FloatProgress(value=0.0, bar_style='info', description='Progress:', layout=Layout(height='25px', width='50%'),…"
      ]
     },
     "metadata": {},
     "output_type": "display_data"
    },
    {
     "name": "stdout",
     "output_type": "stream",
     "text": [
      "     case_id jurisdiction  ...  victim_safety_equipment_2 victim_ejected\n",
      "0  2739073.0       9252.0  ...                       None           None\n",
      "1  2748716.0       9252.0  ...                       None           None\n",
      "2  2759966.0       9252.0  ...  lap/shoulder harness used    not ejected\n",
      "3  2759966.0       9252.0  ...  lap/shoulder harness used    not ejected\n",
      "4  2784182.0       9252.0  ...                       None           None\n",
      "\n",
      "[5 rows x 95 columns]\n",
      "Data saved successfully to SQLite!"
     ]
    }
   ],
   "source": [
    "# Write your query here\n",
    "from pyspark.sql import SparkSession\n",
    "from pyspark.sql.functions import col\n",
    "import sqlite3\n",
    "import pandas as pd\n",
    "\n",
    "\n",
    "# Step 2: Define S3 file paths (replace with your actual S3 bucket name and paths)\n",
    "sample_case_ids_path = \"s3://traffic-collisions-bucket/sample_case_ids.csv\"\n",
    "sample_collisions_path = \"s3://traffic-collisions-bucket/sample_collisions.csv\"\n",
    "sample_parties_path = \"s3://traffic-collisions-bucket/sample_parties.csv\"\n",
    "sample_victims_path = \"s3://traffic-collisions-bucket/sample_victims.csv\"\n",
    "\n",
    "\n",
    "# Paths to the CSV files\n",
    "#sample_case_ids_path = \"sample_case_ids.csv\"\n",
    "#sample_collisions_path = \"sample_collisions.csv\"\n",
    "#sample_parties_path = \"sample_parties.csv\"\n",
    "#sample_victims_path = \"sample_victims.csv\"\n",
    "\n",
    "# Load the data into PySpark DataFrames\n",
    "case_ids_df = spark.read.option(\"header\", \"true\").csv(sample_case_ids_path)\n",
    "collisions_df = spark.read.option(\"header\", \"true\").csv(sample_collisions_path)\n",
    "parties_df = spark.read.option(\"header\", \"true\").csv(sample_parties_path)\n",
    "victims_df = spark.read.option(\"header\", \"true\").csv(sample_victims_path)\n",
    "\n",
    "# Convert relevant columns to appropriate data types\n",
    "collisions_df = collisions_df.withColumn(\"latitude\", col(\"latitude\").cast(\"double\")) \\\n",
    "                             .withColumn(\"longitude\", col(\"longitude\").cast(\"double\")) \\\n",
    "                             .withColumn(\"killed_victims\", col(\"killed_victims\").cast(\"integer\")) \\\n",
    "                             .withColumn(\"injured_victims\", col(\"injured_victims\").cast(\"integer\"))\n",
    "\n",
    "# If there are any nulls or invalid values, we can filter them\n",
    "collisions_df = collisions_df.filter(col(\"latitude\").isNotNull() & col(\"longitude\").isNotNull())\n",
    "\n",
    "# Example: Convert case_id to string (if not already) and filter out invalid case_ids from other DataFrames\n",
    "case_ids_df = case_ids_df.withColumn(\"case_id\", col(\"case_id\").cast(\"string\"))\n",
    "parties_df = parties_df.withColumn(\"case_id\", col(\"case_id\").cast(\"string\"))\n",
    "victims_df = victims_df.withColumn(\"case_id\", col(\"case_id\").cast(\"string\"))\n",
    "\n",
    "\n",
    "# Join all DataFrames on case_id\n",
    "merged_df = collisions_df.join(case_ids_df, on=\"case_id\", how=\"left\") \\\n",
    "                         .join(parties_df, on=\"case_id\", how=\"left\") \\\n",
    "                         .join(victims_df, on=\"case_id\", how=\"left\")\n",
    "\n",
    "\n",
    "# Convert PySpark DataFrame to Pandas DataFrame for SQLite insertion\n",
    "merged_df = merged_df.drop('id')\n",
    "merged_df = merged_df.drop('party_number')\n",
    "merged_pd = merged_df.toPandas()\n",
    "\n",
    "# Connect to SQLite database (it will create a new database if it doesn't exist)\n",
    "conn = sqlite3.connect('collisions_data.db')\n",
    "\n",
    "# Write the Pandas DataFrame to SQLite\n",
    "merged_pd.to_sql('merged_collisions', conn, if_exists='replace', index=False)\n",
    "\n",
    "# Query the SQLite database to verify data insertion\n",
    "query = \"SELECT * FROM merged_collisions LIMIT 5\"\n",
    "result = pd.read_sql(query, conn)\n",
    "print(result)\n",
    "\n",
    "# Close the SQLite connection\n",
    "conn.close()\n",
    "\n",
    "print(\"Data saved successfully to SQLite!\")"
   ]
  },
  {
   "cell_type": "code",
   "execution_count": null,
   "metadata": {},
   "outputs": [],
   "source": []
  },
  {
   "cell_type": "markdown",
   "metadata": {
    "id": "S8Ts_6JGdgCB"
   },
   "source": [
    "## **4.2. Top 5 Counties** <font color = red>[4 marks]</font> <br>\n",
    "\n",
    "Q: Identify the top 5 counties with the highest number of collisions."
   ]
  },
  {
   "cell_type": "code",
   "execution_count": 29,
   "metadata": {
    "execution": {
     "iopub.execute_input": "2025-06-16T04:55:39.187988Z",
     "iopub.status.busy": "2025-06-16T04:55:39.187675Z",
     "iopub.status.idle": "2025-06-16T04:55:39.956414Z",
     "shell.execute_reply": "2025-06-16T04:55:39.955009Z",
     "shell.execute_reply.started": "2025-06-16T04:55:39.187942Z"
    },
    "id": "i_88_Urs3dHa",
    "tags": []
   },
   "outputs": [
    {
     "data": {
      "application/vnd.jupyter.widget-view+json": {
       "model_id": "6aed5ab73c304335b80cc687ded085a6",
       "version_major": 2,
       "version_minor": 0
      },
      "text/plain": [
       "VBox()"
      ]
     },
     "metadata": {},
     "output_type": "display_data"
    },
    {
     "data": {
      "application/vnd.jupyter.widget-view+json": {
       "model_id": "",
       "version_major": 2,
       "version_minor": 0
      },
      "text/plain": [
       "FloatProgress(value=0.0, bar_style='info', description='Progress:', layout=Layout(height='25px', width='50%'),…"
      ]
     },
     "metadata": {},
     "output_type": "display_data"
    },
    {
     "name": "stdout",
     "output_type": "stream",
     "text": [
      "  county_location  collision_count\n",
      "0     los angeles            70790\n",
      "1          orange            19639\n",
      "2       riverside            17292\n",
      "3       san diego            16351\n",
      "4  san bernardino            13654"
     ]
    }
   ],
   "source": [
    "# Query: Identify the top 5 counties with the most collisions\n",
    "\n",
    "# Connect to the SQLite database\n",
    "conn = sqlite3.connect('collisions_data.db')\n",
    "\n",
    "query = \"\"\"\n",
    "SELECT county_location, COUNT(*) as collision_count\n",
    "FROM merged_collisions\n",
    "GROUP BY county_location\n",
    "ORDER BY collision_count DESC\n",
    "LIMIT 5;\n",
    "\"\"\"\n",
    "\n",
    "# Execute and show results\n",
    "top_counties = pd.read_sql(query, conn)\n",
    "print(top_counties)\n",
    "\n",
    "# Close connection\n",
    "conn.close()\n"
   ]
  },
  {
   "cell_type": "code",
   "execution_count": 30,
   "metadata": {
    "execution": {
     "iopub.execute_input": "2025-06-16T04:55:39.957933Z",
     "iopub.status.busy": "2025-06-16T04:55:39.957690Z",
     "iopub.status.idle": "2025-06-16T04:55:40.728991Z",
     "shell.execute_reply": "2025-06-16T04:55:40.727956Z",
     "shell.execute_reply.started": "2025-06-16T04:55:39.957887Z"
    },
    "tags": []
   },
   "outputs": [
    {
     "data": {
      "application/vnd.jupyter.widget-view+json": {
       "model_id": "af8debe5fd4f4ae1afb96c622aa667a4",
       "version_major": 2,
       "version_minor": 0
      },
      "text/plain": [
       "VBox()"
      ]
     },
     "metadata": {},
     "output_type": "display_data"
    },
    {
     "data": {
      "application/vnd.jupyter.widget-view+json": {
       "model_id": "",
       "version_major": 2,
       "version_minor": 0
      },
      "text/plain": [
       "FloatProgress(value=0.0, bar_style='info', description='Progress:', layout=Layout(height='25px', width='50%'),…"
      ]
     },
     "metadata": {},
     "output_type": "display_data"
    },
    {
     "name": "stdout",
     "output_type": "stream",
     "text": [
      "  county_location  collision_count\n",
      "0     los angeles            70790\n",
      "1          orange            19639\n",
      "2       riverside            17292\n",
      "3       san diego            16351\n",
      "4  san bernardino            13654"
     ]
    }
   ],
   "source": [
    "import sqlite3\n",
    "\n",
    "# Assuming merged_collisions is a Pandas DataFrame\n",
    "conn = sqlite3.connect('collisions_data.db')\n",
    "\n",
    "# Write the DataFrame to SQLite table\n",
    "#merged_collisions.to_sql(\"merged_collisions\", conn, if_exists=\"replace\", index=False)\n",
    "\n",
    "# Now run your query\n",
    "query = \"\"\"\n",
    "SELECT county_location, COUNT(*) as collision_count\n",
    "FROM merged_collisions\n",
    "GROUP BY county_location\n",
    "ORDER BY collision_count DESC\n",
    "LIMIT 5;\n",
    "\"\"\"\n",
    "\n",
    "top_counties = pd.read_sql(query, conn)\n",
    "print(top_counties)\n",
    "\n",
    "# Close the connection\n",
    "conn.close()\n"
   ]
  },
  {
   "cell_type": "markdown",
   "metadata": {
    "id": "_I3h6B13didy"
   },
   "source": [
    "##**4.3. Month with Highest Collisions** <font color = red>[5 marks]</font> <br>\n",
    "\n",
    "Q. Identify the month with the highest number of collisions."
   ]
  },
  {
   "cell_type": "code",
   "execution_count": 31,
   "metadata": {
    "execution": {
     "iopub.execute_input": "2025-06-16T04:55:40.730469Z",
     "iopub.status.busy": "2025-06-16T04:55:40.730224Z",
     "iopub.status.idle": "2025-06-16T04:55:41.506352Z",
     "shell.execute_reply": "2025-06-16T04:55:41.505451Z",
     "shell.execute_reply.started": "2025-06-16T04:55:40.730439Z"
    },
    "id": "_9Z8nj9VCRap"
   },
   "outputs": [
    {
     "data": {
      "application/vnd.jupyter.widget-view+json": {
       "model_id": "618bfc3dbdd24ecdbcea24dcaf39ed47",
       "version_major": 2,
       "version_minor": 0
      },
      "text/plain": [
       "VBox()"
      ]
     },
     "metadata": {},
     "output_type": "display_data"
    },
    {
     "data": {
      "application/vnd.jupyter.widget-view+json": {
       "model_id": "",
       "version_major": 2,
       "version_minor": 0
      },
      "text/plain": [
       "FloatProgress(value=0.0, bar_style='info', description='Progress:', layout=Layout(height='25px', width='50%'),…"
      ]
     },
     "metadata": {},
     "output_type": "display_data"
    },
    {
     "name": "stdout",
     "output_type": "stream",
     "text": [
      "  month  collision_count\n",
      "0    10            24801"
     ]
    }
   ],
   "source": [
    "# Query: Find the month with the highest number of collisions\n",
    "\n",
    "# Connect to the SQLite database\n",
    "conn = sqlite3.connect('collisions_data.db')\n",
    "\n",
    "query = \"\"\"\n",
    "SELECT \n",
    "    strftime('%m', collision_date) AS month,\n",
    "    COUNT(*) AS collision_count\n",
    "FROM merged_collisions\n",
    "GROUP BY month\n",
    "ORDER BY collision_count DESC\n",
    "LIMIT 1;\n",
    "\"\"\"\n",
    "\n",
    "# Execute the query and store the results in a DataFrame\n",
    "result = pd.read_sql(query, conn)\n",
    "\n",
    "# Display the result to verify\n",
    "print(result)\n",
    "\n",
    "# Close the SQLite connection\n",
    "conn.close()\n"
   ]
  },
  {
   "cell_type": "markdown",
   "metadata": {
    "id": "OrgmCW6HdluR"
   },
   "source": [
    "##**4.4. Weather Conditions with Highest Collisions.** <font color = red>[5 marks]</font> <br>\n",
    "\n",
    "Q. Determine the most common weather condition during collisions."
   ]
  },
  {
   "cell_type": "code",
   "execution_count": 32,
   "metadata": {
    "execution": {
     "iopub.execute_input": "2025-06-16T04:55:41.507788Z",
     "iopub.status.busy": "2025-06-16T04:55:41.507572Z",
     "iopub.status.idle": "2025-06-16T04:55:42.285365Z",
     "shell.execute_reply": "2025-06-16T04:55:42.284328Z",
     "shell.execute_reply.started": "2025-06-16T04:55:41.507758Z"
    },
    "id": "6tRfOE9JCUZ1"
   },
   "outputs": [
    {
     "data": {
      "application/vnd.jupyter.widget-view+json": {
       "model_id": "2613c24671b04509b95c8a729e0275d0",
       "version_major": 2,
       "version_minor": 0
      },
      "text/plain": [
       "VBox()"
      ]
     },
     "metadata": {},
     "output_type": "display_data"
    },
    {
     "data": {
      "application/vnd.jupyter.widget-view+json": {
       "model_id": "",
       "version_major": 2,
       "version_minor": 0
      },
      "text/plain": [
       "FloatProgress(value=0.0, bar_style='info', description='Progress:', layout=Layout(height='25px', width='50%'),…"
      ]
     },
     "metadata": {},
     "output_type": "display_data"
    },
    {
     "name": "stdout",
     "output_type": "stream",
     "text": [
      "  weather_1  collision_count\n",
      "0     clear           223997"
     ]
    }
   ],
   "source": [
    "# Query: Find the most common weather condition during collisions\n",
    "\n",
    "conn = sqlite3.connect('collisions_data.db')\n",
    "\n",
    "# SQL query to get the most common weather condition\n",
    "query = \"\"\"\n",
    "SELECT weather_1, COUNT(*) as collision_count\n",
    "FROM merged_collisions\n",
    "GROUP BY weather_1\n",
    "ORDER BY collision_count DESC\n",
    "LIMIT 1;\n",
    "\"\"\"\n",
    "\n",
    "# Execute and display the result\n",
    "common_weather = pd.read_sql(query, conn)\n",
    "print(common_weather)\n",
    "\n",
    "# Close the connection\n",
    "conn.close()"
   ]
  },
  {
   "cell_type": "markdown",
   "metadata": {
    "id": "__wjubw8dpER"
   },
   "source": [
    "##**4.5. Fatal Collisions.** <font color = red>[5 marks]</font> <br>\n",
    "\n",
    "Q. Calculate the percentage of collisions that resulted in fatalities."
   ]
  },
  {
   "cell_type": "code",
   "execution_count": 33,
   "metadata": {
    "execution": {
     "iopub.execute_input": "2025-06-16T04:55:42.286939Z",
     "iopub.status.busy": "2025-06-16T04:55:42.286658Z",
     "iopub.status.idle": "2025-06-16T04:55:42.552956Z",
     "shell.execute_reply": "2025-06-16T04:55:42.551695Z",
     "shell.execute_reply.started": "2025-06-16T04:55:42.286895Z"
    },
    "id": "MDShu7uyCYfh"
   },
   "outputs": [
    {
     "data": {
      "application/vnd.jupyter.widget-view+json": {
       "model_id": "8ddf6cffc08f47faaf05c441eaa925bd",
       "version_major": 2,
       "version_minor": 0
      },
      "text/plain": [
       "VBox()"
      ]
     },
     "metadata": {},
     "output_type": "display_data"
    },
    {
     "data": {
      "application/vnd.jupyter.widget-view+json": {
       "model_id": "",
       "version_major": 2,
       "version_minor": 0
      },
      "text/plain": [
       "FloatProgress(value=0.0, bar_style='info', description='Progress:', layout=Layout(height='25px', width='50%'),…"
      ]
     },
     "metadata": {},
     "output_type": "display_data"
    },
    {
     "name": "stdout",
     "output_type": "stream",
     "text": [
      "   fatality_percentage\n",
      "0                  0.0"
     ]
    }
   ],
   "source": [
    "# Query: Determine the percentage of collisions that resulted in fatalities\n",
    "conn = sqlite3.connect('collisions_data.db')\n",
    "\n",
    "query = \"\"\"\n",
    "SELECT \n",
    "    ROUND(100.0 * SUM(CASE WHEN CAST(killed_victims AS INTEGER) > 0 THEN 1 ELSE 0 END) / COUNT(*), 2) AS fatality_percentage\n",
    "FROM merged_collisions;\n",
    "\"\"\"\n",
    "\n",
    "# Execute and display the result\n",
    "fatality_percentage = pd.read_sql(query, conn)\n",
    "print(fatality_percentage)\n",
    "\n",
    "# Close the connection\n",
    "conn.close()"
   ]
  },
  {
   "cell_type": "markdown",
   "metadata": {
    "id": "7xZmWUeXdvTy"
   },
   "source": [
    "##**4.6. Dangerous Time for Collisions.** <font color = red>[5 marks]</font> <br>\n",
    "\n",
    "Q. Find the most dangerous time of day for collisions."
   ]
  },
  {
   "cell_type": "code",
   "execution_count": 34,
   "metadata": {
    "execution": {
     "iopub.execute_input": "2025-06-16T04:55:42.554854Z",
     "iopub.status.busy": "2025-06-16T04:55:42.554545Z",
     "iopub.status.idle": "2025-06-16T04:55:43.319082Z",
     "shell.execute_reply": "2025-06-16T04:55:43.317951Z",
     "shell.execute_reply.started": "2025-06-16T04:55:42.554806Z"
    },
    "id": "cWlQetLNCh9h"
   },
   "outputs": [
    {
     "data": {
      "application/vnd.jupyter.widget-view+json": {
       "model_id": "755ade59e41a49799525f61f4f8c6884",
       "version_major": 2,
       "version_minor": 0
      },
      "text/plain": [
       "VBox()"
      ]
     },
     "metadata": {},
     "output_type": "display_data"
    },
    {
     "data": {
      "application/vnd.jupyter.widget-view+json": {
       "model_id": "",
       "version_major": 2,
       "version_minor": 0
      },
      "text/plain": [
       "FloatProgress(value=0.0, bar_style='info', description='Progress:', layout=Layout(height='25px', width='50%'),…"
      ]
     },
     "metadata": {},
     "output_type": "display_data"
    },
    {
     "name": "stdout",
     "output_type": "stream",
     "text": [
      "  hour  collision_count\n",
      "0   17            21604\n",
      "1   15            20178\n",
      "2   16            19768\n",
      "3   18            17116\n",
      "4   14            17016"
     ]
    }
   ],
   "source": [
    "# Query: Find the most dangerous time of day for collisions\n",
    "conn = sqlite3.connect('collisions_data.db')\n",
    "\n",
    "\n",
    "query = \"\"\"\n",
    "SELECT \n",
    "    SUBSTR(collision_time, 1, 2) AS hour,\n",
    "    COUNT(*) AS collision_count\n",
    "FROM merged_collisions\n",
    "WHERE collision_time IS NOT NULL AND collision_time != ''\n",
    "GROUP BY hour\n",
    "ORDER BY collision_count DESC\n",
    "LIMIT 5;\n",
    "\"\"\"\n",
    "\n",
    "# Execute the query and store the results in a DataFrame\n",
    "result = pd.read_sql(query, conn)\n",
    "\n",
    "# Display the result to verify\n",
    "print(result)\n",
    "\n",
    "# Close the SQLite connection\n",
    "conn.close()"
   ]
  },
  {
   "cell_type": "markdown",
   "metadata": {
    "id": "JyUVOUj4dxKx"
   },
   "source": [
    "##**4.7. Road Surface Conditions.** <font color = red>[5 marks]</font> <br>\n",
    "\n",
    "Q. Identify the top 5 road surface conditions with the highest collision frequency."
   ]
  },
  {
   "cell_type": "code",
   "execution_count": 35,
   "metadata": {
    "execution": {
     "iopub.execute_input": "2025-06-16T04:55:43.320510Z",
     "iopub.status.busy": "2025-06-16T04:55:43.320308Z",
     "iopub.status.idle": "2025-06-16T04:55:43.579021Z",
     "shell.execute_reply": "2025-06-16T04:55:43.577926Z",
     "shell.execute_reply.started": "2025-06-16T04:55:43.320482Z"
    },
    "id": "H-L4YSq2Ck-u"
   },
   "outputs": [
    {
     "data": {
      "application/vnd.jupyter.widget-view+json": {
       "model_id": "044e86d3766c423ebe6722ff56bcbd7e",
       "version_major": 2,
       "version_minor": 0
      },
      "text/plain": [
       "VBox()"
      ]
     },
     "metadata": {},
     "output_type": "display_data"
    },
    {
     "data": {
      "application/vnd.jupyter.widget-view+json": {
       "model_id": "",
       "version_major": 2,
       "version_minor": 0
      },
      "text/plain": [
       "FloatProgress(value=0.0, bar_style='info', description='Progress:', layout=Layout(height='25px', width='50%'),…"
      ]
     },
     "metadata": {},
     "output_type": "display_data"
    },
    {
     "name": "stdout",
     "output_type": "stream",
     "text": [
      "  road_surface  collision_count\n",
      "0          dry           246504\n",
      "1          wet            22935\n",
      "2        snowy             1369\n",
      "3     slippery              214\n",
      "4            H                4"
     ]
    }
   ],
   "source": [
    "# Query: List the top 5 road types with the highest collision frequency\n",
    "\n",
    "conn = sqlite3.connect('collisions_data.db')\n",
    "\n",
    "query = \"\"\"\n",
    "SELECT \n",
    "    road_surface,\n",
    "    COUNT(*) AS collision_count\n",
    "FROM merged_collisions\n",
    "WHERE road_surface IS NOT NULL AND road_surface != ''\n",
    "GROUP BY road_surface\n",
    "ORDER BY collision_count DESC\n",
    "LIMIT 5;\n",
    "\"\"\"\n",
    "\n",
    "# Execute the query and store the results in a DataFrame\n",
    "result = pd.read_sql(query, conn)\n",
    "\n",
    "# Display the result to verify\n",
    "print(result)\n",
    "\n",
    "# Close the SQLite connection\n",
    "conn.close()"
   ]
  },
  {
   "cell_type": "markdown",
   "metadata": {
    "id": "Ta_JXenUd1rS"
   },
   "source": [
    "##**4.8. Lighting Conditions.** <font color = red>[5 marks]</font> <br>\n",
    "\n",
    "Q. Analyze lighting conditions that contribute to the highest number of collisions."
   ]
  },
  {
   "cell_type": "code",
   "execution_count": 36,
   "metadata": {
    "execution": {
     "iopub.execute_input": "2025-06-16T04:55:43.581202Z",
     "iopub.status.busy": "2025-06-16T04:55:43.580892Z",
     "iopub.status.idle": "2025-06-16T04:55:44.357015Z",
     "shell.execute_reply": "2025-06-16T04:55:44.355994Z",
     "shell.execute_reply.started": "2025-06-16T04:55:43.581154Z"
    },
    "id": "QzTHXl27CoJX"
   },
   "outputs": [
    {
     "data": {
      "application/vnd.jupyter.widget-view+json": {
       "model_id": "61c949d970ba408f911d6a3e928ca5df",
       "version_major": 2,
       "version_minor": 0
      },
      "text/plain": [
       "VBox()"
      ]
     },
     "metadata": {},
     "output_type": "display_data"
    },
    {
     "data": {
      "application/vnd.jupyter.widget-view+json": {
       "model_id": "",
       "version_major": 2,
       "version_minor": 0
      },
      "text/plain": [
       "FloatProgress(value=0.0, bar_style='info', description='Progress:', layout=Layout(height='25px', width='50%'),…"
      ]
     },
     "metadata": {},
     "output_type": "display_data"
    },
    {
     "name": "stdout",
     "output_type": "stream",
     "text": [
      "                     lighting  collision_count\n",
      "0                    daylight           179369\n",
      "1     dark with street lights            45298\n",
      "2  dark with no street lights            35925"
     ]
    }
   ],
   "source": [
    "# Query: Find the top 3 lighting conditions that lead to the most collisions\n",
    "\n",
    "conn = sqlite3.connect('collisions_data.db')\n",
    "\n",
    "# Query to find the top 3 lighting conditions with the highest collision frequency\n",
    "query = \"\"\"\n",
    "SELECT \n",
    "    lighting,\n",
    "    COUNT(*) AS collision_count\n",
    "FROM merged_collisions\n",
    "WHERE lighting IS NOT NULL AND lighting != ''\n",
    "GROUP BY lighting\n",
    "ORDER BY collision_count DESC\n",
    "LIMIT 3;\n",
    "\"\"\"\n",
    "\n",
    "# Execute the query and store the results in a DataFrame\n",
    "result = pd.read_sql(query, conn)\n",
    "\n",
    "# Display the result to verify\n",
    "print(result)\n",
    "\n",
    "# Close the SQLite connection\n",
    "conn.close()"
   ]
  },
  {
   "cell_type": "markdown",
   "metadata": {
    "id": "T5be5VwyaLPU"
   },
   "source": [
    "#5. Conclusion <font color = red>[10 marks]</font> <br>\n",
    "\n",
    "Write your conclusion."
   ]
  },
  {
   "cell_type": "markdown",
   "metadata": {
    "id": "nxjWTRcRaWy1"
   },
   "source": [
    "# Final Insights and Recommendations\n",
    "\n",
    "In this ETL project, we successfully ingested, cleaned, transformed, and analyzed traffic collision data \n",
    "spanning several dimensions - including temporal trends, geographic patterns, weather effects, lighting conditions, \n",
    "and injury severity. Our focus was to identify key risk factors and patterns that contribute to traffic collisions \n",
    "and to derive actionable insights for road safety improvements.\n",
    "\n",
    "## Key Insights\n",
    "\n",
    "### Collision Severity Distribution\n",
    "- Most collisions were of minor or property-damage-only severity.\n",
    "- A small but significant percentage involved fatalities or serious injuries.\n",
    "\n",
    "### Temporal Trends\n",
    "- Peak collision hours were during rush hours, particularly between 4 PM and 6 PM.\n",
    "- Friday recorded the highest number of weekly collisions, while Sunday had the least.\n",
    "- The month of **October** recorded the highest number of collisions.\n",
    "\n",
    "### Weather & Road Conditions\n",
    "- Clear weather had the most collisions - likely due to higher traffic volumes.\n",
    "- Slippery or wet road surfaces also showed notable collision counts.\n",
    "- Lighting conditions like \"Dark - Street Lights\" and \"Daylight\" were major contributors.\n",
    "\n",
    "### Geographic Trends\n",
    "- The top 5 counties (e.g., **los angeles, orange, riverside, san diego, san bernardino**) consistently recorded the highest number of collisions.\n",
    "- Spatial clustering revealed dense urban collision hotspots.\n",
    "\n",
    "### Victim Demographics\n",
    "- A wide range of ages was affected, but victims aged 18-35 made up a significant portion.\n",
    "- Most victims suffered from complaint-of-pain injuries, followed by visible injuries.\n",
    "\n",
    "### Fatal Collisions\n",
    "- Only about **[0]%** of total collisions resulted in at least one fatality, but they are highly concentrated around specific hours and road types.\n",
    "\n",
    "## Recommendations\n",
    "\n",
    "### Enhanced Lighting & Infrastructure\n",
    "- Install better lighting in areas identified as high-risk under poor visibility (e.g., \"Dark - No Street Lights\").\n",
    "\n",
    "### Targeted Law Enforcement During Peak Hours\n",
    "- Increase highway patrol presence during late afternoons and weekends when collision counts spike.\n",
    "\n",
    "### Public Awareness Campaigns\n",
    "- Educate young drivers and frequent commuters on the dangers of distracted driving, especially in good weather when risk perception is low.\n",
    "\n",
    "### Focus on High-Risk Counties\n",
    "- Direct traffic safety improvements and funds to counties with the highest historical collision rates.\n",
    "\n",
    "### Predictive Modeling\n",
    "- Use the cleaned dataset as a foundation for machine learning models to predict high-risk zones and proactively prevent accidents.\n"
   ]
  },
  {
   "cell_type": "markdown",
   "metadata": {
    "id": "2cdvQqNGeKI5"
   },
   "source": [
    "#6. Visualization Integration using Tableau/ PowerBI <font color = red>[Optional]</font> <br>"
   ]
  },
  {
   "cell_type": "code",
   "execution_count": null,
   "metadata": {
    "id": "U30S_dXeTSJp"
   },
   "outputs": [],
   "source": []
  }
 ],
 "metadata": {
  "colab": {
   "provenance": [],
   "toc_visible": true
  },
  "kernelspec": {
   "display_name": "PySpark",
   "language": "python",
   "name": "pysparkkernel"
  },
  "language_info": {
   "codemirror_mode": {
    "name": "python",
    "version": 3
   },
   "file_extension": ".py",
   "mimetype": "text/x-python",
   "name": "pyspark",
   "pygments_lexer": "python3"
  }
 },
 "nbformat": 4,
 "nbformat_minor": 4
}
